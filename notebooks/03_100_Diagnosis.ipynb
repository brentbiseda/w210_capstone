{
 "cells": [
  {
   "cell_type": "markdown",
   "metadata": {},
   "source": [
    "# Pivot up top-100 diagnosis and 19 disease groups "
   ]
  },
  {
   "cell_type": "markdown",
   "metadata": {},
   "source": [
    "Beside HADM_ID and SUBJECT_ID fields\n",
    "<ul> <li> There are 100 binary columns for top-100 ICD9 codes </ul> </li>\n",
    "<ul> <li> OTHER_ICD9_CODES: This column provides unique count of other ICD9 codes associated to the admission that are not one of the top-100 codes (So this is a count column and not binary) </ul> </li>\n",
    "<ul> <li> Apart from these labels, I have included 19 grouped ICD9 fields: for example a 1 in column '001_139' represents that there is an ICD9 code for this admission which lies between 001_139 which relates to 'infectious and parasitic diseases' </ul> </li>\n",
    "<ul> <li> OTHER_ICD9_GROUP: Any group other ICD9 grouping that doesn't fall under the above 19 groups of disease areas </ul> </li>"
   ]
  },
  {
   "cell_type": "markdown",
   "metadata": {},
   "source": [
    "## 1. Pre process data tables"
   ]
  },
  {
   "cell_type": "code",
   "execution_count": null,
   "metadata": {},
   "outputs": [],
   "source": [
    "import re\n",
    "import os\n",
    "import ast\n",
    "import time\n",
    "import numpy as np\n",
    "import pandas as pd\n",
    "import matplotlib.pyplot as plt\n",
    "from pyspark.sql import SQLContext\n",
    "from pyspark.sql.types import *\n",
    "from pyspark.sql.functions import collect_list\n",
    "import pyspark.sql.functions as F\n",
    "import pyspark.sql.types as T\n",
    "from pyspark.sql import SparkSession\n",
    "import nltk\n",
    "from nltk.corpus import stopwords\n",
    "import string\n",
    "from nltk.stem import WordNetLemmatizer\n",
    "import matplotlib.pyplot as plt\n",
    "from pyspark.ml.feature import RegexTokenizer, StopWordsRemover, CountVectorizer, VectorAssembler, StringIndexer, VectorIndexer\n",
    "from pyspark.ml.classification import LogisticRegression\n",
    "from pyspark.ml import Pipeline"
   ]
  },
  {
   "cell_type": "code",
   "execution_count": 2,
   "metadata": {},
   "outputs": [],
   "source": [
    "app_name = \"ClickThrough\"\n",
    "master = \"local[*]\"\n",
    "spark = SparkSession\\\n",
    "        .builder\\\n",
    "        .appName(app_name)\\\n",
    "        .master(master)\\\n",
    "        .getOrCreate()\n",
    "sc = spark.sparkContext\n",
    "sqlContext = SQLContext(sc)"
   ]
  },
  {
   "cell_type": "markdown",
   "metadata": {},
   "source": [
    "Edit the S3 URL as per your config"
   ]
  },
  {
   "cell_type": "code",
   "execution_count": 3,
   "metadata": {},
   "outputs": [],
   "source": [
    "S3_PREFIX = 's3://'\n",
    "S3_BUCKET = '<Enter S3 bucket name>'\n",
    "S3_PATH = '<Enter S3 path>'\n",
    "S3_URL = S3_PREFIX + S3_BUCKET + S3_PATH"
   ]
  },
  {
   "cell_type": "code",
   "execution_count": 4,
   "metadata": {},
   "outputs": [],
   "source": [
    "filename_LIST = ['D_ICD_DIAGNOSES.csv','DIAGNOSES_ICD.csv','NOTEEVENTS.csv']\n",
    "for filename_LIST_ITEM in filename_LIST:\n",
    "    filename,fileformat = filename_LIST_ITEM.split('.')\n",
    "    exec(filename+'_DF = sqlContext.read.format(\"'+fileformat+'\").option(\"header\", \"true\").option(\"multiline\",True).'+\n",
    "         'option(\"escape\",'+\"'\"+'\"'+\"')\"+'.load(\"'+S3_URL+'/'\n",
    "         +filename+'.csv\")')\n",
    "    exec(filename+'_DF.createOrReplaceTempView(\"'+filename+'\")')"
   ]
  },
  {
   "cell_type": "markdown",
   "metadata": {},
   "source": [
    "### 1.1 Build HADM level diagnosis flag tables"
   ]
  },
  {
   "cell_type": "code",
   "execution_count": 6,
   "metadata": {},
   "outputs": [],
   "source": [
    "spark.sql(\"\"\"\n",
    "select A.*, B.SHORT_TITLE, B.LONG_TITLE, \n",
    "case when substr(A.ICD9_CODE,1,1) in ('E','V') then 'external causes of injury and supplemental classification'\n",
    "when substr(A.ICD9_CODE,1,3) between 001 and 139 then 'infectious and parasitic diseases'\n",
    "when substr(A.ICD9_CODE,1,3) between 140 and 239 then 'neoplasms'\n",
    "when substr(A.ICD9_CODE,1,3) between 240 and 279 then 'endocrine, nutritional and metabolic diseases, and immunity disorders'\n",
    "when substr(A.ICD9_CODE,1,3) between 280 and 289 then 'diseases of the blood and blood-forming organs'\n",
    "when substr(A.ICD9_CODE,1,3) between 290 and 319 then 'mental disorders'\n",
    "when substr(A.ICD9_CODE,1,3) between 320 and 389 then 'diseases of the nervous system and sense organs'\n",
    "when substr(A.ICD9_CODE,1,3) between 390 and 459 then 'diseases of the circulatory system'\n",
    "when substr(A.ICD9_CODE,1,3) between 460 and 519 then 'diseases of the respiratory system'\n",
    "when substr(A.ICD9_CODE,1,3) between 520 and 579 then 'diseases of the digestive system'\n",
    "when substr(A.ICD9_CODE,1,3) between 580 and 629 then 'diseases of the genitourinary system'\n",
    "when substr(A.ICD9_CODE,1,3) between 630 and 679 then 'complications of pregnancy, childbirth, and the puerperium'\n",
    "when substr(A.ICD9_CODE,1,3) between 680 and 709 then 'diseases of the skin and subcutaneous tissue'\n",
    "when substr(A.ICD9_CODE,1,3) between 710 and 739 then 'diseases of the musculoskeletal system and connective tissue'\n",
    "when substr(A.ICD9_CODE,1,3) between 740 and 759 then 'congenital anomalies'\n",
    "when substr(A.ICD9_CODE,1,3) between 760 and 779 then 'certain conditions originating in the perinatal period'\n",
    "when substr(A.ICD9_CODE,1,3) between 780 and 799 then 'symptoms, signs, and ill-defined conditions'\n",
    "when substr(A.ICD9_CODE,1,3) between 800 and 999 then 'injury and poisoning' \n",
    "end as ICD_GROUP,\n",
    "case when substr(A.ICD9_CODE,1,1) in ('E','V') then 'E_V'\n",
    "when substr(A.ICD9_CODE,1,3) between 001 and 139 then '001_139'\n",
    "when substr(A.ICD9_CODE,1,3) between 140 and 239 then '140_239'\n",
    "when substr(A.ICD9_CODE,1,3) between 240 and 279 then '240_279'\n",
    "when substr(A.ICD9_CODE,1,3) between 280 and 289 then '280_289'\n",
    "when substr(A.ICD9_CODE,1,3) between 290 and 319 then '290_319'\n",
    "when substr(A.ICD9_CODE,1,3) between 320 and 389 then '320_389'\n",
    "when substr(A.ICD9_CODE,1,3) between 390 and 459 then '390_459'\n",
    "when substr(A.ICD9_CODE,1,3) between 460 and 519 then '460_519'\n",
    "when substr(A.ICD9_CODE,1,3) between 520 and 579 then '520_579'\n",
    "when substr(A.ICD9_CODE,1,3) between 580 and 629 then '580_629'\n",
    "when substr(A.ICD9_CODE,1,3) between 630 and 679 then '630_679'\n",
    "when substr(A.ICD9_CODE,1,3) between 680 and 709 then '680_709'\n",
    "when substr(A.ICD9_CODE,1,3) between 710 and 739 then '710_739'\n",
    "when substr(A.ICD9_CODE,1,3) between 740 and 759 then '740_759'\n",
    "when substr(A.ICD9_CODE,1,3) between 760 and 779 then '760_779'\n",
    "when substr(A.ICD9_CODE,1,3) between 780 and 799 then '780_799'\n",
    "when substr(A.ICD9_CODE,1,3) between 800 and 999 then '800_999' \n",
    "end as ICD_GROUP_CODE\n",
    "from DIAGNOSES_ICD A\n",
    "left join D_ICD_DIAGNOSES B\n",
    "on A.ICD9_CODE = B.ICD9_CODE\n",
    "\"\"\").createOrReplaceTempView('DIAGNOSES_ICD_WITH_GROUPING')"
   ]
  },
  {
   "cell_type": "code",
   "execution_count": 12,
   "metadata": {},
   "outputs": [],
   "source": [
    "spark.sql(\"\"\"\n",
    "select ICD9_CODE, count(distinct HADM_ID) as FREQUENCY from \n",
    "(select DISTINCT HADM_ID, SUBJECT_ID, ICD9_CODE,ICD_GROUP_CODE \n",
    "from DIAGNOSES_ICD_WITH_GROUPING) group by ICD9_CODE order by FREQUENCY Desc limit 100\"\"\")\\\n",
    ".createOrReplaceTempView('TOP_100_ICD9')\n",
    "#DIAGNOSIS_GROUPING_PIVOT_DF = DIAGNOSIS_GROUPING_DF.groupBy('HADM_ID').pivot('ICD_GROUP_ID').count().fillna(0)\n",
    "#DIAGNOSIS_GROUPING_PIVOT_DF.createOrReplaceTempView('DIAGNOSIS_GROUPING_PIVOT')"
   ]
  },
  {
   "cell_type": "code",
   "execution_count": 26,
   "metadata": {},
   "outputs": [],
   "source": [
    "DIAGNOSIS_GROUPING_DF = spark.sql(\"\"\"\n",
    "select distinct A.HADM_ID, A.SUBJECT_ID, A.ICD_GROUP_CODE,\n",
    "case when B.include = 1 then A.ICD9_CODE else 'OTHER_CODES' end as ICD9_CODE_100 \n",
    "from DIAGNOSES_ICD_WITH_GROUPING A\n",
    "left join (select *, 1 as include from TOP_100_ICD9) B on A.ICD9_CODE = B.ICD9_CODE\n",
    "\"\"\")"
   ]
  },
  {
   "cell_type": "markdown",
   "metadata": {},
   "source": [
    "### 1.2 Pivot up Diagnosis group and top-100 codes"
   ]
  },
  {
   "cell_type": "code",
   "execution_count": 28,
   "metadata": {},
   "outputs": [],
   "source": [
    "DIAGNOSIS_ICD_GROUP_PIVOT_DF = DIAGNOSIS_GROUPING_DF.groupBy('HADM_ID','SUBJECT_ID')\\\n",
    ".pivot('ICD_GROUP_CODE').count().fillna(0)\n",
    "DIAGNOSIS_ICD_PIVOT_DF = DIAGNOSIS_GROUPING_DF.groupBy('HADM_ID','SUBJECT_ID')\\\n",
    ".pivot('ICD9_CODE_100').count().fillna(0)\n",
    "\n",
    "DIAGNOSIS_ICD_GROUP_PIVOT_DF.createOrReplaceTempView('DIAGNOSIS_ICD_GROUP_PIVOT')\n",
    "DIAGNOSIS_ICD_PIVOT_DF.createOrReplaceTempView('DIAGNOSIS_ICD_PIVOT')"
   ]
  },
  {
   "cell_type": "markdown",
   "metadata": {},
   "source": [
    "### 1.3 Combine Pivoted up ICD9 and ICD group"
   ]
  },
  {
   "cell_type": "code",
   "execution_count": 29,
   "metadata": {},
   "outputs": [],
   "source": [
    "DIAGNOSIS_PIVOT_DF = DIAGNOSIS_ICD_GROUP_PIVOT_DF\\\n",
    "                    .join(DIAGNOSIS_ICD_PIVOT_DF, on=['HADM_ID','SUBJECT_ID'], how='inner')"
   ]
  },
  {
   "cell_type": "code",
   "execution_count": 35,
   "metadata": {},
   "outputs": [],
   "source": [
    "DIAGNOSIS_PIVOT_DF.repartition(1).write.format('com.databricks.spark.csv').mode('overwrite')\\\n",
    "    .save(S3_URL+'/DIAGNOSIS_PIVOT.csv', header=True)"
   ]
  },
  {
   "cell_type": "code",
   "execution_count": 33,
   "metadata": {},
   "outputs": [
    {
     "name": "stdout",
     "output_type": "stream",
     "text": [
      "root\n",
      " |-- HADM_ID: string (nullable = true)\n",
      " |-- SUBJECT_ID: string (nullable = true)\n",
      " |-- null: long (nullable = true)\n",
      " |-- 001_139: long (nullable = true)\n",
      " |-- 140_239: long (nullable = true)\n",
      " |-- 240_279: long (nullable = true)\n",
      " |-- 280_289: long (nullable = true)\n",
      " |-- 290_319: long (nullable = true)\n",
      " |-- 320_389: long (nullable = true)\n",
      " |-- 390_459: long (nullable = true)\n",
      " |-- 460_519: long (nullable = true)\n",
      " |-- 520_579: long (nullable = true)\n",
      " |-- 580_629: long (nullable = true)\n",
      " |-- 630_679: long (nullable = true)\n",
      " |-- 680_709: long (nullable = true)\n",
      " |-- 710_739: long (nullable = true)\n",
      " |-- 740_759: long (nullable = true)\n",
      " |-- 760_779: long (nullable = true)\n",
      " |-- 780_799: long (nullable = true)\n",
      " |-- 800_999: long (nullable = true)\n",
      " |-- E_V: long (nullable = true)\n",
      " |-- 00845: long (nullable = true)\n",
      " |-- 0389: long (nullable = true)\n",
      " |-- 07054: long (nullable = true)\n",
      " |-- 2449: long (nullable = true)\n",
      " |-- 25000: long (nullable = true)\n",
      " |-- 2639: long (nullable = true)\n",
      " |-- 2720: long (nullable = true)\n",
      " |-- 2724: long (nullable = true)\n",
      " |-- 2749: long (nullable = true)\n",
      " |-- 2760: long (nullable = true)\n",
      " |-- 2761: long (nullable = true)\n",
      " |-- 2762: long (nullable = true)\n",
      " |-- 2765: long (nullable = true)\n",
      " |-- 27651: long (nullable = true)\n",
      " |-- 27652: long (nullable = true)\n",
      " |-- 2767: long (nullable = true)\n",
      " |-- 2768: long (nullable = true)\n",
      " |-- 27800: long (nullable = true)\n",
      " |-- 2851: long (nullable = true)\n",
      " |-- 28521: long (nullable = true)\n",
      " |-- 2859: long (nullable = true)\n",
      " |-- 2875: long (nullable = true)\n",
      " |-- 2930: long (nullable = true)\n",
      " |-- 30000: long (nullable = true)\n",
      " |-- 3051: long (nullable = true)\n",
      " |-- 311: long (nullable = true)\n",
      " |-- 32723: long (nullable = true)\n",
      " |-- 3572: long (nullable = true)\n",
      " |-- 4019: long (nullable = true)\n",
      " |-- 40390: long (nullable = true)\n",
      " |-- 40391: long (nullable = true)\n",
      " |-- 41071: long (nullable = true)\n",
      " |-- 4111: long (nullable = true)\n",
      " |-- 412: long (nullable = true)\n",
      " |-- 41400: long (nullable = true)\n",
      " |-- 41401: long (nullable = true)\n",
      " |-- 4168: long (nullable = true)\n",
      " |-- 4240: long (nullable = true)\n",
      " |-- 4241: long (nullable = true)\n",
      " |-- 4254: long (nullable = true)\n",
      " |-- 4271: long (nullable = true)\n",
      " |-- 42731: long (nullable = true)\n",
      " |-- 42732: long (nullable = true)\n",
      " |-- 4275: long (nullable = true)\n",
      " |-- 42789: long (nullable = true)\n",
      " |-- 4280: long (nullable = true)\n",
      " |-- 42832: long (nullable = true)\n",
      " |-- 42833: long (nullable = true)\n",
      " |-- 431: long (nullable = true)\n",
      " |-- 4439: long (nullable = true)\n",
      " |-- 45829: long (nullable = true)\n",
      " |-- 4589: long (nullable = true)\n",
      " |-- 486: long (nullable = true)\n",
      " |-- 49390: long (nullable = true)\n",
      " |-- 496: long (nullable = true)\n",
      " |-- 5070: long (nullable = true)\n",
      " |-- 5119: long (nullable = true)\n",
      " |-- 5180: long (nullable = true)\n",
      " |-- 5185: long (nullable = true)\n",
      " |-- 51881: long (nullable = true)\n",
      " |-- 53081: long (nullable = true)\n",
      " |-- 5715: long (nullable = true)\n",
      " |-- 5789: long (nullable = true)\n",
      " |-- 5845: long (nullable = true)\n",
      " |-- 5849: long (nullable = true)\n",
      " |-- 5856: long (nullable = true)\n",
      " |-- 5859: long (nullable = true)\n",
      " |-- 5990: long (nullable = true)\n",
      " |-- 60000: long (nullable = true)\n",
      " |-- 70703: long (nullable = true)\n",
      " |-- 73300: long (nullable = true)\n",
      " |-- 769: long (nullable = true)\n",
      " |-- 7742: long (nullable = true)\n",
      " |-- 78039: long (nullable = true)\n",
      " |-- 78552: long (nullable = true)\n",
      " |-- 7907: long (nullable = true)\n",
      " |-- 79902: long (nullable = true)\n",
      " |-- 99591: long (nullable = true)\n",
      " |-- 99592: long (nullable = true)\n",
      " |-- 9971: long (nullable = true)\n",
      " |-- 99811: long (nullable = true)\n",
      " |-- 99812: long (nullable = true)\n",
      " |-- E8782: long (nullable = true)\n",
      " |-- E8788: long (nullable = true)\n",
      " |-- E8798: long (nullable = true)\n",
      " |-- OTHER_CODES: long (nullable = true)\n",
      " |-- V053: long (nullable = true)\n",
      " |-- V103: long (nullable = true)\n",
      " |-- V1046: long (nullable = true)\n",
      " |-- V1251: long (nullable = true)\n",
      " |-- V1582: long (nullable = true)\n",
      " |-- V290: long (nullable = true)\n",
      " |-- V3000: long (nullable = true)\n",
      " |-- V3001: long (nullable = true)\n",
      " |-- V4501: long (nullable = true)\n",
      " |-- V4581: long (nullable = true)\n",
      " |-- V4582: long (nullable = true)\n",
      " |-- V4986: long (nullable = true)\n",
      " |-- V502: long (nullable = true)\n",
      " |-- V5861: long (nullable = true)\n",
      " |-- V5867: long (nullable = true)"
     ]
    }
   ],
   "source": [
    "DIAGNOSIS_PIVOT_DF.printSchema()"
   ]
  },
  {
   "cell_type": "code",
   "execution_count": null,
   "metadata": {},
   "outputs": [],
   "source": []
  }
 ],
 "metadata": {
  "kernelspec": {
   "display_name": "Python 3",
   "language": "python",
   "name": "python3"
  },
  "language_info": {
   "codemirror_mode": {
    "name": "ipython",
    "version": 3
   },
   "file_extension": ".py",
   "mimetype": "text/x-python",
   "name": "python",
   "nbconvert_exporter": "python",
   "pygments_lexer": "ipython3",
   "version": "3.7.4"
  }
 },
 "nbformat": 4,
 "nbformat_minor": 4
}
