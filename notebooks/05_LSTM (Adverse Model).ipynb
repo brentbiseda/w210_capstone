{
 "cells": [
  {
   "cell_type": "code",
   "execution_count": 1,
   "metadata": {},
   "outputs": [
    {
     "name": "stderr",
     "output_type": "stream",
     "text": [
      "Using TensorFlow backend.\n"
     ]
    },
    {
     "name": "stdout",
     "output_type": "stream",
     "text": [
      "WARNING:tensorflow:From /home/ec2-user/anaconda3/envs/tensorflow_p36/lib/python3.6/site-packages/tensorflow_core/__init__.py:1473: The name tf.estimator.inputs is deprecated. Please use tf.compat.v1.estimator.inputs instead.\n",
      "\n"
     ]
    }
   ],
   "source": [
    "import pandas as pd\n",
    "#import torch\n",
    "#from transformers import AutoTokenizer, AutoModel\n",
    "#import re\n",
    "#import string\n",
    "import numpy as np\n",
    "#from nltk.corpus import stopwords \n",
    "#from nltk.stem import WordNetLemmatizer\n",
    "#from nltk.stem import LancasterStemmer\n",
    "#from simpletransformers.classification import MultiLabelClassificationModel\n",
    "#import logging\n",
    "#import custom_sentence_tokenizer\n",
    "import matplotlib.pyplot as plt\n",
    "#from scipy import stats\n",
    "#from ast import literal_eval\n",
    "import pickle\n",
    "from keras.preprocessing.sequence import pad_sequences\n",
    "import keras.backend as K\n",
    "import keras\n",
    "import tensorflow as tf"
   ]
  },
  {
   "cell_type": "code",
   "execution_count": 2,
   "metadata": {},
   "outputs": [],
   "source": [
    "#from numpy import array\n",
    "from keras.preprocessing.text import one_hot\n",
    "from keras.preprocessing.sequence import pad_sequences\n",
    "from keras.models import Sequential\n",
    "from keras.layers.core import Activation, Dropout, Dense\n",
    "from keras.layers import Flatten, LSTM, Reshape\n",
    "from keras.layers import GlobalMaxPooling1D\n",
    "from keras.models import Model\n",
    "from keras.layers.embeddings import Embedding\n",
    "from sklearn.model_selection import train_test_split\n",
    "from keras.preprocessing.text import Tokenizer\n",
    "from keras.layers import Input\n",
    "from keras.layers.merge import Concatenate\n",
    "#from sklearn.decomposition import PCA\n",
    "import _pickle as cPickle\n",
    "import io\n",
    "import time\n",
    "import boto3\n",
    "from boto3.s3.transfer import TransferConfig"
   ]
  },
  {
   "cell_type": "code",
   "execution_count": 3,
   "metadata": {},
   "outputs": [],
   "source": [
    "def get_f1(y_true, y_pred): #taken from old keras source code\n",
    "    true_positives = K.sum(K.round(K.clip(y_true * y_pred, 0, 1)))\n",
    "    possible_positives = K.sum(K.round(K.clip(y_true, 0, 1)))\n",
    "    predicted_positives = K.sum(K.round(K.clip(y_pred, 0, 1)))\n",
    "    precision = true_positives / (predicted_positives + K.epsilon())\n",
    "    recall = true_positives / (possible_positives + K.epsilon())\n",
    "    f1_val = 2*(precision*recall)/(precision+recall+K.epsilon())\n",
    "    return f1_val"
   ]
  },
  {
   "cell_type": "code",
   "execution_count": 4,
   "metadata": {},
   "outputs": [],
   "source": [
    "def LoadFromS3(i):\n",
    "    # https://w210-mimic.s3.amazonaws.com/embeddings1\n",
    "    now = time.time()\n",
    "    print(\"Starting Load for File\",i)\n",
    "    embeddings = {}\n",
    "    session = boto3.session.Session(region_name='us-east-1')\n",
    "    s3client = session.client('s3')\n",
    "    response = s3client.get_object(Bucket='w210-mimic', Key=i)\n",
    "    body_string = response['Body'].read()\n",
    "    embeddings.update(cPickle.loads(body_string))\n",
    "    with open(i, 'wb') as handle:\n",
    "        pickle.dump(embeddings, handle, protocol=pickle.HIGHEST_PROTOCOL)\n",
    "    print(\"File Loaded in:\", time.time()-now)\n",
    "    \n",
    "    return embeddings"
   ]
  },
  {
   "cell_type": "code",
   "execution_count": 5,
   "metadata": {},
   "outputs": [],
   "source": [
    "def SaveToS3(file, name):\n",
    "    # https://w210-mimic.s3.amazonaws.com/embeddings1\n",
    "    now = time.time()\n",
    "    print(\"Starting Write for File\", name)\n",
    "    file = file.to_json()\n",
    "    file.save(f'{name}.h5')\n",
    "    session = boto3.session.Session(region_name='us-east-1')\n",
    "    s3 = boto3.resource('s3')\n",
    "    object = s3.Object('w210-mimic', name)\n",
    "    object.put(Body=file)\n",
    "\n",
    "    print(\"File Saved in:\", time.time()-now)\n",
    "    \n",
    "    return"
   ]
  },
  {
   "cell_type": "code",
   "execution_count": 6,
   "metadata": {},
   "outputs": [
    {
     "name": "stdout",
     "output_type": "stream",
     "text": [
      "WARNING:tensorflow:From /home/ec2-user/anaconda3/envs/tensorflow_p36/lib/python3.6/site-packages/keras/backend/tensorflow_backend.py:74: The name tf.get_default_graph is deprecated. Please use tf.compat.v1.get_default_graph instead.\n",
      "\n",
      "WARNING:tensorflow:From /home/ec2-user/anaconda3/envs/tensorflow_p36/lib/python3.6/site-packages/keras/backend/tensorflow_backend.py:517: The name tf.placeholder is deprecated. Please use tf.compat.v1.placeholder instead.\n",
      "\n",
      "WARNING:tensorflow:From /home/ec2-user/anaconda3/envs/tensorflow_p36/lib/python3.6/site-packages/keras/backend/tensorflow_backend.py:4138: The name tf.random_uniform is deprecated. Please use tf.random.uniform instead.\n",
      "\n",
      "WARNING:tensorflow:From /home/ec2-user/anaconda3/envs/tensorflow_p36/lib/python3.6/site-packages/keras/optimizers.py:790: The name tf.train.Optimizer is deprecated. Please use tf.compat.v1.train.Optimizer instead.\n",
      "\n",
      "WARNING:tensorflow:From /home/ec2-user/anaconda3/envs/tensorflow_p36/lib/python3.6/site-packages/keras/backend/tensorflow_backend.py:3376: The name tf.log is deprecated. Please use tf.math.log instead.\n",
      "\n",
      "WARNING:tensorflow:From /home/ec2-user/anaconda3/envs/tensorflow_p36/lib/python3.6/site-packages/tensorflow_core/python/ops/nn_impl.py:183: where (from tensorflow.python.ops.array_ops) is deprecated and will be removed in a future version.\n",
      "Instructions for updating:\n",
      "Use tf.where in 2.0, which has the same broadcast rule as np.where\n"
     ]
    }
   ],
   "source": [
    "deep_inputs = Input(shape=(3840,768))\n",
    "LSTM_Layer_1 = LSTM(128)(deep_inputs)\n",
    "dense_layer_1 = Dense(8, activation='sigmoid')(LSTM_Layer_1)\n",
    "opt = keras.optimizers.Adam(lr=0.0001)\n",
    "model = Model(inputs=deep_inputs, outputs=dense_layer_1)\n",
    "model.compile(loss='binary_crossentropy', optimizer=opt, metrics=[get_f1])"
   ]
  },
  {
   "cell_type": "code",
   "execution_count": 7,
   "metadata": {},
   "outputs": [
    {
     "name": "stdout",
     "output_type": "stream",
     "text": [
      "WARNING:tensorflow:From /home/ec2-user/anaconda3/envs/tensorflow_p36/lib/python3.6/site-packages/keras/backend/tensorflow_backend.py:174: The name tf.get_default_session is deprecated. Please use tf.compat.v1.get_default_session instead.\n",
      "\n",
      "WARNING:tensorflow:From /home/ec2-user/anaconda3/envs/tensorflow_p36/lib/python3.6/site-packages/keras/backend/tensorflow_backend.py:184: The name tf.ConfigProto is deprecated. Please use tf.compat.v1.ConfigProto instead.\n",
      "\n",
      "WARNING:tensorflow:From /home/ec2-user/anaconda3/envs/tensorflow_p36/lib/python3.6/site-packages/keras/backend/tensorflow_backend.py:186: The name tf.Session is deprecated. Please use tf.compat.v1.Session instead.\n",
      "\n",
      "WARNING:tensorflow:From /home/ec2-user/anaconda3/envs/tensorflow_p36/lib/python3.6/site-packages/keras/backend/tensorflow_backend.py:190: The name tf.global_variables is deprecated. Please use tf.compat.v1.global_variables instead.\n",
      "\n",
      "WARNING:tensorflow:From /home/ec2-user/anaconda3/envs/tensorflow_p36/lib/python3.6/site-packages/keras/backend/tensorflow_backend.py:199: The name tf.is_variable_initialized is deprecated. Please use tf.compat.v1.is_variable_initialized instead.\n",
      "\n",
      "WARNING:tensorflow:From /home/ec2-user/anaconda3/envs/tensorflow_p36/lib/python3.6/site-packages/keras/backend/tensorflow_backend.py:206: The name tf.variables_initializer is deprecated. Please use tf.compat.v1.variables_initializer instead.\n",
      "\n"
     ]
    }
   ],
   "source": [
    "# Saving the Files Locally:\n",
    "\n",
    "model_json = model.to_json()\n",
    "\n",
    "with open(\"adverse_num.json\", \"w\") as json_file:\n",
    "    json_file.write(model_json)\n",
    "\n",
    "# serialize weights to HDF5\n",
    "model.save_weights(\"adverse_num.h5\")\n"
   ]
  },
  {
   "cell_type": "code",
   "execution_count": 18,
   "metadata": {},
   "outputs": [
    {
     "name": "stdout",
     "output_type": "stream",
     "text": [
      "Loaded model from disk\n",
      "Loaded model from disk\n"
     ]
    }
   ],
   "source": [
    "from keras.models import model_from_json\n",
    "\n",
    "json_file = open('./adverse_num.json', 'r')\n",
    "loaded_model_json = json_file.read()\n",
    "json_file.close()\n",
    "loaded_model = model_from_json(loaded_model_json)\n",
    "loaded_model.load_weights(\"./adverse_3_embeddings1.hdr\")\n",
    "\n",
    "opt = keras.optimizers.Adam(lr=0.0001)\n",
    "model.compile(loss='binary_crossentropy', optimizer=opt, metrics=[get_f1])\n",
    "\n",
    "print(\"Loaded model from disk\")"
   ]
  },
  {
   "cell_type": "code",
   "execution_count": 19,
   "metadata": {},
   "outputs": [],
   "source": [
    "EPOCHS = 1"
   ]
  },
  {
   "cell_type": "code",
   "execution_count": 20,
   "metadata": {},
   "outputs": [
    {
     "name": "stdout",
     "output_type": "stream",
     "text": [
      "Starting Load for File embeddings6\n",
      "Starting Load for File embeddings6\n",
      "File Loaded in: 900.7034423351288\n",
      "File Loaded in: 900.7034423351288\n",
      "Padding Embeddings:\n",
      "Padding Embeddings:\n",
      "Training Epoch: 0 Embeddings: embeddings6\n",
      "Train on 2453 samples, validate on 273 samples\n",
      "Epoch 1/1\n",
      "Training Epoch: 0 Embeddings: embeddings6\n",
      "Train on 2453 samples, validate on 273 samples\n",
      "Epoch 1/1\n",
      "2453/2453 [==============================] - 319s 130ms/step - loss: 0.3180 - get_f1: 0.2744 - val_loss: 0.3590 - val_get_f1: 0.2539\n",
      "2453/2453 [==============================] - 319s 130ms/step - loss: 0.3180 - get_f1: 0.2744 - val_loss: 0.3590 - val_get_f1: 0.2539\n",
      "Starting Load for File embeddings5\n",
      "Starting Load for File embeddings5\n",
      "File Loaded in: 3490.602745771408\n",
      "File Loaded in: 3490.602745771408\n",
      "Padding Embeddings:\n",
      "Padding Embeddings:\n",
      "Training Epoch: 0 Embeddings: embeddings5\n",
      "Train on 9000 samples, validate on 1000 samples\n",
      "Epoch 1/1\n",
      "Training Epoch: 0 Embeddings: embeddings5\n",
      "Train on 9000 samples, validate on 1000 samples\n",
      "Epoch 1/1\n",
      "9000/9000 [==============================] - 1264s 140ms/step - loss: 0.3373 - get_f1: 0.3850 - val_loss: 0.3549 - val_get_f1: 0.2952\n",
      "9000/9000 [==============================] - 1264s 140ms/step - loss: 0.3373 - get_f1: 0.3850 - val_loss: 0.3549 - val_get_f1: 0.2952\n",
      "Starting Load for File embeddings4\n",
      "Starting Load for File embeddings4\n",
      "File Loaded in: 2807.1353962421417\n",
      "File Loaded in: 2807.1353962421417\n",
      "Padding Embeddings:\n",
      "Padding Embeddings:\n",
      "Training Epoch: 0 Embeddings: embeddings4\n",
      "Train on 9000 samples, validate on 1000 samples\n",
      "Epoch 1/1\n",
      "Training Epoch: 0 Embeddings: embeddings4\n",
      "Train on 9000 samples, validate on 1000 samples\n",
      "Epoch 1/1\n",
      "9000/9000 [==============================] - 1219s 135ms/step - loss: 0.3044 - get_f1: 0.2560 - val_loss: 0.3282 - val_get_f1: 0.2567\n",
      "9000/9000 [==============================] - 1219s 135ms/step - loss: 0.3044 - get_f1: 0.2560 - val_loss: 0.3282 - val_get_f1: 0.2567\n",
      "Starting Load for File embeddings3\n",
      "Starting Load for File embeddings3\n",
      "File Loaded in: 3017.9099180698395\n",
      "File Loaded in: 3017.9099180698395\n",
      "Padding Embeddings:\n",
      "Padding Embeddings:\n",
      "Training Epoch: 0 Embeddings: embeddings3\n",
      "Train on 9000 samples, validate on 1000 samples\n",
      "Epoch 1/1\n",
      "Training Epoch: 0 Embeddings: embeddings3\n",
      "Train on 9000 samples, validate on 1000 samples\n",
      "Epoch 1/1\n",
      "9000/9000 [==============================] - 1265s 141ms/step - loss: 0.2925 - get_f1: 0.2308 - val_loss: 0.3551 - val_get_f1: 0.2518\n",
      "9000/9000 [==============================] - 1265s 141ms/step - loss: 0.2925 - get_f1: 0.2308 - val_loss: 0.3551 - val_get_f1: 0.2518\n",
      "Starting Load for File embeddings2\n",
      "Starting Load for File embeddings2\n",
      "File Loaded in: 2233.0321271419525\n",
      "File Loaded in: 2233.0321271419525\n",
      "Padding Embeddings:\n",
      "Padding Embeddings:\n",
      "Training Epoch: 0 Embeddings: embeddings2\n",
      "Train on 9000 samples, validate on 1000 samples\n",
      "Epoch 1/1\n",
      "Training Epoch: 0 Embeddings: embeddings2\n",
      "Train on 9000 samples, validate on 1000 samples\n",
      "Epoch 1/1\n",
      "9000/9000 [==============================] - 1400s 156ms/step - loss: 0.2659 - get_f1: 0.1729 - val_loss: 0.2458 - val_get_f1: 0.2028\n",
      "9000/9000 [==============================] - 1400s 156ms/step - loss: 0.2659 - get_f1: 0.1729 - val_loss: 0.2458 - val_get_f1: 0.2028\n",
      "Starting Load for File embeddings1\n",
      "Starting Load for File embeddings1\n",
      "File Loaded in: 2926.589568376541\n",
      "File Loaded in: 2926.589568376541\n",
      "Padding Embeddings:\n",
      "Padding Embeddings:\n",
      "Training Epoch: 0 Embeddings: embeddings1\n",
      "Train on 9000 samples, validate on 1000 samples\n",
      "Epoch 1/1\n",
      "Training Epoch: 0 Embeddings: embeddings1\n",
      "Train on 9000 samples, validate on 1000 samples\n",
      "Epoch 1/1\n",
      "9000/9000 [==============================] - 1418s 158ms/step - loss: 0.3126 - get_f1: 0.2825 - val_loss: 0.3036 - val_get_f1: 0.2137\n",
      "9000/9000 [==============================] - 1418s 158ms/step - loss: 0.3126 - get_f1: 0.2825 - val_loss: 0.3036 - val_get_f1: 0.2137\n"
     ]
    }
   ],
   "source": [
    "for epoch in range(EPOCHS):\n",
    "    for i in ['embeddings6', 'embeddings5', 'embeddings4', 'embeddings3', 'embeddings2', 'embeddings1']:\n",
    "        data = LoadFromS3(i)\n",
    "        \n",
    "        data = np.array(list(data.items()))\n",
    "        HADM_ID_LIST = data[:,0]\n",
    "        data = data[:,1]\n",
    "\n",
    "        data = [np.float16(np.concatenate(i[:30])) for i in data]\n",
    "\n",
    "        embeddings_padded = []\n",
    "        \n",
    "        print(\"Padding Embeddings:\")\n",
    "        for j in data:\n",
    "            pad_len = 3840 - len(j)\n",
    "            if pad_len:\n",
    "                embeddings_padded.append(np.append(j, np.zeros(pad_len*768, dtype=np.float16).reshape(pad_len, 768), axis=0))\n",
    "            else:\n",
    "                embeddings_padded.append(j)\n",
    "        \n",
    "        del(data)\n",
    "        embeddings_padded = np.float16(embeddings_padded)\n",
    "        embeddings_padded = np.array(embeddings_padded, dtype=np.float16)\n",
    "\n",
    "        CHAPTER_PIVOT_DF = pd.read_csv('s3://w210-mimic/data/adverse_effect_labels.csv', sep=',', header = 0)\\\n",
    "                        .astype({'HADM_ID': 'str'}).set_index('HADM_ID')\n",
    "\n",
    "        EMBEDDINGS_CHAPTER_PIVOT_DF = pd.DataFrame(data=list(zip(HADM_ID_LIST, embeddings_padded)), columns=['HADM_ID', 'embeddings']).set_index('HADM_ID')\\\n",
    "                    .join(CHAPTER_PIVOT_DF, how='left')\n",
    "        EMBEDDINGS_CHAPTER_PIVOT_DF = EMBEDDINGS_CHAPTER_PIVOT_DF.fillna(0)\n",
    "        EMBEDDINGS_CHAPTER_PIVOT_DF = EMBEDDINGS_CHAPTER_PIVOT_DF.iloc[:,1:]\n",
    "        EMBEDDINGS_CHAPTER_PIVOT_NP = np.array(EMBEDDINGS_CHAPTER_PIVOT_DF)\n",
    "        del(EMBEDDINGS_CHAPTER_PIVOT_DF)\n",
    "\n",
    "        # Rebalance the Dataset using class weights\n",
    "#         class_weights = {}\n",
    "#         class_weight_vals = 1/(EMBEDDINGS_CHAPTER_PIVOT_NP.sum(axis=0)/EMBEDDINGS_CHAPTER_PIVOT_NP.shape[0])\n",
    "\n",
    "#         for index, weight in enumerate(class_weight_vals):\n",
    "#             class_weights[index] = int(weight)\n",
    "        \n",
    "        print(\"Training Epoch:\", epoch, \"Embeddings:\",i)\n",
    "        history = model.fit(embeddings_padded, EMBEDDINGS_CHAPTER_PIVOT_NP, epochs=1, batch_size=256, verbose=1, validation_split=0.1) # ,class_weight=class_weights)\n",
    "        model.save(f\"adverse_{epoch}_{i}.hdr\")\n"
   ]
  },
  {
   "cell_type": "markdown",
   "metadata": {},
   "source": [
    "# Cells Below are for Debugging & Legacy"
   ]
  },
  {
   "cell_type": "code",
   "execution_count": null,
   "metadata": {},
   "outputs": [],
   "source": []
  }
 ],
 "metadata": {
  "kernelspec": {
   "display_name": "conda_tensorflow_p36",
   "language": "python",
   "name": "conda_tensorflow_p36"
  },
  "language_info": {
   "codemirror_mode": {
    "name": "ipython",
    "version": 3
   },
   "file_extension": ".py",
   "mimetype": "text/x-python",
   "name": "python",
   "nbconvert_exporter": "python",
   "pygments_lexer": "ipython3",
   "version": "3.6.10"
  }
 },
 "nbformat": 4,
 "nbformat_minor": 4
}
