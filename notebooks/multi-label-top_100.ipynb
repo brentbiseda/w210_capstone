{
 "cells": [
  {
   "cell_type": "code",
   "execution_count": null,
   "metadata": {},
   "outputs": [],
   "source": [
    "# Based on code from the following link:\n",
    "# https://towardsdatascience.com/multi-label-classification-using-bert-roberta-xlnet-xlm-and-distilbert-with-simple-transformers-b3e0cda12ce5"
   ]
  },
  {
   "cell_type": "code",
   "execution_count": null,
   "metadata": {},
   "outputs": [],
   "source": [
    "#!pip install simpletransformers==0.34.4"
   ]
  },
  {
   "cell_type": "code",
   "execution_count": null,
   "metadata": {},
   "outputs": [],
   "source": [
    "# import keras\n",
    "# keras.__version__"
   ]
  },
  {
   "cell_type": "code",
   "execution_count": null,
   "metadata": {},
   "outputs": [],
   "source": [
    "# import tensorflow\n",
    "# tensorflow.__version__"
   ]
  },
  {
   "cell_type": "code",
   "execution_count": null,
   "metadata": {},
   "outputs": [],
   "source": [
    "# import torch\n",
    "# torch.__version__"
   ]
  },
  {
   "cell_type": "code",
   "execution_count": null,
   "metadata": {},
   "outputs": [],
   "source": [
    "# !jupyter --version"
   ]
  },
  {
   "cell_type": "code",
   "execution_count": null,
   "metadata": {},
   "outputs": [],
   "source": [
    "# !pip install scikit-learn==0.23.1"
   ]
  },
  {
   "cell_type": "code",
   "execution_count": null,
   "metadata": {},
   "outputs": [],
   "source": [
    "# !pip install pandas==1.0.5"
   ]
  },
  {
   "cell_type": "code",
   "execution_count": null,
   "metadata": {},
   "outputs": [],
   "source": [
    "# !pip show simpletransformers "
   ]
  },
  {
   "cell_type": "code",
   "execution_count": null,
   "metadata": {},
   "outputs": [],
   "source": [
    "# import sklearn\n",
    "# sklearn.__version__"
   ]
  },
  {
   "cell_type": "code",
   "execution_count": 1,
   "metadata": {},
   "outputs": [],
   "source": [
    "import pandas as pd\n",
    "#from simpletransformers.classification import MultiLabelClassificationModel\n",
    "import ast"
   ]
  },
  {
   "cell_type": "code",
   "execution_count": 2,
   "metadata": {},
   "outputs": [],
   "source": [
    "from simpletransformers.experimental.classification import MultiLabelClassificationModel"
   ]
  },
  {
   "cell_type": "markdown",
   "metadata": {},
   "source": [
    "# Model Training"
   ]
  },
  {
   "cell_type": "code",
   "execution_count": 3,
   "metadata": {},
   "outputs": [],
   "source": [
    "df = pd.read_csv('./train.tsv', sep='\\t')"
   ]
  },
  {
   "cell_type": "code",
   "execution_count": null,
   "metadata": {},
   "outputs": [],
   "source": [
    "df.labels = df.labels.apply(eval)"
   ]
  },
  {
   "cell_type": "code",
   "execution_count": null,
   "metadata": {},
   "outputs": [],
   "source": [
    "model = MultiLabelClassificationModel('bert', \"emilyalsentzer/Bio_ClinicalBERT\", num_labels=124, \n",
    "                                      args={'train_batch_size':4,\n",
    "                                            'gradient_accumulation_steps':16,\n",
    "                                            'learning_rate': 3e-5,\n",
    "                                            'num_train_epochs': 3,\n",
    "                                            'max_seq_length': 512,\n",
    "                                            'reprocess_input_data': True,\n",
    "                                            'overwrite_output_dir': True})"
   ]
  },
  {
   "cell_type": "code",
   "execution_count": null,
   "metadata": {
    "scrolled": false
   },
   "outputs": [],
   "source": [
    "model.train_model(df)"
   ]
  },
  {
   "cell_type": "markdown",
   "metadata": {},
   "source": [
    "# Sliding Window Experimental Model Training"
   ]
  },
  {
   "cell_type": "code",
   "execution_count": 1,
   "metadata": {},
   "outputs": [],
   "source": [
    "import pandas as pd\n",
    "#from simpletransformers.classification import MultiLabelClassificationModel\n",
    "import ast\n",
    "from simpletransformers.experimental.classification import MultiLabelClassificationModel\n",
    "\n",
    "df = pd.read_csv('./train.tsv', sep='\\t')\n",
    "df.labels = df.labels.apply(eval)"
   ]
  },
  {
   "cell_type": "code",
   "execution_count": 2,
   "metadata": {},
   "outputs": [],
   "source": [
    "model = MultiLabelClassificationModel('bert', \"emilyalsentzer/Bio_ClinicalBERT\", num_labels=124, \n",
    "                                      args={'train_batch_size':4,\n",
    "                                            'sliding_window': True,\n",
    "                                            'stride': 0.8,\n",
    "                                            'gradient_accumulation_steps':16,\n",
    "                                            'learning_rate': 3e-5,\n",
    "                                            'num_train_epochs': 3,\n",
    "                                            'max_seq_length': 512,\n",
    "                                            'reprocess_input_data': True,\n",
    "                                            'overwrite_output_dir': True,\n",
    "                                            'no_cache': True,\n",
    "                                            'multiprocessing_chunksize': 410,\n",
    "                                           'tensorboard_dir':'./outputs/',\n",
    "                                           'wandb_project': False,\n",
    "                                           'save_model_every_epoch': True,\n",
    "                                           'no_save': False,\n",
    "                                           'save_optimizer_and_scheduler': True})"
   ]
  },
  {
   "cell_type": "code",
   "execution_count": 3,
   "metadata": {
    "scrolled": false
   },
   "outputs": [
    {
     "data": {
      "application/vnd.jupyter.widget-view+json": {
       "model_id": "ba0c3c554a624669b479907889e92e4d",
       "version_major": 2,
       "version_minor": 0
      },
      "text/plain": [
       "HBox(children=(FloatProgress(value=0.0, max=51868.0), HTML(value='')))"
      ]
     },
     "metadata": {},
     "output_type": "display_data"
    },
    {
     "name": "stdout",
     "output_type": "stream",
     "text": [
      "\n"
     ]
    },
    {
     "data": {
      "application/vnd.jupyter.widget-view+json": {
       "model_id": "eec0ae732cb84c49851158028714f65b",
       "version_major": 2,
       "version_minor": 0
      },
      "text/plain": [
       "HBox(children=(FloatProgress(value=0.0, description='Epoch', max=3.0, style=ProgressStyle(description_width='i…"
      ]
     },
     "metadata": {},
     "output_type": "display_data"
    },
    {
     "data": {
      "application/vnd.jupyter.widget-view+json": {
       "model_id": "e28bcbe0efcd47068836fd19e084ca58",
       "version_major": 2,
       "version_minor": 0
      },
      "text/plain": [
       "HBox(children=(FloatProgress(value=0.0, description='Current iteration', max=511638.0, style=ProgressStyle(des…"
      ]
     },
     "metadata": {},
     "output_type": "display_data"
    },
    {
     "name": "stdout",
     "output_type": "stream",
     "text": [
      "Running loss: 0.724157"
     ]
    },
    {
     "name": "stderr",
     "output_type": "stream",
     "text": [
      "C:\\Users\\brent\\anaconda3\\lib\\site-packages\\torch\\optim\\lr_scheduler.py:231: UserWarning: To get the last learning rate computed by the scheduler, please use `get_last_lr()`.\n",
      "  warnings.warn(\"To get the last learning rate computed by the scheduler, \"\n"
     ]
    },
    {
     "name": "stdout",
     "output_type": "stream",
     "text": [
      "Running loss: -0.383459"
     ]
    },
    {
     "name": "stderr",
     "output_type": "stream",
     "text": [
      "C:\\Users\\brent\\anaconda3\\lib\\site-packages\\torch\\optim\\lr_scheduler.py:200: UserWarning: Please also save or load the state of the optimzer when saving or loading the scheduler.\n",
      "  warnings.warn(SAVE_STATE_WARNING, UserWarning)\n"
     ]
    },
    {
     "name": "stdout",
     "output_type": "stream",
     "text": [
      "Running loss: -48.270176\n"
     ]
    },
    {
     "data": {
      "application/vnd.jupyter.widget-view+json": {
       "model_id": "f32a2b6de18d4bc986e7f4f8f5f52fd2",
       "version_major": 2,
       "version_minor": 0
      },
      "text/plain": [
       "HBox(children=(FloatProgress(value=0.0, description='Current iteration', max=511638.0, style=ProgressStyle(des…"
      ]
     },
     "metadata": {},
     "output_type": "display_data"
    },
    {
     "name": "stdout",
     "output_type": "stream",
     "text": [
      "Running loss: -68.9806068\n"
     ]
    },
    {
     "data": {
      "application/vnd.jupyter.widget-view+json": {
       "model_id": "2625f224d6da459585db2e40f564866b",
       "version_major": 2,
       "version_minor": 0
      },
      "text/plain": [
       "HBox(children=(FloatProgress(value=0.0, description='Current iteration', max=511638.0, style=ProgressStyle(des…"
      ]
     },
     "metadata": {},
     "output_type": "display_data"
    },
    {
     "name": "stdout",
     "output_type": "stream",
     "text": [
      "Running loss: -57.6811602\n",
      "\n"
     ]
    }
   ],
   "source": [
    "model.train_model(df)"
   ]
  },
  {
   "cell_type": "markdown",
   "metadata": {},
   "source": [
    "# Model Evaluation"
   ]
  },
  {
   "cell_type": "code",
   "execution_count": 6,
   "metadata": {},
   "outputs": [],
   "source": [
    "import pandas as pd\n",
    "#from simpletransformers.classification import MultiLabelClassificationModel\n",
    "import ast\n",
    "from simpletransformers.experimental.classification import MultiLabelClassificationModel\n",
    "import sklearn\n",
    "import numpy as np"
   ]
  },
  {
   "cell_type": "code",
   "execution_count": 2,
   "metadata": {},
   "outputs": [],
   "source": [
    "model = MultiLabelClassificationModel('bert', \"./outputs/checkpoint-95931-epoch-3\", num_labels=124,\n",
    "                                      args={'train_batch_size':4,\n",
    "                                            'sliding_window': True,\n",
    "                                            'stride': 0.8,\n",
    "                                            'gradient_accumulation_steps':16,\n",
    "                                            'learning_rate': 3e-5,\n",
    "                                            'num_train_epochs': 3,\n",
    "                                            'max_seq_length': 512,\n",
    "                                            'reprocess_input_data': True,\n",
    "                                            'overwrite_output_dir': True,\n",
    "                                            'no_cache': True,\n",
    "                                            'multiprocessing_chunksize': 410,\n",
    "                                           'tensorboard_dir':'./outputs/',\n",
    "                                           'wandb_project': False,\n",
    "                                           'save_model_every_epoch': True,\n",
    "                                           'no_save': False,\n",
    "                                           'save_optimizer_and_scheduler': True})"
   ]
  },
  {
   "cell_type": "code",
   "execution_count": 3,
   "metadata": {},
   "outputs": [],
   "source": [
    "eval_df = pd.read_csv('./test.tsv', sep='\\t')\n",
    "eval_df.labels = eval_df.labels.apply(eval)"
   ]
  },
  {
   "cell_type": "code",
   "execution_count": 4,
   "metadata": {},
   "outputs": [
    {
     "data": {
      "application/vnd.jupyter.widget-view+json": {
       "model_id": "49b91919de4f4012a422190656cc71d0",
       "version_major": 2,
       "version_minor": 0
      },
      "text/plain": [
       "HBox(children=(FloatProgress(value=0.0, max=2882.0), HTML(value='')))"
      ]
     },
     "metadata": {},
     "output_type": "display_data"
    },
    {
     "name": "stdout",
     "output_type": "stream",
     "text": [
      "\n"
     ]
    },
    {
     "data": {
      "application/vnd.jupyter.widget-view+json": {
       "model_id": "9263ee2cec3049b8bb0391566bddaa61",
       "version_major": 2,
       "version_minor": 0
      },
      "text/plain": [
       "HBox(children=(FloatProgress(value=0.0, max=14226.0), HTML(value='')))"
      ]
     },
     "metadata": {},
     "output_type": "display_data"
    },
    {
     "name": "stdout",
     "output_type": "stream",
     "text": [
      "\n"
     ]
    }
   ],
   "source": [
    "predictions, raw_outputs = model.predict(eval_df['text'])"
   ]
  },
  {
   "cell_type": "code",
   "execution_count": 9,
   "metadata": {
    "scrolled": false
   },
   "outputs": [
    {
     "name": "stdout",
     "output_type": "stream",
     "text": [
      "\n",
      "\n",
      "Calculated F-scores for cutoff: 0.1\n",
      "\n",
      "Macro: 0.1742618199926649\n",
      "Micro: 0.44548401401545196\n",
      "Weighted: 0.5129617311212284\n",
      "Samples: 0.4404989012223472\n",
      "None:\n",
      " [0.84465825 0.83954097 0.81695389 0.65557316 0.60609388 0.42431762\n",
      " 0.28475034 0.75722294 0.54137931 0.48145933 0.44047619 0.84465825\n",
      " 0.60435835 0.52771392 0.59107291 0.         0.20014144 0.31687106\n",
      " 0.24687933 0.6593674  0.5382193  0.60609388 0.83954097 0.\n",
      " 0.13107511 0.         0.17410072 0.31193881 0.         0.\n",
      " 0.29090909 0.         0.08308157 0.         0.1641953  0.\n",
      " 0.         0.         0.         0.         0.         0.14812112\n",
      " 0.         0.18129703 0.         0.         0.         0.\n",
      " 0.         0.         0.         0.57175014 0.         0.\n",
      " 0.         0.         0.         0.         0.36732068 0.\n",
      " 0.         0.         0.         0.         0.38446849 0.\n",
      " 0.         0.         0.41176471 0.         0.         0.\n",
      " 0.         0.         0.         0.16389892 0.         0.\n",
      " 0.13102687 0.09741476 0.         0.         0.26580116 0.2206655\n",
      " 0.         0.         0.07581501 0.31697613 0.         0.\n",
      " 0.2069209  0.         0.         0.         0.22258065 0.36255572\n",
      " 0.         0.09459459 0.         0.         0.         0.14134017\n",
      " 0.         0.         0.         0.         0.         0.\n",
      " 0.97346394 0.64303178 0.         0.         0.         0.\n",
      " 0.66019417 0.42346209 0.43564356 0.         0.         0.\n",
      " 0.         0.28571429 0.         0.        ]\n",
      "\n",
      "\n",
      "Calculated F-scores for cutoff: 0.2\n",
      "\n",
      "Macro: 0.14904149513259443\n",
      "Micro: 0.5421994003515181\n",
      "Weighted: 0.4958598445650868\n",
      "Samples: 0.5299090985341061\n",
      "None:\n",
      " [0.90419806 0.83954097 0.81695389 0.65557316 0.60609388 0.42431762\n",
      " 0.         0.75722294 0.54137931 0.48145933 0.44047619 0.84465825\n",
      " 0.60435835 0.52771392 0.59107291 0.         0.20014144 0.31687106\n",
      " 0.24687933 0.6593674  0.5382193  0.60609388 0.83954097 0.\n",
      " 0.         0.         0.         0.         0.         0.\n",
      " 0.         0.         0.         0.         0.         0.\n",
      " 0.         0.         0.         0.         0.         0.\n",
      " 0.         0.         0.         0.         0.         0.\n",
      " 0.         0.         0.         0.57175014 0.         0.\n",
      " 0.         0.         0.         0.         0.36732068 0.\n",
      " 0.         0.         0.         0.         0.38446849 0.\n",
      " 0.         0.         0.41176471 0.         0.         0.\n",
      " 0.         0.         0.         0.         0.         0.\n",
      " 0.         0.         0.         0.         0.26580116 0.\n",
      " 0.         0.         0.         0.31697613 0.         0.\n",
      " 0.         0.         0.         0.         0.22258065 0.36255572\n",
      " 0.         0.         0.         0.         0.         0.\n",
      " 0.         0.         0.         0.         0.         0.\n",
      " 0.97346394 0.64303178 0.         0.         0.         0.\n",
      " 0.66019417 0.42346209 0.43564356 0.         0.         0.\n",
      " 0.         0.         0.         0.        ]\n",
      "\n",
      "\n",
      "Calculated F-scores for cutoff: 0.30000000000000004\n",
      "\n",
      "Macro: 0.13665674637414751\n",
      "Micro: 0.5635621960889212\n",
      "Weighted: 0.48302823411098905\n",
      "Samples: 0.5523261610037198\n",
      "None:\n",
      " [0.90419806 0.83954097 0.81695389 0.65557316 0.60609388 0.42431762\n",
      " 0.         0.75722294 0.54137931 0.48145933 0.48150358 0.84465825\n",
      " 0.60435835 0.57574909 0.59107291 0.         0.         0.\n",
      " 0.24687933 0.6593674  0.5382193  0.60609388 0.83954097 0.\n",
      " 0.         0.         0.         0.         0.         0.\n",
      " 0.         0.         0.         0.         0.         0.\n",
      " 0.         0.         0.         0.         0.         0.\n",
      " 0.         0.         0.         0.         0.         0.\n",
      " 0.         0.         0.         0.57175014 0.         0.\n",
      " 0.         0.         0.         0.         0.         0.\n",
      " 0.         0.         0.         0.         0.38446849 0.\n",
      " 0.         0.         0.41176471 0.         0.         0.\n",
      " 0.         0.         0.         0.         0.         0.\n",
      " 0.         0.         0.         0.         0.26580116 0.\n",
      " 0.         0.         0.         0.         0.         0.\n",
      " 0.         0.         0.         0.         0.22258065 0.36255572\n",
      " 0.         0.         0.         0.         0.         0.\n",
      " 0.         0.         0.         0.         0.         0.\n",
      " 0.97346394 0.64303178 0.         0.         0.         0.\n",
      " 0.66019417 0.         0.43564356 0.         0.         0.\n",
      " 0.         0.         0.         0.        ]\n",
      "\n",
      "\n",
      "Calculated F-scores for cutoff: 0.4\n",
      "\n",
      "Macro: 0.11996781037470404\n",
      "Micro: 0.5677102177197949\n",
      "Weighted: 0.4537781097838833\n",
      "Samples: 0.5563475543258325\n",
      "None:\n",
      " [0.90419806 0.83954097 0.81695389 0.65557316 0.60609388 0.42431762\n",
      " 0.         0.75722294 0.54137931 0.48145933 0.48150358 0.84465825\n",
      " 0.60435835 0.57574909 0.59107291 0.         0.         0.\n",
      " 0.24687933 0.6593674  0.5382193  0.60609388 0.83954097 0.\n",
      " 0.         0.         0.         0.         0.         0.\n",
      " 0.         0.         0.         0.         0.         0.\n",
      " 0.         0.         0.         0.         0.         0.\n",
      " 0.         0.         0.         0.         0.         0.\n",
      " 0.         0.         0.         0.         0.         0.\n",
      " 0.         0.         0.         0.         0.         0.\n",
      " 0.         0.         0.         0.         0.         0.\n",
      " 0.         0.         0.         0.         0.         0.\n",
      " 0.         0.         0.         0.         0.         0.\n",
      " 0.         0.         0.         0.         0.         0.\n",
      " 0.         0.         0.         0.         0.         0.\n",
      " 0.         0.         0.         0.         0.22258065 0.36255572\n",
      " 0.         0.         0.         0.         0.         0.\n",
      " 0.         0.         0.         0.         0.         0.\n",
      " 0.97346394 0.64303178 0.         0.         0.         0.\n",
      " 0.66019417 0.         0.         0.         0.         0.\n",
      " 0.         0.         0.         0.        ]\n",
      "\n",
      "\n",
      "Calculated F-scores for cutoff: 0.5\n",
      "\n",
      "Macro: 0.11021101808152838\n",
      "Micro: 0.5653615855660068\n",
      "Weighted: 0.4346269070578652\n",
      "Samples: 0.5554657191041477\n",
      "None:\n",
      " [0.90419806 0.83954097 0.81695389 0.65557316 0.60609388 0.42431762\n",
      " 0.         0.75722294 0.54137931 0.         0.         0.84465825\n",
      " 0.60435835 0.57574909 0.59107291 0.         0.         0.\n",
      " 0.         0.6593674  0.5382193  0.60609388 0.83954097 0.\n",
      " 0.         0.         0.         0.         0.         0.\n",
      " 0.         0.         0.         0.         0.         0.\n",
      " 0.         0.         0.         0.         0.         0.\n",
      " 0.         0.         0.         0.         0.         0.\n",
      " 0.         0.         0.         0.         0.         0.\n",
      " 0.         0.         0.         0.         0.         0.\n",
      " 0.         0.         0.         0.         0.         0.\n",
      " 0.         0.         0.         0.         0.         0.\n",
      " 0.         0.         0.         0.         0.         0.\n",
      " 0.         0.         0.         0.         0.         0.\n",
      " 0.         0.         0.         0.         0.         0.\n",
      " 0.         0.         0.         0.         0.22258065 0.36255572\n",
      " 0.         0.         0.         0.         0.         0.\n",
      " 0.         0.         0.         0.         0.         0.\n",
      " 0.97346394 0.64303178 0.         0.         0.         0.\n",
      " 0.66019417 0.         0.         0.         0.         0.\n",
      " 0.         0.         0.         0.        ]\n",
      "\n",
      "\n",
      "Calculated F-scores for cutoff: 0.6\n",
      "\n",
      "Macro: 0.08959635597429387\n",
      "Micro: 0.5533583278198436\n",
      "Weighted: 0.40368337997106574\n",
      "Samples: 0.5397625918549801\n",
      "None:\n",
      " [0.90419806 0.83954097 0.81695389 0.65557316 0.         0.\n",
      " 0.         0.75722294 0.54137931 0.         0.         0.84465825\n",
      " 0.60435835 0.57574909 0.59107291 0.         0.         0.\n",
      " 0.         0.6593674  0.5382193  0.60609388 0.83954097 0.\n",
      " 0.         0.         0.         0.         0.         0.\n",
      " 0.         0.         0.         0.         0.         0.\n",
      " 0.         0.         0.         0.         0.         0.\n",
      " 0.         0.         0.         0.         0.         0.\n",
      " 0.         0.         0.         0.         0.         0.\n",
      " 0.         0.         0.         0.         0.         0.\n",
      " 0.         0.         0.         0.         0.         0.\n",
      " 0.         0.         0.         0.         0.         0.\n",
      " 0.         0.         0.         0.         0.         0.\n",
      " 0.         0.         0.         0.         0.         0.\n",
      " 0.         0.         0.         0.         0.         0.\n",
      " 0.         0.         0.         0.         0.         0.36255572\n",
      " 0.         0.         0.         0.         0.         0.\n",
      " 0.         0.         0.         0.         0.         0.\n",
      " 0.97346394 0.         0.         0.         0.         0.\n",
      " 0.         0.         0.         0.         0.         0.\n",
      " 0.         0.         0.         0.        ]\n"
     ]
    },
    {
     "name": "stdout",
     "output_type": "stream",
     "text": [
      "\n",
      "\n",
      "Calculated F-scores for cutoff: 0.7000000000000001\n",
      "\n",
      "Macro: 0.07095989742381462\n",
      "Micro: 0.5157977219936754\n",
      "Weighted: 0.34690605339460784\n",
      "Samples: 0.5123730101719025\n",
      "None:\n",
      " [0.90419806 0.83954097 0.81695389 0.         0.         0.\n",
      " 0.         0.75722294 0.         0.         0.         0.84465825\n",
      " 0.60435835 0.         0.59107291 0.         0.         0.\n",
      " 0.         0.6593674  0.         0.60609388 0.83954097 0.\n",
      " 0.         0.         0.         0.         0.         0.\n",
      " 0.         0.         0.         0.         0.         0.\n",
      " 0.         0.         0.         0.         0.         0.\n",
      " 0.         0.         0.         0.         0.         0.\n",
      " 0.         0.         0.         0.         0.         0.\n",
      " 0.         0.         0.         0.         0.         0.\n",
      " 0.         0.         0.         0.         0.         0.\n",
      " 0.         0.         0.         0.         0.         0.\n",
      " 0.         0.         0.         0.         0.         0.\n",
      " 0.         0.         0.         0.         0.         0.\n",
      " 0.         0.         0.         0.         0.         0.\n",
      " 0.         0.         0.         0.         0.         0.36255572\n",
      " 0.         0.         0.         0.         0.         0.\n",
      " 0.         0.         0.         0.         0.         0.\n",
      " 0.97346394 0.         0.         0.         0.         0.\n",
      " 0.         0.         0.         0.         0.         0.\n",
      " 0.         0.         0.         0.        ]\n",
      "\n",
      "\n",
      "Calculated F-scores for cutoff: 0.8\n",
      "\n",
      "Macro: 0.05290382274565741\n",
      "Micro: 0.43695282484096487\n",
      "Weighted: 0.2748237878536059\n",
      "Samples: 0.442691624009669\n",
      "None:\n",
      " [0.90419806 0.3861912  0.         0.         0.         0.\n",
      " 0.         0.75722294 0.         0.         0.         0.84465825\n",
      " 0.60435835 0.         0.59107291 0.         0.         0.\n",
      " 0.         0.6593674  0.         0.         0.83954097 0.\n",
      " 0.         0.         0.         0.         0.         0.\n",
      " 0.         0.         0.         0.         0.         0.\n",
      " 0.         0.         0.         0.         0.         0.\n",
      " 0.         0.         0.         0.         0.         0.\n",
      " 0.         0.         0.         0.         0.         0.\n",
      " 0.         0.         0.         0.         0.         0.\n",
      " 0.         0.         0.         0.         0.         0.\n",
      " 0.         0.         0.         0.         0.         0.\n",
      " 0.         0.         0.         0.         0.         0.\n",
      " 0.         0.         0.         0.         0.         0.\n",
      " 0.         0.         0.         0.         0.         0.\n",
      " 0.         0.         0.         0.         0.         0.\n",
      " 0.         0.         0.         0.         0.         0.\n",
      " 0.         0.         0.         0.         0.         0.\n",
      " 0.97346394 0.         0.         0.         0.         0.\n",
      " 0.         0.         0.         0.         0.         0.\n",
      " 0.         0.         0.         0.        ]\n",
      "\n",
      "\n",
      "Calculated F-scores for cutoff: 0.9\n",
      "\n",
      "Macro: 0.045611902887329\n",
      "Micro: 0.38625553550926683\n",
      "Weighted: 0.23043549993315507\n",
      "Samples: 0.393927814147877\n",
      "None:\n",
      " [0.         0.3861912  0.         0.         0.         0.\n",
      " 0.         0.75722294 0.         0.         0.         0.84465825\n",
      " 0.60435835 0.         0.59107291 0.         0.         0.\n",
      " 0.         0.6593674  0.         0.         0.83954097 0.\n",
      " 0.         0.         0.         0.         0.         0.\n",
      " 0.         0.         0.         0.         0.         0.\n",
      " 0.         0.         0.         0.         0.         0.\n",
      " 0.         0.         0.         0.         0.         0.\n",
      " 0.         0.         0.         0.         0.         0.\n",
      " 0.         0.         0.         0.         0.         0.\n",
      " 0.         0.         0.         0.         0.         0.\n",
      " 0.         0.         0.         0.         0.         0.\n",
      " 0.         0.         0.         0.         0.         0.\n",
      " 0.         0.         0.         0.         0.         0.\n",
      " 0.         0.         0.         0.         0.         0.\n",
      " 0.         0.         0.         0.         0.         0.\n",
      " 0.         0.         0.         0.         0.         0.\n",
      " 0.         0.         0.         0.         0.         0.\n",
      " 0.97346394 0.         0.         0.         0.         0.\n",
      " 0.         0.         0.         0.         0.         0.\n",
      " 0.         0.         0.         0.        ]\n"
     ]
    }
   ],
   "source": [
    "y_true = np.array(eval_df['labels'].tolist())\n",
    "y_true[y_true > 1] = 1\n",
    "\n",
    "for cut_off in np.linspace(0.1,1,9,endpoint=False):  \n",
    "\n",
    "    y_pred = np.empty((0,124))\n",
    "\n",
    "    for i in range(len(raw_outputs)):\n",
    "        temp = np.max(raw_outputs[i], axis=0)\n",
    "        temp[temp>cut_off] = 1\n",
    "        temp[temp<=cut_off] = 0\n",
    "        y_pred = np.vstack([y_pred,temp])\n",
    "    \n",
    "    print(\"\\n\\nCalculated F-scores for cutoff:\", cut_off)\n",
    "    print(\"\\nMacro:\", sklearn.metrics.f1_score(y_true, y_pred, average='macro'))\n",
    "    print(\"Micro:\", sklearn.metrics.f1_score(y_true, y_pred, average='micro'))\n",
    "    print(\"Weighted:\", sklearn.metrics.f1_score(y_true, y_pred, average='weighted'))\n",
    "    print(\"Samples:\",sklearn.metrics.f1_score(y_true, y_pred, average='samples', zero_division=1))\n",
    "    print(\"None:\\n\",sklearn.metrics.f1_score(y_true, y_pred, average=None))"
   ]
  },
  {
   "cell_type": "markdown",
   "metadata": {},
   "source": [
    "# Compare to 2 Epoch Model"
   ]
  },
  {
   "cell_type": "code",
   "execution_count": 10,
   "metadata": {},
   "outputs": [],
   "source": [
    "model = MultiLabelClassificationModel('bert', \"./outputs/checkpoint-63954-epoch-2\", num_labels=124,\n",
    "                                      args={'train_batch_size':4,\n",
    "                                            'sliding_window': True,\n",
    "                                            'stride': 0.8,\n",
    "                                            'gradient_accumulation_steps':16,\n",
    "                                            'learning_rate': 3e-5,\n",
    "                                            'num_train_epochs': 3,\n",
    "                                            'max_seq_length': 512,\n",
    "                                            'reprocess_input_data': True,\n",
    "                                            'overwrite_output_dir': True,\n",
    "                                            'no_cache': True,\n",
    "                                            'multiprocessing_chunksize': 410,\n",
    "                                           'tensorboard_dir':'./outputs/',\n",
    "                                           'wandb_project': False,\n",
    "                                           'save_model_every_epoch': True,\n",
    "                                           'no_save': False,\n",
    "                                           'save_optimizer_and_scheduler': True})"
   ]
  },
  {
   "cell_type": "code",
   "execution_count": 11,
   "metadata": {},
   "outputs": [
    {
     "data": {
      "application/vnd.jupyter.widget-view+json": {
       "model_id": "e879cdc301824d25829e78ceedcb1ddd",
       "version_major": 2,
       "version_minor": 0
      },
      "text/plain": [
       "HBox(children=(FloatProgress(value=0.0, max=2882.0), HTML(value='')))"
      ]
     },
     "metadata": {},
     "output_type": "display_data"
    },
    {
     "name": "stdout",
     "output_type": "stream",
     "text": [
      "\n"
     ]
    },
    {
     "data": {
      "application/vnd.jupyter.widget-view+json": {
       "model_id": "af191c9ceb4342838bbf7d5faa6cbb27",
       "version_major": 2,
       "version_minor": 0
      },
      "text/plain": [
       "HBox(children=(FloatProgress(value=0.0, max=14226.0), HTML(value='')))"
      ]
     },
     "metadata": {},
     "output_type": "display_data"
    },
    {
     "name": "stdout",
     "output_type": "stream",
     "text": [
      "\n"
     ]
    }
   ],
   "source": [
    "predictions, raw_outputs = model.predict(eval_df['text'])"
   ]
  },
  {
   "cell_type": "code",
   "execution_count": 12,
   "metadata": {
    "scrolled": false
   },
   "outputs": [
    {
     "name": "stdout",
     "output_type": "stream",
     "text": [
      "\n",
      "\n",
      "Calculated F-scores for cutoff: 0.1\n",
      "\n",
      "Macro: 0.1732386101703209\n",
      "Micro: 0.45128354725787634\n",
      "Weighted: 0.5125896828306503\n",
      "Samples: 0.4456942534521216\n",
      "None:\n",
      " [0.84465825 0.83954097 0.81695389 0.65557316 0.60609388 0.42431762\n",
      " 0.28475034 0.75722294 0.54137931 0.48145933 0.44047619 0.84465825\n",
      " 0.60435835 0.52771392 0.59107291 0.         0.20014144 0.31687106\n",
      " 0.2479564  0.6491018  0.5382193  0.60609388 0.83954097 0.\n",
      " 0.13107511 0.         0.17410072 0.31193881 0.         0.\n",
      " 0.29090909 0.         0.         0.         0.1641953  0.\n",
      " 0.         0.         0.         0.         0.         0.14812112\n",
      " 0.         0.18129703 0.11581292 0.         0.         0.\n",
      " 0.         0.         0.         0.57175014 0.         0.\n",
      " 0.         0.         0.         0.         0.36732068 0.\n",
      " 0.         0.         0.         0.         0.38446849 0.\n",
      " 0.         0.         0.41176471 0.         0.         0.\n",
      " 0.         0.         0.         0.16389892 0.         0.\n",
      " 0.13102687 0.         0.         0.         0.26580116 0.2206655\n",
      " 0.         0.         0.07581501 0.31697613 0.         0.\n",
      " 0.2069209  0.         0.         0.         0.21800948 0.35568513\n",
      " 0.         0.09459459 0.         0.         0.         0.14134017\n",
      " 0.         0.         0.         0.         0.         0.\n",
      " 0.97346394 0.63297232 0.         0.         0.         0.\n",
      " 0.64994026 0.41573034 0.42777778 0.         0.         0.\n",
      " 0.         0.28006088 0.         0.        ]\n",
      "\n",
      "\n",
      "Calculated F-scores for cutoff: 0.2\n",
      "\n",
      "Macro: 0.14858551771669543\n",
      "Micro: 0.5417484419653618\n",
      "Weighted: 0.49558936332876713\n",
      "Samples: 0.5295398680403876\n",
      "None:\n",
      " [0.90419806 0.83954097 0.81695389 0.65557316 0.60609388 0.42431762\n",
      " 0.         0.75722294 0.54137931 0.48145933 0.44047619 0.84465825\n",
      " 0.60435835 0.52771392 0.59107291 0.         0.20014144 0.31687106\n",
      " 0.2479564  0.6491018  0.5382193  0.60609388 0.83954097 0.\n",
      " 0.         0.         0.         0.         0.         0.\n",
      " 0.         0.         0.         0.         0.         0.\n",
      " 0.         0.         0.         0.         0.         0.\n",
      " 0.         0.         0.         0.         0.         0.\n",
      " 0.         0.         0.         0.57175014 0.         0.\n",
      " 0.         0.         0.         0.         0.36732068 0.\n",
      " 0.         0.         0.         0.         0.38446849 0.\n",
      " 0.         0.         0.41176471 0.         0.         0.\n",
      " 0.         0.         0.         0.         0.         0.\n",
      " 0.         0.         0.         0.         0.26580116 0.\n",
      " 0.         0.         0.         0.31697613 0.         0.\n",
      " 0.         0.         0.         0.         0.21800948 0.35568513\n",
      " 0.         0.         0.         0.         0.         0.\n",
      " 0.         0.         0.         0.         0.         0.\n",
      " 0.97346394 0.63297232 0.         0.         0.         0.\n",
      " 0.64994026 0.41573034 0.42777778 0.         0.         0.\n",
      " 0.         0.         0.         0.        ]\n",
      "\n",
      "\n",
      "Calculated F-scores for cutoff: 0.30000000000000004\n",
      "\n",
      "Macro: 0.13626312179388955\n",
      "Micro: 0.5631108735491753\n",
      "Weighted: 0.4827844140871503\n",
      "Samples: 0.5519699240807215\n",
      "None:\n",
      " [0.90419806 0.83954097 0.81695389 0.65557316 0.60609388 0.42431762\n",
      " 0.         0.75722294 0.54137931 0.48145933 0.48150358 0.84465825\n",
      " 0.60435835 0.57574909 0.59107291 0.         0.         0.\n",
      " 0.2479564  0.6491018  0.5382193  0.60609388 0.83954097 0.\n",
      " 0.         0.         0.         0.         0.         0.\n",
      " 0.         0.         0.         0.         0.         0.\n",
      " 0.         0.         0.         0.         0.         0.\n",
      " 0.         0.         0.         0.         0.         0.\n",
      " 0.         0.         0.         0.57175014 0.         0.\n",
      " 0.         0.         0.         0.         0.         0.\n",
      " 0.         0.         0.         0.         0.38446849 0.\n",
      " 0.         0.         0.41176471 0.         0.         0.\n",
      " 0.         0.         0.         0.         0.         0.\n",
      " 0.         0.         0.         0.         0.26580116 0.\n",
      " 0.         0.         0.         0.         0.         0.\n",
      " 0.         0.         0.         0.         0.21800948 0.35568513\n",
      " 0.         0.         0.         0.         0.         0.\n",
      " 0.         0.         0.         0.         0.         0.\n",
      " 0.97346394 0.63297232 0.         0.         0.         0.\n",
      " 0.64994026 0.         0.42777778 0.         0.         0.\n",
      " 0.         0.         0.         0.        ]\n",
      "\n",
      "\n",
      "Calculated F-scores for cutoff: 0.4\n",
      "\n",
      "Macro: 0.1196376195571772\n",
      "Micro: 0.567281929145579\n",
      "Weighted: 0.4535628792918775\n",
      "Samples: 0.5560244449236706\n",
      "None:\n",
      " [0.90419806 0.83954097 0.81695389 0.65557316 0.60609388 0.42431762\n",
      " 0.         0.75722294 0.54137931 0.48145933 0.48150358 0.84465825\n",
      " 0.60435835 0.57574909 0.59107291 0.         0.         0.\n",
      " 0.2479564  0.6491018  0.5382193  0.60609388 0.83954097 0.\n",
      " 0.         0.         0.         0.         0.         0.\n",
      " 0.         0.         0.         0.         0.         0.\n",
      " 0.         0.         0.         0.         0.         0.\n",
      " 0.         0.         0.         0.         0.         0.\n",
      " 0.         0.         0.         0.         0.         0.\n",
      " 0.         0.         0.         0.         0.         0.\n",
      " 0.         0.         0.         0.         0.         0.\n",
      " 0.         0.         0.         0.         0.         0.\n",
      " 0.         0.         0.         0.         0.         0.\n",
      " 0.         0.         0.         0.         0.         0.\n",
      " 0.         0.         0.         0.         0.         0.\n",
      " 0.         0.         0.         0.         0.21800948 0.35568513\n",
      " 0.         0.         0.         0.         0.         0.\n",
      " 0.         0.         0.         0.         0.         0.\n",
      " 0.97346394 0.63297232 0.         0.         0.         0.\n",
      " 0.64994026 0.         0.         0.         0.         0.\n",
      " 0.         0.         0.         0.        ]\n",
      "\n",
      "\n",
      "Calculated F-scores for cutoff: 0.5\n",
      "\n",
      "Macro: 0.10987214122358395\n",
      "Micro: 0.5649459349409582\n",
      "Weighted: 0.434407410449084\n",
      "Samples: 0.5551448034888926\n",
      "None:\n",
      " [0.90419806 0.83954097 0.81695389 0.65557316 0.60609388 0.42431762\n",
      " 0.         0.75722294 0.54137931 0.         0.         0.84465825\n",
      " 0.60435835 0.57574909 0.59107291 0.         0.         0.\n",
      " 0.         0.6491018  0.5382193  0.60609388 0.83954097 0.\n",
      " 0.         0.         0.         0.         0.         0.\n",
      " 0.         0.         0.         0.         0.         0.\n",
      " 0.         0.         0.         0.         0.         0.\n",
      " 0.         0.         0.         0.         0.         0.\n",
      " 0.         0.         0.         0.         0.         0.\n",
      " 0.         0.         0.         0.         0.         0.\n",
      " 0.         0.         0.         0.         0.         0.\n",
      " 0.         0.         0.         0.         0.         0.\n",
      " 0.         0.         0.         0.         0.         0.\n",
      " 0.         0.         0.         0.         0.         0.\n",
      " 0.         0.         0.         0.         0.         0.\n",
      " 0.         0.         0.         0.         0.21800948 0.35568513\n",
      " 0.         0.         0.         0.         0.         0.\n",
      " 0.         0.         0.         0.         0.         0.\n",
      " 0.97346394 0.63297232 0.         0.         0.         0.\n",
      " 0.64994026 0.         0.         0.         0.         0.\n",
      " 0.         0.         0.         0.        ]\n",
      "\n",
      "\n",
      "Calculated F-scores for cutoff: 0.6\n",
      "\n",
      "Macro: 0.08945816089651208\n",
      "Micro: 0.5531821076870316\n",
      "Weighted: 0.4035990325907193\n",
      "Samples: 0.5396255442023211\n",
      "None:\n",
      " [0.90419806 0.83954097 0.81695389 0.65557316 0.         0.\n",
      " 0.         0.75722294 0.54137931 0.         0.         0.84465825\n",
      " 0.60435835 0.57574909 0.59107291 0.         0.         0.\n",
      " 0.         0.6491018  0.5382193  0.60609388 0.83954097 0.\n",
      " 0.         0.         0.         0.         0.         0.\n",
      " 0.         0.         0.         0.         0.         0.\n",
      " 0.         0.         0.         0.         0.         0.\n",
      " 0.         0.         0.         0.         0.         0.\n",
      " 0.         0.         0.         0.         0.         0.\n",
      " 0.         0.         0.         0.         0.         0.\n",
      " 0.         0.         0.         0.         0.         0.\n",
      " 0.         0.         0.         0.         0.         0.\n",
      " 0.         0.         0.         0.         0.         0.\n",
      " 0.         0.         0.         0.         0.         0.\n",
      " 0.         0.         0.         0.         0.         0.\n",
      " 0.         0.         0.         0.         0.         0.35568513\n",
      " 0.         0.         0.         0.         0.         0.\n",
      " 0.         0.         0.         0.         0.         0.\n",
      " 0.97346394 0.         0.         0.         0.         0.\n",
      " 0.         0.         0.         0.         0.         0.\n",
      " 0.         0.         0.         0.        ]\n"
     ]
    },
    {
     "name": "stdout",
     "output_type": "stream",
     "text": [
      "\n",
      "\n",
      "Calculated F-scores for cutoff: 0.7000000000000001\n",
      "\n",
      "Macro: 0.07082170234603283\n",
      "Micro: 0.5156101381972807\n",
      "Weighted: 0.3468217060142614\n",
      "Samples: 0.5122318229932645\n",
      "None:\n",
      " [0.90419806 0.83954097 0.81695389 0.         0.         0.\n",
      " 0.         0.75722294 0.         0.         0.         0.84465825\n",
      " 0.60435835 0.         0.59107291 0.         0.         0.\n",
      " 0.         0.6491018  0.         0.60609388 0.83954097 0.\n",
      " 0.         0.         0.         0.         0.         0.\n",
      " 0.         0.         0.         0.         0.         0.\n",
      " 0.         0.         0.         0.         0.         0.\n",
      " 0.         0.         0.         0.         0.         0.\n",
      " 0.         0.         0.         0.         0.         0.\n",
      " 0.         0.         0.         0.         0.         0.\n",
      " 0.         0.         0.         0.         0.         0.\n",
      " 0.         0.         0.         0.         0.         0.\n",
      " 0.         0.         0.         0.         0.         0.\n",
      " 0.         0.         0.         0.         0.         0.\n",
      " 0.         0.         0.         0.         0.         0.\n",
      " 0.         0.         0.         0.         0.         0.35568513\n",
      " 0.         0.         0.         0.         0.         0.\n",
      " 0.         0.         0.         0.         0.         0.\n",
      " 0.97346394 0.         0.         0.         0.         0.\n",
      " 0.         0.         0.         0.         0.         0.\n",
      " 0.         0.         0.         0.        ]\n",
      "\n",
      "\n",
      "Calculated F-scores for cutoff: 0.8\n",
      "\n",
      "Macro: 0.05286054999368093\n",
      "Micro: 0.4370573236377373\n",
      "Weighted: 0.27499699524974497\n",
      "Samples: 0.4428133241896826\n",
      "None:\n",
      " [0.90419806 0.39109098 0.         0.         0.         0.\n",
      " 0.         0.75722294 0.         0.         0.         0.84465825\n",
      " 0.60435835 0.         0.59107291 0.         0.         0.\n",
      " 0.         0.6491018  0.         0.         0.83954097 0.\n",
      " 0.         0.         0.         0.         0.         0.\n",
      " 0.         0.         0.         0.         0.         0.\n",
      " 0.         0.         0.         0.         0.         0.\n",
      " 0.         0.         0.         0.         0.         0.\n",
      " 0.         0.         0.         0.         0.         0.\n",
      " 0.         0.         0.         0.         0.         0.\n",
      " 0.         0.         0.         0.         0.         0.\n",
      " 0.         0.         0.         0.         0.         0.\n",
      " 0.         0.         0.         0.         0.         0.\n",
      " 0.         0.         0.         0.         0.         0.\n",
      " 0.         0.         0.         0.         0.         0.\n",
      " 0.         0.         0.         0.         0.         0.\n",
      " 0.         0.         0.         0.         0.         0.\n",
      " 0.         0.         0.         0.         0.         0.\n",
      " 0.97346394 0.         0.         0.         0.         0.\n",
      " 0.         0.         0.         0.         0.         0.\n",
      " 0.         0.         0.         0.        ]\n",
      "\n",
      "\n",
      "Calculated F-scores for cutoff: 0.9\n",
      "\n",
      "Macro: 0.040801913088749586\n",
      "Micro: 0.3666906154846214\n",
      "Weighted: 0.21588697049729288\n",
      "Samples: 0.38050082904935856\n",
      "None:\n",
      " [0.         0.39109098 0.         0.         0.         0.\n",
      " 0.         0.75722294 0.         0.         0.         0.84465825\n",
      " 0.60435835 0.         0.         0.         0.         0.\n",
      " 0.         0.6491018  0.         0.         0.83954097 0.\n",
      " 0.         0.         0.         0.         0.         0.\n",
      " 0.         0.         0.         0.         0.         0.\n",
      " 0.         0.         0.         0.         0.         0.\n",
      " 0.         0.         0.         0.         0.         0.\n",
      " 0.         0.         0.         0.         0.         0.\n",
      " 0.         0.         0.         0.         0.         0.\n",
      " 0.         0.         0.         0.         0.         0.\n",
      " 0.         0.         0.         0.         0.         0.\n",
      " 0.         0.         0.         0.         0.         0.\n",
      " 0.         0.         0.         0.         0.         0.\n",
      " 0.         0.         0.         0.         0.         0.\n",
      " 0.         0.         0.         0.         0.         0.\n",
      " 0.         0.         0.         0.         0.         0.\n",
      " 0.         0.         0.         0.         0.         0.\n",
      " 0.97346394 0.         0.         0.         0.         0.\n",
      " 0.         0.         0.         0.         0.         0.\n",
      " 0.         0.         0.         0.        ]\n"
     ]
    }
   ],
   "source": [
    "y_true = np.array(eval_df['labels'].tolist())\n",
    "y_true[y_true > 1] = 1\n",
    "\n",
    "for cut_off in np.linspace(0.1,1,9,endpoint=False):  \n",
    "\n",
    "    y_pred = np.empty((0,124))\n",
    "\n",
    "    for i in range(len(raw_outputs)):\n",
    "        temp = np.max(raw_outputs[i], axis=0)\n",
    "        temp[temp>cut_off] = 1\n",
    "        temp[temp<=cut_off] = 0\n",
    "        y_pred = np.vstack([y_pred,temp])\n",
    "    \n",
    "    print(\"\\n\\nCalculated F-scores for cutoff:\", cut_off)\n",
    "    print(\"\\nMacro:\", sklearn.metrics.f1_score(y_true, y_pred, average='macro'))\n",
    "    print(\"Micro:\", sklearn.metrics.f1_score(y_true, y_pred, average='micro'))\n",
    "    print(\"Weighted:\", sklearn.metrics.f1_score(y_true, y_pred, average='weighted'))\n",
    "    print(\"Samples:\",sklearn.metrics.f1_score(y_true, y_pred, average='samples', zero_division=1))\n",
    "    print(\"None:\\n\",sklearn.metrics.f1_score(y_true, y_pred, average=None))"
   ]
  },
  {
   "cell_type": "markdown",
   "metadata": {},
   "source": [
    "# Compare to 1 Epoch Model"
   ]
  },
  {
   "cell_type": "code",
   "execution_count": 13,
   "metadata": {},
   "outputs": [],
   "source": [
    "model = MultiLabelClassificationModel('bert', \"./outputs/checkpoint-31977-epoch-1\", num_labels=124,\n",
    "                                      args={'train_batch_size':4,\n",
    "                                            'sliding_window': True,\n",
    "                                            'stride': 0.8,\n",
    "                                            'gradient_accumulation_steps':16,\n",
    "                                            'learning_rate': 3e-5,\n",
    "                                            'num_train_epochs': 3,\n",
    "                                            'max_seq_length': 512,\n",
    "                                            'reprocess_input_data': True,\n",
    "                                            'overwrite_output_dir': True,\n",
    "                                            'no_cache': True,\n",
    "                                            'multiprocessing_chunksize': 410,\n",
    "                                           'tensorboard_dir':'./outputs/',\n",
    "                                           'wandb_project': False,\n",
    "                                           'save_model_every_epoch': True,\n",
    "                                           'no_save': False,\n",
    "                                           'save_optimizer_and_scheduler': True})"
   ]
  },
  {
   "cell_type": "code",
   "execution_count": 14,
   "metadata": {},
   "outputs": [
    {
     "data": {
      "application/vnd.jupyter.widget-view+json": {
       "model_id": "a491b0d989a64e65913d404a6a1f9067",
       "version_major": 2,
       "version_minor": 0
      },
      "text/plain": [
       "HBox(children=(FloatProgress(value=0.0, max=2882.0), HTML(value='')))"
      ]
     },
     "metadata": {},
     "output_type": "display_data"
    },
    {
     "name": "stdout",
     "output_type": "stream",
     "text": [
      "\n"
     ]
    },
    {
     "data": {
      "application/vnd.jupyter.widget-view+json": {
       "model_id": "2217f4e66ec549739086d5d5b5749bef",
       "version_major": 2,
       "version_minor": 0
      },
      "text/plain": [
       "HBox(children=(FloatProgress(value=0.0, max=14226.0), HTML(value='')))"
      ]
     },
     "metadata": {},
     "output_type": "display_data"
    },
    {
     "name": "stdout",
     "output_type": "stream",
     "text": [
      "\n"
     ]
    }
   ],
   "source": [
    "predictions, raw_outputs = model.predict(eval_df['text'])"
   ]
  },
  {
   "cell_type": "code",
   "execution_count": 15,
   "metadata": {
    "scrolled": false
   },
   "outputs": [
    {
     "name": "stdout",
     "output_type": "stream",
     "text": [
      "\n",
      "\n",
      "Calculated F-scores for cutoff: 0.1\n",
      "\n",
      "Macro: 0.1757971450486654\n",
      "Micro: 0.446947332794314\n",
      "Weighted: 0.5164590768777718\n",
      "Samples: 0.44343468159506666\n",
      "None:\n",
      " [0.90419806 0.83954097 0.81695389 0.6550449  0.60609388 0.42431762\n",
      " 0.28475034 0.75722294 0.54137931 0.48145933 0.44047619 0.84465825\n",
      " 0.60435835 0.52771392 0.59107291 0.         0.20014144 0.31687106\n",
      " 0.2553802  0.67919799 0.5382193  0.60609388 0.83954097 0.\n",
      " 0.13107511 0.         0.17410072 0.31193881 0.         0.\n",
      " 0.29090909 0.         0.08308157 0.         0.1641953  0.\n",
      " 0.         0.         0.         0.         0.         0.14812112\n",
      " 0.         0.18129703 0.         0.         0.         0.\n",
      " 0.         0.         0.         0.57175014 0.         0.\n",
      " 0.         0.         0.         0.         0.36732068 0.\n",
      " 0.         0.         0.         0.         0.38446849 0.\n",
      " 0.         0.         0.41176471 0.         0.         0.\n",
      " 0.         0.         0.         0.16389892 0.         0.\n",
      " 0.13102687 0.09741476 0.         0.         0.26580116 0.2206655\n",
      " 0.         0.         0.07581501 0.31697613 0.         0.\n",
      " 0.2069209  0.         0.         0.         0.23154362 0.37596302\n",
      " 0.         0.09459459 0.         0.         0.         0.14134017\n",
      " 0.         0.         0.         0.         0.         0.\n",
      " 0.97346394 0.66246851 0.         0.         0.         0.\n",
      " 0.68       0.43851852 0.45095168 0.         0.         0.\n",
      " 0.         0.29677419 0.         0.        ]\n",
      "\n",
      "\n",
      "Calculated F-scores for cutoff: 0.2\n",
      "\n",
      "Macro: 0.14685840832112715\n",
      "Micro: 0.5445328463979826\n",
      "Weighted: 0.49605431587571325\n",
      "Samples: 0.5323668029130675\n",
      "None:\n",
      " [0.90419806 0.83954097 0.81695389 0.6550449  0.60609388 0.42431762\n",
      " 0.         0.75722294 0.54137931 0.48145933 0.44047619 0.84465825\n",
      " 0.60435835 0.57574909 0.59107291 0.         0.20014144 0.31687106\n",
      " 0.2553802  0.67919799 0.5382193  0.60609388 0.83954097 0.\n",
      " 0.         0.         0.         0.         0.         0.\n",
      " 0.         0.         0.         0.         0.         0.\n",
      " 0.         0.         0.         0.         0.         0.\n",
      " 0.         0.         0.         0.         0.         0.\n",
      " 0.         0.         0.         0.57175014 0.         0.\n",
      " 0.         0.         0.         0.         0.36732068 0.\n",
      " 0.         0.         0.         0.         0.38446849 0.\n",
      " 0.         0.         0.41176471 0.         0.         0.\n",
      " 0.         0.         0.         0.         0.         0.\n",
      " 0.         0.         0.         0.         0.26580116 0.\n",
      " 0.         0.         0.         0.31697613 0.         0.\n",
      " 0.         0.         0.         0.         0.23154362 0.37596302\n",
      " 0.         0.         0.         0.         0.         0.\n",
      " 0.         0.         0.         0.         0.         0.\n",
      " 0.97346394 0.66246851 0.         0.         0.         0.\n",
      " 0.68       0.         0.45095168 0.         0.         0.\n",
      " 0.         0.         0.         0.        ]\n",
      "\n",
      "\n",
      "Calculated F-scores for cutoff: 0.30000000000000004\n",
      "\n",
      "Macro: 0.13750129601126673\n",
      "Micro: 0.5644489948234123\n",
      "Weighted: 0.4835268074596976\n",
      "Samples: 0.5529961494623258\n",
      "None:\n",
      " [0.90419806 0.83954097 0.81695389 0.6550449  0.60609388 0.42431762\n",
      " 0.         0.75722294 0.54137931 0.48145933 0.48150358 0.84465825\n",
      " 0.60435835 0.57574909 0.59107291 0.         0.         0.\n",
      " 0.2553802  0.67919799 0.5382193  0.60609388 0.83954097 0.\n",
      " 0.         0.         0.         0.         0.         0.\n",
      " 0.         0.         0.         0.         0.         0.\n",
      " 0.         0.         0.         0.         0.         0.\n",
      " 0.         0.         0.         0.         0.         0.\n",
      " 0.         0.         0.         0.57175014 0.         0.\n",
      " 0.         0.         0.         0.         0.         0.\n",
      " 0.         0.         0.         0.         0.38446849 0.\n",
      " 0.         0.         0.41176471 0.         0.         0.\n",
      " 0.         0.         0.         0.         0.         0.\n",
      " 0.         0.         0.         0.         0.26580116 0.\n",
      " 0.         0.         0.         0.         0.         0.\n",
      " 0.         0.         0.         0.         0.23154362 0.37596302\n",
      " 0.         0.         0.         0.         0.         0.\n",
      " 0.         0.         0.         0.         0.         0.\n",
      " 0.97346394 0.66246851 0.         0.         0.         0.\n",
      " 0.68       0.         0.45095168 0.         0.         0.\n",
      " 0.         0.         0.         0.        ]\n",
      "\n",
      "\n",
      "Calculated F-scores for cutoff: 0.4\n",
      "\n",
      "Macro: 0.12432561456308483\n",
      "Micro: 0.5686488548809309\n",
      "Weighted: 0.45586010335718646\n",
      "Samples: 0.5577985167361759\n",
      "None:\n",
      " [0.90419806 0.83954097 0.81695389 0.6550449  0.60609388 0.42431762\n",
      " 0.         0.75722294 0.54137931 0.48145933 0.48150358 0.84465825\n",
      " 0.60435835 0.57574909 0.59107291 0.         0.         0.\n",
      " 0.2553802  0.67919799 0.5382193  0.60609388 0.83954097 0.\n",
      " 0.         0.         0.         0.         0.         0.\n",
      " 0.         0.         0.         0.         0.         0.\n",
      " 0.         0.         0.         0.         0.         0.\n",
      " 0.         0.         0.         0.         0.         0.\n",
      " 0.         0.         0.         0.         0.         0.\n",
      " 0.         0.         0.         0.         0.         0.\n",
      " 0.         0.         0.         0.         0.         0.\n",
      " 0.         0.         0.         0.         0.         0.\n",
      " 0.         0.         0.         0.         0.         0.\n",
      " 0.         0.         0.         0.         0.         0.\n",
      " 0.         0.         0.         0.         0.         0.\n",
      " 0.         0.         0.         0.         0.23154362 0.37596302\n",
      " 0.         0.         0.         0.         0.         0.\n",
      " 0.         0.         0.         0.         0.         0.\n",
      " 0.97346394 0.66246851 0.         0.         0.         0.\n",
      " 0.68       0.         0.45095168 0.         0.         0.\n",
      " 0.         0.         0.         0.        ]\n",
      "\n",
      "\n",
      "Calculated F-scores for cutoff: 0.5\n",
      "\n",
      "Macro: 0.11086355976707829\n",
      "Micro: 0.5661078808074625\n",
      "Weighted: 0.4350361697367789\n",
      "Samples: 0.5560125232298068\n",
      "None:\n",
      " [0.90419806 0.83954097 0.81695389 0.6550449  0.60609388 0.42431762\n",
      " 0.         0.75722294 0.54137931 0.         0.         0.84465825\n",
      " 0.60435835 0.57574909 0.59107291 0.         0.         0.\n",
      " 0.         0.67919799 0.5382193  0.60609388 0.83954097 0.\n",
      " 0.         0.         0.         0.         0.         0.\n",
      " 0.         0.         0.         0.         0.         0.\n",
      " 0.         0.         0.         0.         0.         0.\n",
      " 0.         0.         0.         0.         0.         0.\n",
      " 0.         0.         0.         0.         0.         0.\n",
      " 0.         0.         0.         0.         0.         0.\n",
      " 0.         0.         0.         0.         0.         0.\n",
      " 0.         0.         0.         0.         0.         0.\n",
      " 0.         0.         0.         0.         0.         0.\n",
      " 0.         0.         0.         0.         0.         0.\n",
      " 0.         0.         0.         0.         0.         0.\n",
      " 0.         0.         0.         0.         0.23154362 0.37596302\n",
      " 0.         0.         0.         0.         0.         0.\n",
      " 0.         0.         0.         0.         0.         0.\n",
      " 0.97346394 0.66246851 0.         0.         0.         0.\n",
      " 0.68       0.         0.         0.         0.         0.\n",
      " 0.         0.         0.         0.        ]\n",
      "\n",
      "\n",
      "Calculated F-scores for cutoff: 0.6\n",
      "\n",
      "Macro: 0.094747997219651\n",
      "Micro: 0.5632044514196034\n",
      "Weighted: 0.4194355758616114\n",
      "Samples: 0.548452296447947\n",
      "None:\n",
      " [0.90419806 0.83954097 0.81695389 0.6550449  0.60609388 0.\n",
      " 0.         0.75722294 0.54137931 0.         0.         0.84465825\n",
      " 0.60435835 0.57574909 0.59107291 0.         0.         0.\n",
      " 0.         0.67919799 0.5382193  0.60609388 0.83954097 0.\n",
      " 0.         0.         0.         0.         0.         0.\n",
      " 0.         0.         0.         0.         0.         0.\n",
      " 0.         0.         0.         0.         0.         0.\n",
      " 0.         0.         0.         0.         0.         0.\n",
      " 0.         0.         0.         0.         0.         0.\n",
      " 0.         0.         0.         0.         0.         0.\n",
      " 0.         0.         0.         0.         0.         0.\n",
      " 0.         0.         0.         0.         0.         0.\n",
      " 0.         0.         0.         0.         0.         0.\n",
      " 0.         0.         0.         0.         0.         0.\n",
      " 0.         0.         0.         0.         0.         0.\n",
      " 0.         0.         0.         0.         0.         0.37596302\n",
      " 0.         0.         0.         0.         0.         0.\n",
      " 0.         0.         0.         0.         0.         0.\n",
      " 0.97346394 0.         0.         0.         0.         0.\n",
      " 0.         0.         0.         0.         0.         0.\n",
      " 0.         0.         0.         0.        ]\n"
     ]
    },
    {
     "name": "stdout",
     "output_type": "stream",
     "text": [
      "\n",
      "\n",
      "Calculated F-scores for cutoff: 0.7000000000000001\n",
      "\n",
      "Macro: 0.07651056516609162\n",
      "Micro: 0.5319649521337011\n",
      "Weighted: 0.3661163474468814\n",
      "Samples: 0.5248919290443675\n",
      "None:\n",
      " [0.90419806 0.83954097 0.81695389 0.6550449  0.         0.\n",
      " 0.         0.75722294 0.         0.         0.         0.84465825\n",
      " 0.60435835 0.         0.59107291 0.         0.         0.\n",
      " 0.         0.67919799 0.         0.60609388 0.83954097 0.\n",
      " 0.         0.         0.         0.         0.         0.\n",
      " 0.         0.         0.         0.         0.         0.\n",
      " 0.         0.         0.         0.         0.         0.\n",
      " 0.         0.         0.         0.         0.         0.\n",
      " 0.         0.         0.         0.         0.         0.\n",
      " 0.         0.         0.         0.         0.         0.\n",
      " 0.         0.         0.         0.         0.         0.\n",
      " 0.         0.         0.         0.         0.         0.\n",
      " 0.         0.         0.         0.         0.         0.\n",
      " 0.         0.         0.         0.         0.         0.\n",
      " 0.         0.         0.         0.         0.         0.\n",
      " 0.         0.         0.         0.         0.         0.37596302\n",
      " 0.         0.         0.         0.         0.         0.\n",
      " 0.         0.         0.         0.         0.         0.\n",
      " 0.97346394 0.         0.         0.         0.         0.\n",
      " 0.         0.         0.         0.         0.         0.\n",
      " 0.         0.         0.         0.        ]\n",
      "\n",
      "\n",
      "Calculated F-scores for cutoff: 0.8\n",
      "\n",
      "Macro: 0.052968864092590474\n",
      "Micro: 0.4366530097699339\n",
      "Weighted: 0.274377447787197\n",
      "Samples: 0.4425029946288049\n",
      "None:\n",
      " [0.90419806 0.37442573 0.         0.         0.         0.\n",
      " 0.         0.75722294 0.         0.         0.         0.84465825\n",
      " 0.60435835 0.         0.59107291 0.         0.         0.\n",
      " 0.         0.67919799 0.         0.         0.83954097 0.\n",
      " 0.         0.         0.         0.         0.         0.\n",
      " 0.         0.         0.         0.         0.         0.\n",
      " 0.         0.         0.         0.         0.         0.\n",
      " 0.         0.         0.         0.         0.         0.\n",
      " 0.         0.         0.         0.         0.         0.\n",
      " 0.         0.         0.         0.         0.         0.\n",
      " 0.         0.         0.         0.         0.         0.\n",
      " 0.         0.         0.         0.         0.         0.\n",
      " 0.         0.         0.         0.         0.         0.\n",
      " 0.         0.         0.         0.         0.         0.\n",
      " 0.         0.         0.         0.         0.         0.\n",
      " 0.         0.         0.         0.         0.         0.\n",
      " 0.         0.         0.         0.         0.         0.\n",
      " 0.         0.         0.         0.         0.         0.\n",
      " 0.97346394 0.         0.         0.         0.         0.\n",
      " 0.         0.         0.         0.         0.         0.\n",
      " 0.         0.         0.         0.        ]\n",
      "\n",
      "\n",
      "Calculated F-scores for cutoff: 0.9\n",
      "\n",
      "Macro: 0.045676944234262065\n",
      "Micro: 0.3859032861692\n",
      "Weighted: 0.22998915986674623\n",
      "Samples: 0.3936825820515091\n",
      "None:\n",
      " [0.         0.37442573 0.         0.         0.         0.\n",
      " 0.         0.75722294 0.         0.         0.         0.84465825\n",
      " 0.60435835 0.         0.59107291 0.         0.         0.\n",
      " 0.         0.67919799 0.         0.         0.83954097 0.\n",
      " 0.         0.         0.         0.         0.         0.\n",
      " 0.         0.         0.         0.         0.         0.\n",
      " 0.         0.         0.         0.         0.         0.\n",
      " 0.         0.         0.         0.         0.         0.\n",
      " 0.         0.         0.         0.         0.         0.\n",
      " 0.         0.         0.         0.         0.         0.\n",
      " 0.         0.         0.         0.         0.         0.\n",
      " 0.         0.         0.         0.         0.         0.\n",
      " 0.         0.         0.         0.         0.         0.\n",
      " 0.         0.         0.         0.         0.         0.\n",
      " 0.         0.         0.         0.         0.         0.\n",
      " 0.         0.         0.         0.         0.         0.\n",
      " 0.         0.         0.         0.         0.         0.\n",
      " 0.         0.         0.         0.         0.         0.\n",
      " 0.97346394 0.         0.         0.         0.         0.\n",
      " 0.         0.         0.         0.         0.         0.\n",
      " 0.         0.         0.         0.        ]\n"
     ]
    }
   ],
   "source": [
    "y_true = np.array(eval_df['labels'].tolist())\n",
    "y_true[y_true > 1] = 1\n",
    "\n",
    "for cut_off in np.linspace(0.1,1,9,endpoint=False):  \n",
    "\n",
    "    y_pred = np.empty((0,124))\n",
    "\n",
    "    for i in range(len(raw_outputs)):\n",
    "        temp = np.max(raw_outputs[i], axis=0)\n",
    "        temp[temp>cut_off] = 1\n",
    "        temp[temp<=cut_off] = 0\n",
    "        y_pred = np.vstack([y_pred,temp])\n",
    "    \n",
    "    print(\"\\n\\nCalculated F-scores for cutoff:\", cut_off)\n",
    "    print(\"\\nMacro:\", sklearn.metrics.f1_score(y_true, y_pred, average='macro'))\n",
    "    print(\"Micro:\", sklearn.metrics.f1_score(y_true, y_pred, average='micro'))\n",
    "    print(\"Weighted:\", sklearn.metrics.f1_score(y_true, y_pred, average='weighted'))\n",
    "    print(\"Samples:\",sklearn.metrics.f1_score(y_true, y_pred, average='samples', zero_division=1))\n",
    "    print(\"None:\\n\",sklearn.metrics.f1_score(y_true, y_pred, average=None))"
   ]
  },
  {
   "cell_type": "code",
   "execution_count": null,
   "metadata": {},
   "outputs": [],
   "source": []
  }
 ],
 "metadata": {
  "kernelspec": {
   "display_name": "Python 3",
   "language": "python",
   "name": "python3"
  },
  "language_info": {
   "codemirror_mode": {
    "name": "ipython",
    "version": 3
   },
   "file_extension": ".py",
   "mimetype": "text/x-python",
   "name": "python",
   "nbconvert_exporter": "python",
   "pygments_lexer": "ipython3",
   "version": "3.7.6"
  }
 },
 "nbformat": 4,
 "nbformat_minor": 4
}
