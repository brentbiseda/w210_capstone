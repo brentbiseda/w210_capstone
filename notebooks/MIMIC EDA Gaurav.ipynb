{
 "cells": [
  {
   "cell_type": "code",
   "execution_count": 1,
   "metadata": {},
   "outputs": [],
   "source": [
    "import os, fnmatch\n",
    "import pandas as pd\n",
    "\n",
    "\n",
    "DATA_FILES_PATH='data/physionet.org.nosync/files/mimiciii/1.4/'\n",
    "FILE_PATTERN=\"*.csv\""
   ]
  },
  {
   "cell_type": "code",
   "execution_count": 2,
   "metadata": {},
   "outputs": [
    {
     "name": "stdout",
     "output_type": "stream",
     "text": [
      "['ADMISSIONS.csv', 'CALLOUT.csv', 'CAREGIVERS.csv', 'CHARTEVENTS.csv', 'CPTEVENTS.csv', 'DATETIMEEVENTS.csv', 'DIAGNOSES_ICD.csv', 'DRGCODES.csv', 'D_CPT.csv', 'D_ICD_DIAGNOSES.csv', 'D_ICD_PROCEDURES.csv', 'D_ITEMS.csv', 'D_LABITEMS.csv', 'ICUSTAYS.csv', 'INPUTEVENTS_CV.csv', 'INPUTEVENTS_MV.csv', 'LABEVENTS.csv', 'MICROBIOLOGYEVENTS.csv', 'NOTEEVENTS.csv', 'OUTPUTEVENTS.csv', 'PATIENTS.csv', 'PRESCRIPTIONS.csv', 'PROCEDUREEVENTS_MV.csv', 'PROCEDURES_ICD.csv', 'SERVICES.csv', 'TRANSFERS.csv']\n"
     ]
    }
   ],
   "source": [
    "listOfFiles = os.listdir(DATA_FILES_PATH)\n",
    "listOfFiles.sort()\n",
    "listOfCSVs = [ filename for filename in listOfFiles if fnmatch.fnmatch(filename, FILE_PATTERN)]\n",
    "print(listOfCSVs)"
   ]
  },
  {
   "cell_type": "code",
   "execution_count": 14,
   "metadata": {},
   "outputs": [
    {
     "data": {
      "text/plain": [
       "'ADMISSIONS'"
      ]
     },
     "execution_count": 14,
     "metadata": {},
     "output_type": "execute_result"
    }
   ],
   "source": [
    "'ADMISSIONS.csv'.split('.')[0]"
   ]
  },
  {
   "cell_type": "code",
   "execution_count": null,
   "metadata": {},
   "outputs": [],
   "source": [
    "for file in listOfCSVs:\n",
    "    exec(file.split('.')[0]+'_DF=pd.read_csv(\"'+ DATA_FILES_PATH+file + '\")')"
   ]
  },
  {
   "cell_type": "code",
   "execution_count": 3,
   "metadata": {},
   "outputs": [],
   "source": [
    "#Convert to Parque files\n",
    "from pyspark.sql import SparkSession\n",
    "\n",
    "spark = SparkSession.builder \\\n",
    "  .master(\"local[*]\") \\\n",
    "  .appName(\"Gaurav_EDA\") \\\n",
    "  .getOrCreate()\n",
    "\n"
   ]
  },
  {
   "cell_type": "code",
   "execution_count": 4,
   "metadata": {},
   "outputs": [
    {
     "name": "stdout",
     "output_type": "stream",
     "text": [
      "Working on file ADMISSIONS.csv\n",
      "Read into df\n",
      "Writing into parquet at tmp/ADMISSIONS\n",
      "Working on file CALLOUT.csv\n",
      "Read into df\n",
      "Writing into parquet at tmp/CALLOUT\n",
      "Working on file CAREGIVERS.csv\n",
      "Read into df\n",
      "Writing into parquet at tmp/CAREGIVERS\n",
      "Working on file CHARTEVENTS.csv\n",
      "Read into df\n",
      "Writing into parquet at tmp/CHARTEVENTS\n",
      "Working on file CPTEVENTS.csv\n",
      "Read into df\n",
      "Writing into parquet at tmp/CPTEVENTS\n",
      "Working on file DATETIMEEVENTS.csv\n",
      "Read into df\n",
      "Writing into parquet at tmp/DATETIMEEVENTS\n",
      "Working on file DIAGNOSES_ICD.csv\n",
      "Read into df\n",
      "Writing into parquet at tmp/DIAGNOSES_ICD\n",
      "Working on file DRGCODES.csv\n",
      "Read into df\n",
      "Writing into parquet at tmp/DRGCODES\n",
      "Working on file D_CPT.csv\n",
      "Read into df\n",
      "Writing into parquet at tmp/D_CPT\n",
      "Working on file D_ICD_DIAGNOSES.csv\n",
      "Read into df\n",
      "Writing into parquet at tmp/D_ICD_DIAGNOSES\n",
      "Working on file D_ICD_PROCEDURES.csv\n",
      "Read into df\n",
      "Writing into parquet at tmp/D_ICD_PROCEDURES\n",
      "Working on file D_ITEMS.csv\n",
      "Read into df\n",
      "Writing into parquet at tmp/D_ITEMS\n",
      "Working on file D_LABITEMS.csv\n",
      "Read into df\n",
      "Writing into parquet at tmp/D_LABITEMS\n",
      "Working on file ICUSTAYS.csv\n",
      "Read into df\n",
      "Writing into parquet at tmp/ICUSTAYS\n",
      "Working on file INPUTEVENTS_CV.csv\n",
      "Read into df\n",
      "Writing into parquet at tmp/INPUTEVENTS_CV\n",
      "Working on file INPUTEVENTS_MV.csv\n",
      "Read into df\n",
      "Writing into parquet at tmp/INPUTEVENTS_MV\n",
      "Working on file LABEVENTS.csv\n",
      "Read into df\n",
      "Writing into parquet at tmp/LABEVENTS\n",
      "Working on file MICROBIOLOGYEVENTS.csv\n",
      "Read into df\n",
      "Writing into parquet at tmp/MICROBIOLOGYEVENTS\n",
      "Working on file NOTEEVENTS.csv\n",
      "Read into df\n",
      "Writing into parquet at tmp/NOTEEVENTS\n",
      "Working on file OUTPUTEVENTS.csv\n",
      "Read into df\n",
      "Writing into parquet at tmp/OUTPUTEVENTS\n",
      "Working on file PATIENTS.csv\n",
      "Read into df\n",
      "Writing into parquet at tmp/PATIENTS\n",
      "Working on file PRESCRIPTIONS.csv\n",
      "Read into df\n",
      "Writing into parquet at tmp/PRESCRIPTIONS\n",
      "Working on file PROCEDUREEVENTS_MV.csv\n",
      "Read into df\n",
      "Writing into parquet at tmp/PROCEDUREEVENTS_MV\n",
      "Working on file PROCEDURES_ICD.csv\n",
      "Read into df\n",
      "Writing into parquet at tmp/PROCEDURES_ICD\n",
      "Working on file SERVICES.csv\n",
      "Read into df\n",
      "Writing into parquet at tmp/SERVICES\n",
      "Working on file TRANSFERS.csv\n",
      "Read into df\n",
      "Writing into parquet at tmp/TRANSFERS\n"
     ]
    }
   ],
   "source": [
    "for file in listOfCSVs:\n",
    "    print('Working on file '+file)\n",
    "    df = spark.read.csv(DATA_FILES_PATH+file, header = True)\n",
    "    print(\"Read into df\")\n",
    "    parque_filename = \"tmp/\"+file.split('.')[0]\n",
    "    print('Writing into parquet at '+parque_filename)\n",
    "    df.write.mode('overwrite').parquet(parque_filename)"
   ]
  },
  {
   "cell_type": "code",
   "execution_count": 10,
   "metadata": {},
   "outputs": [],
   "source": [
    "def getDFFromParquet(filename):\n",
    "    return spark.read.parquet('tmp/'+filename)\n",
    "\n",
    "def createTempTableFromParquet(filename):\n",
    "    df = getDFFromParquet(filename)\n",
    "    df.createOrReplaceTempView(filename)"
   ]
  },
  {
   "cell_type": "code",
   "execution_count": 6,
   "metadata": {},
   "outputs": [],
   "source": [
    "ADMISSIONS_DF = getDFFromParquet('ADMISSIONS')"
   ]
  },
  {
   "cell_type": "code",
   "execution_count": 13,
   "metadata": {},
   "outputs": [],
   "source": [
    "createTempTableFromParquet('ADMISSIONS')"
   ]
  },
  {
   "cell_type": "code",
   "execution_count": 18,
   "metadata": {},
   "outputs": [
    {
     "name": "stdout",
     "output_type": "stream",
     "text": [
      "+--------+\n",
      "|count(1)|\n",
      "+--------+\n",
      "|   58976|\n",
      "+--------+\n",
      "\n"
     ]
    }
   ],
   "source": [
    "spark.sql(\"SELECT count(1) from ADMISSIONS\").show()"
   ]
  },
  {
   "cell_type": "code",
   "execution_count": 17,
   "metadata": {},
   "outputs": [
    {
     "data": {
      "text/plain": [
       "Row(ROW_ID='21', SUBJECT_ID='22', HADM_ID='165315', ADMITTIME='2196-04-09 12:26:00', DISCHTIME='2196-04-10 15:54:00', DEATHTIME=None, ADMISSION_TYPE='EMERGENCY', ADMISSION_LOCATION='EMERGENCY ROOM ADMIT', DISCHARGE_LOCATION='DISC-TRAN CANCER/CHLDRN H', INSURANCE='Private', LANGUAGE=None, RELIGION='UNOBTAINABLE', MARITAL_STATUS='MARRIED', ETHNICITY='WHITE', EDREGTIME='2196-04-09 10:06:00', EDOUTTIME='2196-04-09 13:24:00', DIAGNOSIS='BENZODIAZEPINE OVERDOSE', HOSPITAL_EXPIRE_FLAG='0', HAS_CHARTEVENTS_DATA='1')"
      ]
     },
     "execution_count": 17,
     "metadata": {},
     "output_type": "execute_result"
    }
   ],
   "source": [
    "ADMISSIONS_DF.first()\n"
   ]
  },
  {
   "cell_type": "code",
   "execution_count": 12,
   "metadata": {},
   "outputs": [
    {
     "name": "stdout",
     "output_type": "stream",
     "text": [
      "root\n",
      " |-- ROW_ID: string (nullable = true)\n",
      " |-- SUBJECT_ID: string (nullable = true)\n",
      " |-- HADM_ID: string (nullable = true)\n",
      " |-- ICUSTAY_ID: string (nullable = true)\n",
      " |-- ITEMID: string (nullable = true)\n",
      " |-- CHARTTIME: string (nullable = true)\n",
      " |-- STORETIME: string (nullable = true)\n",
      " |-- CGID: string (nullable = true)\n",
      " |-- VALUE: string (nullable = true)\n",
      " |-- VALUENUM: string (nullable = true)\n",
      " |-- VALUEUOM: string (nullable = true)\n",
      " |-- WARNING: string (nullable = true)\n",
      " |-- ERROR: string (nullable = true)\n",
      " |-- RESULTSTATUS: string (nullable = true)\n",
      " |-- STOPPED: string (nullable = true)\n",
      "\n"
     ]
    }
   ],
   "source": [
    "CHARTEVENTS_DF.printSchema()"
   ]
  },
  {
   "cell_type": "code",
   "execution_count": 53,
   "metadata": {},
   "outputs": [],
   "source": [
    "NOTEEVENTS_DF = getDFFromParquet('NOTEEVENTS')\n",
    "createTempTableFromParquet('NOTEEVENTS')"
   ]
  },
  {
   "cell_type": "code",
   "execution_count": 32,
   "metadata": {},
   "outputs": [
    {
     "name": "stdout",
     "output_type": "stream",
     "text": [
      "+--------------+--------+\n",
      "|(TEXT IS NULL)|count(1)|\n",
      "+--------------+--------+\n",
      "|          true|79682649|\n",
      "|         false| 2116993|\n",
      "+--------------+--------+\n",
      "\n"
     ]
    }
   ],
   "source": [
    "NOTEEVENTS_DF.select('TEXT').distinct().count() #899174\n",
    "spark.sql(\"SELECT isnull(TEXT),count(1) from NOTEEVENTS group by isnull(TEXT)\").show(5)"
   ]
  },
  {
   "cell_type": "markdown",
   "metadata": {},
   "source": [
    "So we have 79M blank notes and only 2M filled. But even from these we have only 900K uniq notes. Rest 1.1M are duplicates. May be some standard notes."
   ]
  },
  {
   "cell_type": "code",
   "execution_count": 40,
   "metadata": {},
   "outputs": [
    {
     "name": "stdout",
     "output_type": "stream",
     "text": [
      "+-------------------------+--------+\n",
      "|TEXT                     |count(1)|\n",
      "+-------------------------+--------+\n",
      "|PATIENT/TEST INFORMATION:|45789   |\n",
      "|Chief Complaint:         |39635   |\n",
      "|TITLE:                   |31702   |\n",
      "|Demographics             |28199   |\n",
      "|Respiratory Care         |26460   |\n",
      "|Neonatology Attending    |25621   |\n",
      "|NPN                      |19414   |\n",
      "|Sinus rhythm             |19307   |\n",
      "|Nursing Progress Note    |16079   |\n",
      "|Neonatology              |15265   |\n",
      "+-------------------------+--------+\n",
      "only showing top 10 rows\n",
      "\n"
     ]
    }
   ],
   "source": [
    "spark.sql(\"SELECT TEXT,count(1) from NOTEEVENTS where text is not null group by TEXT order by count(1) desc\").show(\n",
    "    n=10,truncate=False)"
   ]
  },
  {
   "cell_type": "markdown",
   "metadata": {},
   "source": [
    "Looks like lot of small standard text"
   ]
  },
  {
   "cell_type": "code",
   "execution_count": 45,
   "metadata": {},
   "outputs": [
    {
     "name": "stdout",
     "output_type": "stream",
     "text": [
      "+------------------------------------+--------+\n",
      "|length(CAST(length(TEXT) AS STRING))|count(1)|\n",
      "+------------------------------------+--------+\n",
      "|4                                   |1825    |\n",
      "|3                                   |106118  |\n",
      "|2                                   |1804053 |\n",
      "|1                                   |204997  |\n",
      "|null                                |79682649|\n",
      "+------------------------------------+--------+\n",
      "\n"
     ]
    }
   ],
   "source": [
    "spark.sql(\"SELECT length(length(TEXT)),count(1) from NOTEEVENTS group by length(length(TEXT)) order by length(length(TEXT)) desc\").show(\n",
    "    truncate=False)"
   ]
  },
  {
   "cell_type": "markdown",
   "metadata": {},
   "source": [
    "Lets see if repeatative notes yeild different ICD codes"
   ]
  },
  {
   "cell_type": "code",
   "execution_count": 52,
   "metadata": {},
   "outputs": [],
   "source": [
    "D_ICD_DIAGNOSES_DF = getDFFromParquet('D_ICD_DIAGNOSES')\n",
    "createTempTableFromParquet('D_ICD_DIAGNOSES')\n",
    "DIAGNOSES_ICD_DF = getDFFromParquet('DIAGNOSES_ICD')\n",
    "createTempTableFromParquet('DIAGNOSES_ICD')"
   ]
  },
  {
   "cell_type": "code",
   "execution_count": 93,
   "metadata": {},
   "outputs": [
    {
     "name": "stdout",
     "output_type": "stream",
     "text": [
      "+------+----------+-------+-------+---------+\n",
      "|ROW_ID|SUBJECT_ID|HADM_ID|SEQ_NUM|ICD9_CODE|\n",
      "+------+----------+-------+-------+---------+\n",
      "|1297  |109       |172335 |1      |40301    |\n",
      "|1298  |109       |172335 |2      |486      |\n",
      "|1299  |109       |172335 |3      |58281    |\n",
      "|1300  |109       |172335 |4      |5855     |\n",
      "|1301  |109       |172335 |5      |4254     |\n",
      "+------+----------+-------+-------+---------+\n",
      "only showing top 5 rows\n",
      "\n"
     ]
    }
   ],
   "source": [
    "spark.sql(\"\"\"SELECT * from DIAGNOSES_ICD\"\"\").show(n=5,truncate=False)"
   ]
  },
  {
   "cell_type": "code",
   "execution_count": 59,
   "metadata": {},
   "outputs": [],
   "source": [
    "# check if there are some HADM for which ICD codes are missing\n",
    "df1 = NOTEEVENTS_DF.select('SUBJECT_ID','HADM_ID').distinct()\n",
    "df2 = DIAGNOSES_ICD_DF.select('SUBJECT_ID','HADM_ID').distinct()"
   ]
  },
  {
   "cell_type": "code",
   "execution_count": 61,
   "metadata": {},
   "outputs": [
    {
     "name": "stdout",
     "output_type": "stream",
     "text": [
      "5841450 58976\n"
     ]
    }
   ],
   "source": [
    "print(df1.count(),df2.count())"
   ]
  },
  {
   "cell_type": "code",
   "execution_count": 86,
   "metadata": {},
   "outputs": [
    {
     "data": {
      "text/plain": [
       "5783089"
      ]
     },
     "execution_count": 86,
     "metadata": {},
     "output_type": "execute_result"
    }
   ],
   "source": [
    "df1.exceptAll(df2).count() # These combination we need to investigate further to see why no ICD codes"
   ]
  },
  {
   "cell_type": "code",
   "execution_count": 65,
   "metadata": {},
   "outputs": [
    {
     "data": {
      "text/plain": [
       "615"
      ]
     },
     "execution_count": 65,
     "metadata": {},
     "output_type": "execute_result"
    }
   ],
   "source": [
    "df2.exceptAll(df1).count() # These combination we need exclude from our model as these are dead ends"
   ]
  },
  {
   "cell_type": "code",
   "execution_count": 69,
   "metadata": {},
   "outputs": [
    {
     "name": "stdout",
     "output_type": "stream",
     "text": [
      "+----------------------------------------------------------------------------------------------------------------------------------------------------------------------------------------------------------------------------------------+----------------------------------------------------------------------------------------------------------------------------------------------------------------------------------------------------------------------------------+\n",
      "|SUBJECT_ID                                                                                                                                                                                                                              |HADM_ID                                                                                                                                                                                                                           |\n",
      "+----------------------------------------------------------------------------------------------------------------------------------------------------------------------------------------------------------------------------------------+----------------------------------------------------------------------------------------------------------------------------------------------------------------------------------------------------------------------------------+\n",
      "| ua/C+S sent                                                                                                                                                                                                                            | and sputum sent. needs cdiff x 3 when able. WBC 8.1. today. sputum cx from [**6-26**] growing yeast and GNR. remains on Ceftaz for now.                                                                                          |\n",
      "| with ring of blood around (like water color). team aware. hct 28.1 at this time. team to decide r/e tx.                                                                                                                                |null                                                                                                                                                                                                                              |\n",
      "| then daughter to decide r/e Picc line                                                                                                                                                                                                  | and ? Peg. Once secretions improve please reconsult speach therapy for passe [**Last Name (un) 2900**] valve. Please also call PT to work with pt.. They have done his initial eval. Would trial oob when able barring procedures|\n",
      "|currently thick tan copious.ent by to see patient last pm trach change may be delayed due to copious secretions.. reccomended to leave cuff deflated. pt tolerated deflated cuff with no change in amount of secretions.o2 sats 99-100 %|null                                                                                                                                                                                                                              |\n",
      "| pt currently NPO                                                                                                                                                                                                                       |null                                                                                                                                                                                                                              |\n",
      "+----------------------------------------------------------------------------------------------------------------------------------------------------------------------------------------------------------------------------------------+----------------------------------------------------------------------------------------------------------------------------------------------------------------------------------------------------------------------------------+\n",
      "only showing top 5 rows\n",
      "\n"
     ]
    }
   ],
   "source": [
    "#Lets investigates notes which are missing ICD codes => Looks like non numeric SUBJECT_ID/HADM_ID \n",
    "#=> should be excluded from further analysis\n",
    "spark.sql(\"\"\"SELECT SUBJECT_ID,HADM_ID from NOTEEVENTS\n",
    "             where (SUBJECT_ID,HADM_ID) not in\n",
    "                 (select SUBJECT_ID,HADM_ID\n",
    "                 from DIAGNOSES_ICD)\"\"\").show(n=5,truncate=False)"
   ]
  },
  {
   "cell_type": "code",
   "execution_count": 85,
   "metadata": {},
   "outputs": [
    {
     "name": "stdout",
     "output_type": "stream",
     "text": [
      "+--------------------------------+--------+-------+\n",
      "|is_subject_id_int_is_HADM_ID_int|   false|   true|\n",
      "+--------------------------------+--------+-------+\n",
      "|                           false|79702214|   5888|\n",
      "|                            true|  239220|1852320|\n",
      "+--------------------------------+--------+-------+\n",
      "\n"
     ]
    }
   ],
   "source": [
    "from pyspark.sql import functions as F\n",
    "\n",
    "NOTEEVENTS_DF.select(\n",
    "  F.col(\"subject_id\").cast(\"int\").isNotNull().alias(\"is_subject_id_int\"),\n",
    "    F.col(\"HADM_ID\").cast(\"int\").isNotNull().alias(\"is_HADM_ID_int\")\n",
    ").crosstab(\"is_subject_id_int\",\"is_HADM_ID_int\" ).show()\n",
    "#So effectively we have only 1852320 notes"
   ]
  },
  {
   "cell_type": "code",
   "execution_count": 95,
   "metadata": {},
   "outputs": [
    {
     "name": "stdout",
     "output_type": "stream",
     "text": [
      "+----------+-------+---------+---------------------------------------------------------------------------------------------------------+------------------------+------------------------------------------------------------------------------------------------------------------------------------------------------------------------------------------------------------------------+\n",
      "|SUBJECT_ID|HADM_ID|ICD9_CODE|TEXT                                                                                                     |SHORT_TITLE             |LONG_TITLE                                                                                                                                                                                                              |\n",
      "+----------+-------+---------+---------------------------------------------------------------------------------------------------------+------------------------+------------------------------------------------------------------------------------------------------------------------------------------------------------------------------------------------------------------------+\n",
      "|8974      |110280 |41401    |(Continued)                                                                                              |Crnry athrscl natve vssl|Coronary atherosclerosis of native coronary artery                                                                                                                                                                      |\n",
      "|8974      |110280 |4019     |(Continued)                                                                                              |Hypertension NOS        |Unspecified essential hypertension                                                                                                                                                                                      |\n",
      "|8974      |110280 |5990     |(Continued)                                                                                              |Urin tract infection NOS|Urinary tract infection, site not specified                                                                                                                                                                             |\n",
      "|8974      |110280 |2761     |(Continued)                                                                                              |Hyposmolality           |Hyposmolality and/or hyponatremia                                                                                                                                                                                       |\n",
      "|8974      |110280 |5849     |(Continued)                                                                                              |Acute kidney failure NOS|Acute kidney failure, unspecified                                                                                                                                                                                       |\n",
      "|8974      |110280 |42731    |(Continued)                                                                                              |Atrial fibrillation     |Atrial fibrillation                                                                                                                                                                                                     |\n",
      "|8974      |110280 |5119     |(Continued)                                                                                              |Pleural effusion NOS    |Unspecified pleural effusion                                                                                                                                                                                            |\n",
      "|8974      |110280 |51881    |(Continued)                                                                                              |Acute respiratry failure|Acute respiratory failure                                                                                                                                                                                               |\n",
      "|8974      |110280 |5070     |(Continued)                                                                                              |Food/vomit pneumonitis  |Pneumonitis due to inhalation of food or vomitus                                                                                                                                                                        |\n",
      "|8974      |110280 |41401    |vs: bp stable. hr 74=88 nsr frequent pvc's run of vtach> 26 beats. bp stable. ho notified k checked.k=4.0|Crnry athrscl natve vssl|Coronary atherosclerosis of native coronary artery                                                                                                                                                                      |\n",
      "|8974      |110280 |4019     |vs: bp stable. hr 74=88 nsr frequent pvc's run of vtach> 26 beats. bp stable. ho notified k checked.k=4.0|Hypertension NOS        |Unspecified essential hypertension                                                                                                                                                                                      |\n",
      "|8974      |110280 |5990     |vs: bp stable. hr 74=88 nsr frequent pvc's run of vtach> 26 beats. bp stable. ho notified k checked.k=4.0|Urin tract infection NOS|Urinary tract infection, site not specified                                                                                                                                                                             |\n",
      "|8974      |110280 |2761     |vs: bp stable. hr 74=88 nsr frequent pvc's run of vtach> 26 beats. bp stable. ho notified k checked.k=4.0|Hyposmolality           |Hyposmolality and/or hyponatremia                                                                                                                                                                                       |\n",
      "|8974      |110280 |5849     |vs: bp stable. hr 74=88 nsr frequent pvc's run of vtach> 26 beats. bp stable. ho notified k checked.k=4.0|Acute kidney failure NOS|Acute kidney failure, unspecified                                                                                                                                                                                       |\n",
      "|8974      |110280 |42731    |vs: bp stable. hr 74=88 nsr frequent pvc's run of vtach> 26 beats. bp stable. ho notified k checked.k=4.0|Atrial fibrillation     |Atrial fibrillation                                                                                                                                                                                                     |\n",
      "|8974      |110280 |5119     |vs: bp stable. hr 74=88 nsr frequent pvc's run of vtach> 26 beats. bp stable. ho notified k checked.k=4.0|Pleural effusion NOS    |Unspecified pleural effusion                                                                                                                                                                                            |\n",
      "|8974      |110280 |51881    |vs: bp stable. hr 74=88 nsr frequent pvc's run of vtach> 26 beats. bp stable. ho notified k checked.k=4.0|Acute respiratry failure|Acute respiratory failure                                                                                                                                                                                               |\n",
      "|8974      |110280 |5070     |vs: bp stable. hr 74=88 nsr frequent pvc's run of vtach> 26 beats. bp stable. ho notified k checked.k=4.0|Food/vomit pneumonitis  |Pneumonitis due to inhalation of food or vomitus                                                                                                                                                                        |\n",
      "|8974      |110280 |41401    |addendum: sputum has a foul odor.                                                                        |Crnry athrscl natve vssl|Coronary atherosclerosis of native coronary artery                                                                                                                                                                      |\n",
      "|8974      |110280 |4019     |addendum: sputum has a foul odor.                                                                        |Hypertension NOS        |Unspecified essential hypertension                                                                                                                                                                                      |\n",
      "|8974      |110280 |5990     |addendum: sputum has a foul odor.                                                                        |Urin tract infection NOS|Urinary tract infection, site not specified                                                                                                                                                                             |\n",
      "|8974      |110280 |2761     |addendum: sputum has a foul odor.                                                                        |Hyposmolality           |Hyposmolality and/or hyponatremia                                                                                                                                                                                       |\n",
      "|8974      |110280 |5849     |addendum: sputum has a foul odor.                                                                        |Acute kidney failure NOS|Acute kidney failure, unspecified                                                                                                                                                                                       |\n",
      "|8974      |110280 |42731    |addendum: sputum has a foul odor.                                                                        |Atrial fibrillation     |Atrial fibrillation                                                                                                                                                                                                     |\n",
      "|8974      |110280 |5119     |addendum: sputum has a foul odor.                                                                        |Pleural effusion NOS    |Unspecified pleural effusion                                                                                                                                                                                            |\n",
      "|8974      |110280 |51881    |addendum: sputum has a foul odor.                                                                        |Acute respiratry failure|Acute respiratory failure                                                                                                                                                                                               |\n",
      "|8974      |110280 |5070     |addendum: sputum has a foul odor.                                                                        |Food/vomit pneumonitis  |Pneumonitis due to inhalation of food or vomitus                                                                                                                                                                        |\n",
      "|8974      |110280 |41401    |NPN-MICU                                                                                                 |Crnry athrscl natve vssl|Coronary atherosclerosis of native coronary artery                                                                                                                                                                      |\n",
      "|8974      |110280 |4019     |NPN-MICU                                                                                                 |Hypertension NOS        |Unspecified essential hypertension                                                                                                                                                                                      |\n",
      "|8974      |110280 |5990     |NPN-MICU                                                                                                 |Urin tract infection NOS|Urinary tract infection, site not specified                                                                                                                                                                             |\n",
      "|8974      |110280 |2761     |NPN-MICU                                                                                                 |Hyposmolality           |Hyposmolality and/or hyponatremia                                                                                                                                                                                       |\n",
      "|8974      |110280 |5849     |NPN-MICU                                                                                                 |Acute kidney failure NOS|Acute kidney failure, unspecified                                                                                                                                                                                       |\n",
      "|8974      |110280 |42731    |NPN-MICU                                                                                                 |Atrial fibrillation     |Atrial fibrillation                                                                                                                                                                                                     |\n",
      "|8974      |110280 |5119     |NPN-MICU                                                                                                 |Pleural effusion NOS    |Unspecified pleural effusion                                                                                                                                                                                            |\n",
      "|8974      |110280 |51881    |NPN-MICU                                                                                                 |Acute respiratry failure|Acute respiratory failure                                                                                                                                                                                               |\n",
      "|8974      |110280 |5070     |NPN-MICU                                                                                                 |Food/vomit pneumonitis  |Pneumonitis due to inhalation of food or vomitus                                                                                                                                                                        |\n",
      "|8977      |175159 |53081    |respiratory care                                                                                         |Esophageal reflux       |Esophageal reflux                                                                                                                                                                                                       |\n",
      "|8977      |175159 |2859     |respiratory care                                                                                         |Anemia NOS              |Anemia, unspecified                                                                                                                                                                                                     |\n",
      "|8977      |175159 |E8497    |respiratory care                                                                                         |Accid in resident instit|Accidents occurring in residential institution                                                                                                                                                                          |\n",
      "|8977      |175159 |E8700    |respiratory care                                                                                         |Acc cut/hem in surgery  |Accidental cut, puncture, perforation or hemorrhage during surgical operation                                                                                                                                           |\n",
      "|8977      |175159 |E8495    |respiratory care                                                                                         |Accid on street/highway |Street and highway accidents                                                                                                                                                                                            |\n",
      "|8977      |175159 |E8782    |respiratory care                                                                                         |Abn react-anastom/graft |Surgical operation with anastomosis, bypass, or graft, with natural or artificial tissues used as implant causing abnormal patient reaction, or later complication, without mention of misadventure at time of operation|\n",
      "|8977      |175159 |45829    |respiratory care                                                                                         |Iatrogenc hypotnsion NEC|Other iatrogenic hypotension                                                                                                                                                                                            |\n",
      "|8977      |175159 |9982     |respiratory care                                                                                         |Accidental op laceration|Accidental puncture or laceration during a procedure, not elsewhere classified                                                                                                                                          |\n",
      "|8977      |175159 |42971    |respiratory care                                                                                         |Acq cardiac septl defect|Acquired cardiac septal defect                                                                                                                                                                                          |\n",
      "|8977      |175159 |41401    |respiratory care                                                                                         |Crnry athrscl natve vssl|Coronary atherosclerosis of native coronary artery                                                                                                                                                                      |\n",
      "|8980      |101170 |V667     |condition update                                                                                         |Encountr palliative care|Encounter for palliative care                                                                                                                                                                                           |\n",
      "|8980      |101170 |E8798    |condition update                                                                                         |Abn react-procedure NEC |Other specified procedures as the cause of abnormal reaction of patient, or of later complication, without mention of misadventure at time of procedure                                                                 |\n",
      "|8980      |101170 |E9342    |condition update                                                                                         |Adv eff anticoagulants  |Anticoagulants causing adverse effects in therapeutic use                                                                                                                                                               |\n",
      "|8980      |101170 |3004     |condition update                                                                                         |Dysthymic disorder      |Dysthymic disorder                                                                                                                                                                                                      |\n",
      "+----------+-------+---------+---------------------------------------------------------------------------------------------------------+------------------------+------------------------------------------------------------------------------------------------------------------------------------------------------------------------------------------------------------------------+\n",
      "only showing top 50 rows\n",
      "\n"
     ]
    }
   ],
   "source": [
    "spark.sql(\"\"\"SELECT ne.SUBJECT_ID,ne.HADM_ID,d.ICD9_CODE,TEXT, did.SHORT_TITLE, did.LONG_TITLE\n",
    "             from NOTEEVENTS ne\n",
    "             inner join DIAGNOSES_ICD d\n",
    "             on ne.subject_id=d.subject_id\n",
    "             and ne.HADM_ID=d.HADM_ID\n",
    "             inner join D_ICD_DIAGNOSES did\n",
    "             on did.icd9_code=d.icd9_code\"\"\").show(n=50,truncate=False)"
   ]
  }
 ],
 "metadata": {
  "kernelspec": {
   "display_name": "Python 3",
   "language": "python",
   "name": "python3"
  },
  "language_info": {
   "codemirror_mode": {
    "name": "ipython",
    "version": 3
   },
   "file_extension": ".py",
   "mimetype": "text/x-python",
   "name": "python",
   "nbconvert_exporter": "python",
   "pygments_lexer": "ipython3",
   "version": "3.7.7"
  }
 },
 "nbformat": 4,
 "nbformat_minor": 4
}
