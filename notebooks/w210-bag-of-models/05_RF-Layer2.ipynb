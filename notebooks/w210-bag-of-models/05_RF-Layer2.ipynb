{
 "cells": [
  {
   "cell_type": "code",
   "execution_count": 1,
   "metadata": {},
   "outputs": [
    {
     "name": "stderr",
     "output_type": "stream",
     "text": [
      "Using TensorFlow backend.\n"
     ]
    }
   ],
   "source": [
    "import pandas as pd\n",
    "import random\n",
    "#import torch\n",
    "#from transformers import AutoTokenizer, AutoModel\n",
    "#import re\n",
    "#import string\n",
    "import numpy as np\n",
    "#import pydot\n",
    "#from nltk.corpus import stopwords \n",
    "#from nltk.stem import WordNetLemmatizer\n",
    "#from nltk.stem import LancasterStemmer\n",
    "#from simpletransformers.classification import MultiLabelClassificationModel\n",
    "#import logging\n",
    "#import custom_sentence_tokenizer\n",
    "import matplotlib.pyplot as plt\n",
    "#from scipy import stats\n",
    "#from ast import literal_eval\n",
    "import pickle\n",
    "from keras.preprocessing.sequence import pad_sequences\n",
    "import keras.backend as K\n",
    "import keras\n",
    "import gc\n",
    "from keras.models import model_from_json"
   ]
  },
  {
   "cell_type": "code",
   "execution_count": 2,
   "metadata": {},
   "outputs": [],
   "source": [
    "#from numpy import array\n",
    "from keras.preprocessing.text import one_hot\n",
    "from keras.preprocessing.sequence import pad_sequences\n",
    "from keras.models import Sequential\n",
    "from keras.layers.core import Activation, Dropout, Dense\n",
    "from keras.layers import Flatten, LSTM, Reshape\n",
    "from keras.layers import GlobalMaxPooling1D,Conv2D, Conv1D, AveragePooling2D, MaxPooling1D, AveragePooling1D\n",
    "from keras.models import Model\n",
    "from keras.utils.vis_utils import plot_model\n",
    "from keras.layers.embeddings import Embedding\n",
    "from sklearn.model_selection import train_test_split\n",
    "from keras.preprocessing.text import Tokenizer\n",
    "from keras.layers import Input\n",
    "from keras.layers.merge import concatenate\n",
    "#from sklearn.decomposition import PCA\n",
    "import _pickle as cPickle\n",
    "import io\n",
    "import time\n",
    "import sys\n",
    "import boto3\n",
    "from boto3.s3.transfer import TransferConfig\n",
    "import tensorflow as tf"
   ]
  },
  {
   "cell_type": "markdown",
   "metadata": {},
   "source": [
    "## 1. Import Embeddings (X) and Labels (Y)"
   ]
  },
  {
   "cell_type": "code",
   "execution_count": null,
   "metadata": {},
   "outputs": [],
   "source": [
    "now = time.time()\n",
    "infile = None\n",
    "infile = open(\"embeddings.p\",'rb')\n",
    "embeddings = cPickle.load(infile)\n",
    "infile.close()\n",
    "del(infile)\n",
    "print(time.time()-now)\n",
    "gc.collect()"
   ]
  },
  {
   "cell_type": "code",
   "execution_count": null,
   "metadata": {},
   "outputs": [],
   "source": [
    "embeddings_np_complete = np.array(list(embeddings.items()))\n",
    "del(embeddings)"
   ]
  },
  {
   "cell_type": "markdown",
   "metadata": {},
   "source": [
    "## 2. Load chapter model and helper functions"
   ]
  },
  {
   "cell_type": "code",
   "execution_count": null,
   "metadata": {},
   "outputs": [],
   "source": [
    "#Load chapeter model weights\n",
    "chapter_model = None\n",
    "json_file = open('model_num_cnn2.json', 'r')\n",
    "loaded_model_json = json_file.read()\n",
    "json_file.close()\n",
    "chapter_model = model_from_json(loaded_model_json)\n",
    "opt = keras.optimizers.Adam(lr=0.001)\n",
    "# load weights into new model\n",
    "chapter_model.load_weights(\"model_num_cnn2.h5\")\n",
    "chapter_model.trainable = False"
   ]
  },
  {
   "cell_type": "code",
   "execution_count": 57,
   "metadata": {},
   "outputs": [],
   "source": [
    "def padding(embeddings):\n",
    "    max_sentence = 20\n",
    "    padding = max_sentence - len(embeddings)\n",
    "    if padding > 0:\n",
    "        padding_shape = (padding, 256, 768)\n",
    "        pad = np.zeros(padding*256*768).reshape(padding_shape)\n",
    "        return np.append(embeddings, pad, axis = 0).astype('float16')\n",
    "    else:\n",
    "        return embeddings\n",
    "    \n",
    "def split_for_train(HADM_ID_LIST, CHAPTER_PIVOT_DF, embeddings_concat):\n",
    "    HADM_ID_DF = None\n",
    "    loaded_model = None\n",
    "    HADM_ID_DF =  pd.DataFrame(data=HADM_ID_LIST, columns=['HADM_ID'])\n",
    "    CHAPTER_PIVOT_DF_COPY = HADM_ID_DF.set_index('HADM_ID')\\\n",
    "                    .join(CHAPTER_PIVOT_DF, how='left').copy(deep=False)\n",
    "    CHAPTER_PIVOT_NP = np.array(CHAPTER_PIVOT_DF_COPY)\n",
    "    return train_test_split(embeddings_concat, CHAPTER_PIVOT_NP, test_size=0.2)\n",
    "\n",
    "def get_f1(y_true, y_pred): #taken from old keras source code\n",
    "    true_positives = K.sum(K.round(K.clip(y_true * y_pred, 0, 1)))\n",
    "    possible_positives = K.sum(K.round(K.clip(y_true, 0, 1)))\n",
    "    predicted_positives = K.sum(K.round(K.clip(y_pred, 0, 1)))\n",
    "    precision = true_positives / (predicted_positives + K.epsilon())\n",
    "    recall = true_positives / (possible_positives + K.epsilon())\n",
    "    f1_val = 2*(precision*recall)/(precision+recall+K.epsilon())\n",
    "    return f1_val\n",
    "\n",
    "def get_model(label_len):\n",
    "    #define model - STATIC LAYERS\n",
    "    model = Sequential()\n",
    "    for layer in chapter_model.layers[:4]:\n",
    "        layer.trainable = False\n",
    "        model.add(layer)\n",
    "\n",
    "    model = Model(inputs=model.input, outputs=model.output)\n",
    "    return model"
   ]
  },
  {
   "cell_type": "markdown",
   "metadata": {},
   "source": [
    "## 3. Loop on individual therapy area (bag of models)"
   ]
  },
  {
   "cell_type": "code",
   "execution_count": null,
   "metadata": {},
   "outputs": [],
   "source": [
    "score_list = []\n",
    "history_list = []\n",
    "file_name = 'adverse_effect.csv'\n",
    "\n",
    "CHAPTER_PIVOT_DF = pd.read_csv('Layer-2/'+file_name, sep=',', header = 0)\\\n",
    "                        .astype({'HADM_ID': 'str'}).set_index('HADM_ID')\n",
    "HADM_ID_LIST = list(CHAPTER_PIVOT_DF.index)\n",
    "embeddings_np = embeddings_np_complete[np.isin(embeddings_np_complete[:,0], HADM_ID_LIST)]\n",
    "print(file_name+' orginal shape: '+str(embeddings_np.shape))\n",
    "HADM_ID_LIST = embeddings_np[:,0].copy()\n",
    "embeddings = embeddings_np[:,1].copy()\n",
    "    \n",
    "#Zero Pad embeddings\n",
    "embeddings_padded = [padding(embeddings_ITEM) for embeddings_ITEM in embeddings]\n",
    "del(embeddings)\n",
    "gc.collect()\n",
    "print(file_name+' Padding complete')\n",
    "\n",
    "#Reshape embeddings\n",
    "#embeddings_concat = np.array([np.concatenate(i) for i in embeddings_padded])\n",
    "embeddings_concat = np.array(embeddings_padded).reshape(len(embeddings_padded), 20*256, 768)\n",
    "print(file_name+' modified shape: '+str(embeddings_concat.shape))\n",
    "del(embeddings_padded)\n",
    "gc.collect()\n",
    "    \n",
    "X_train2, X_test2, y_train2, y_test2 = split_for_train(HADM_ID_LIST, CHAPTER_PIVOT_DF, embeddings_concat)\n",
    "print('Train and Test Shapre: '+str(X_train2.shape)+', '+str(X_test2.shape)+', '+str(y_train2.shape)+', '+str(y_test2.shape))\n",
    "X_val = X_test2[:int(0.25*len(X_test2))]\n",
    "y_val = y_test2[:int(0.25*len(y_test2))]\n",
    "del(HADM_ID_LIST)\n",
    "del(CHAPTER_PIVOT_DF)\n",
    "del(embeddings_concat)\n",
    "gc.collect()\n",
    "    \n",
    "#call model\n",
    "label_len = y_train2.shape[1]\n",
    "model = get_model(label_len)\n",
    "opt = keras.optimizers.Adam(lr=0.0001)\n",
    "model.compile(loss='binary_crossentropy', optimizer=opt, metrics=[get_f1, 'accuracy'])\n",
    "flat_X_train = model.predict(X_train2)\n",
    "#, y_train2, epochs=4,batch_size=32, verbose=1, validation_data = (X_val,y_val))"
   ]
  },
  {
   "cell_type": "code",
   "execution_count": null,
   "metadata": {},
   "outputs": [],
   "source": [
    " #evaluate model\n",
    "    print('Model evaluation '+file_name)\n",
    "    score = model.evaluate(X_test2, y_test2, verbose=1)\n",
    "    print(score)\n",
    "    \n",
    "    #save model evaluation and history metrics\n",
    "    score_list.append(score)\n",
    "    history_list.append(history.history)\n",
    "    \n",
    "    #save model\n",
    "    model_json = model.to_json()\n",
    "    with open(\"/home/ec2-user/SageMaker/Models/model_\"+file_name+\".json\", \"w\") as json_file:\n",
    "        json_file.write(model_json)\n",
    "    model.save_weights(\"/home/ec2-user/SageMaker/Models/model_\"+file_name+\".h5\")\n",
    "    print('============completed '+file_name+'============')"
   ]
  }
 ],
 "metadata": {
  "kernelspec": {
   "display_name": "conda_amazonei_tensorflow2_p36",
   "language": "python",
   "name": "conda_amazonei_tensorflow2_p36"
  },
  "language_info": {
   "codemirror_mode": {
    "name": "ipython",
    "version": 3
   },
   "file_extension": ".py",
   "mimetype": "text/x-python",
   "name": "python",
   "nbconvert_exporter": "python",
   "pygments_lexer": "ipython3",
   "version": "3.6.10"
  }
 },
 "nbformat": 4,
 "nbformat_minor": 4
}
