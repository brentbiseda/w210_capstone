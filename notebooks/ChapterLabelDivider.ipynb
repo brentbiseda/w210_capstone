{
 "cells": [
  {
   "cell_type": "code",
   "execution_count": 2,
   "metadata": {},
   "outputs": [
    {
     "name": "stderr",
     "output_type": "stream",
     "text": [
      "Matplotlib is building the font cache using fc-list. This may take a moment.\n"
     ]
    }
   ],
   "source": [
    "import pandas as pd\n",
    "import numpy as np\n",
    "import logging\n",
    "import matplotlib.pyplot as plt\n",
    "import pickle\n",
    "import time"
   ]
  },
  {
   "cell_type": "code",
   "execution_count": 55,
   "metadata": {},
   "outputs": [],
   "source": [
    "chapterLabelDF = pd.read_csv(\"chapter_label.csv\").astype({'HADM_ID': 'str'})"
   ]
  },
  {
   "cell_type": "code",
   "execution_count": 56,
   "metadata": {},
   "outputs": [
    {
     "data": {
      "text/plain": [
       "Index(['HADM_ID', '001_139', '140_239', '240_279', '280_289', '290_319',\n",
       "       '320_389', '390_459', '460_519', '520_579', '580_629',\n",
       "       '630_679__740_759__760_779', '680_709', '710_739', '780_799', '800_999',\n",
       "       'E_V'],\n",
       "      dtype='object')"
      ]
     },
     "execution_count": 56,
     "metadata": {},
     "output_type": "execute_result"
    }
   ],
   "source": [
    "chapterLabelDF.columns"
   ]
  },
  {
   "cell_type": "code",
   "execution_count": 57,
   "metadata": {},
   "outputs": [],
   "source": [
    "chapterLabelDF_short=chapterLabelDF.iloc[:5,:5]"
   ]
  },
  {
   "cell_type": "code",
   "execution_count": 58,
   "metadata": {},
   "outputs": [
    {
     "data": {
      "text/html": [
       "<div>\n",
       "<style scoped>\n",
       "    .dataframe tbody tr th:only-of-type {\n",
       "        vertical-align: middle;\n",
       "    }\n",
       "\n",
       "    .dataframe tbody tr th {\n",
       "        vertical-align: top;\n",
       "    }\n",
       "\n",
       "    .dataframe thead th {\n",
       "        text-align: right;\n",
       "    }\n",
       "</style>\n",
       "<table border=\"1\" class=\"dataframe\">\n",
       "  <thead>\n",
       "    <tr style=\"text-align: right;\">\n",
       "      <th></th>\n",
       "      <th>HADM_ID</th>\n",
       "      <th>001_139</th>\n",
       "      <th>140_239</th>\n",
       "      <th>240_279</th>\n",
       "      <th>280_289</th>\n",
       "    </tr>\n",
       "  </thead>\n",
       "  <tbody>\n",
       "    <tr>\n",
       "      <th>0</th>\n",
       "      <td>100001</td>\n",
       "      <td>0</td>\n",
       "      <td>0</td>\n",
       "      <td>1</td>\n",
       "      <td>0</td>\n",
       "    </tr>\n",
       "    <tr>\n",
       "      <th>1</th>\n",
       "      <td>100003</td>\n",
       "      <td>1</td>\n",
       "      <td>0</td>\n",
       "      <td>0</td>\n",
       "      <td>1</td>\n",
       "    </tr>\n",
       "    <tr>\n",
       "      <th>2</th>\n",
       "      <td>100006</td>\n",
       "      <td>0</td>\n",
       "      <td>1</td>\n",
       "      <td>1</td>\n",
       "      <td>0</td>\n",
       "    </tr>\n",
       "    <tr>\n",
       "      <th>3</th>\n",
       "      <td>100007</td>\n",
       "      <td>0</td>\n",
       "      <td>0</td>\n",
       "      <td>0</td>\n",
       "      <td>0</td>\n",
       "    </tr>\n",
       "    <tr>\n",
       "      <th>4</th>\n",
       "      <td>100009</td>\n",
       "      <td>0</td>\n",
       "      <td>0</td>\n",
       "      <td>1</td>\n",
       "      <td>1</td>\n",
       "    </tr>\n",
       "  </tbody>\n",
       "</table>\n",
       "</div>"
      ],
      "text/plain": [
       "  HADM_ID  001_139  140_239  240_279  280_289\n",
       "0  100001        0        0        1        0\n",
       "1  100003        1        0        0        1\n",
       "2  100006        0        1        1        0\n",
       "3  100007        0        0        0        0\n",
       "4  100009        0        0        1        1"
      ]
     },
     "execution_count": 58,
     "metadata": {},
     "output_type": "execute_result"
    }
   ],
   "source": [
    "chapterLabelDF_short"
   ]
  },
  {
   "cell_type": "code",
   "execution_count": 59,
   "metadata": {},
   "outputs": [
    {
     "name": "stdout",
     "output_type": "stream",
     "text": [
      "001_139\n",
      "140_239\n",
      "240_279\n",
      "280_289\n",
      "290_319\n",
      "320_389\n",
      "390_459\n",
      "460_519\n",
      "520_579\n",
      "580_629\n",
      "630_679__740_759__760_779\n",
      "680_709\n",
      "710_739\n",
      "780_799\n",
      "800_999\n",
      "E_V\n"
     ]
    }
   ],
   "source": [
    "chapterLabelsHADMMap = {}\n",
    "for col in chapterLabelDF.columns[1:]:\n",
    "    print(col)\n",
    "    chapterLabelsHADMMap[col]=chapterLabelDF.loc[chapterLabelDF[col]==1,'HADM_ID']"
   ]
  },
  {
   "cell_type": "code",
   "execution_count": 60,
   "metadata": {},
   "outputs": [
    {
     "name": "stdout",
     "output_type": "stream",
     "text": [
      "Chapter : # of HADM_ID\n",
      "001_139 : 14535\n",
      "140_239 : 8912\n",
      "240_279 : 35606\n",
      "280_289 : 19366\n",
      "290_319 : 16245\n",
      "320_389 : 15828\n",
      "390_459 : 42650\n",
      "460_519 : 25260\n",
      "520_579 : 21010\n",
      "580_629 : 21779\n",
      "630_679__740_759__760_779 : 7619\n",
      "680_709 : 6076\n",
      "710_739 : 10053\n",
      "780_799 : 20182\n",
      "800_999 : 22686\n",
      "E_V : 41887\n"
     ]
    }
   ],
   "source": [
    "print(\"Chapter : # of HADM_ID\")\n",
    "for key in chapterLabelsHADMMap.keys():\n",
    "    print(key,\":\",len(chapterLabelsHADMMap[key]))\n"
   ]
  },
  {
   "cell_type": "code",
   "execution_count": 66,
   "metadata": {},
   "outputs": [],
   "source": [
    "def LoadFromS3(embeddingFileName):\n",
    "    # https://w210-mimic.s3.amazonaws.com/embeddings1\n",
    "    now = time.time()\n",
    "    print(\"Starting Load for File\",embeddingFileName)\n",
    "    embeddings = {}\n",
    "    session = boto3.session.Session(region_name='us-east-1')\n",
    "    s3client = session.client('s3')\n",
    "    response = s3client.get_object(Bucket='w210-mimic', Key=embeddingFileName)\n",
    "    body_string = response['Body'].read()\n",
    "    embeddings.update(cPickle.loads(body_string))\n",
    "    with open(embeddingFileName, 'wb') as handle:\n",
    "        pickle.dump(embeddings, handle, protocol=pickle.HIGHEST_PROTOCOL)\n",
    "    print(\"File Loaded in:\", time.time()-now)\n",
    "    \n",
    "    return embeddings\n",
    "\n",
    "def LoadFromDisk(embeddingFileName):\n",
    "    embeddingFileHandle = open(embeddingFileName, 'rb')\n",
    "    return embeddingFileHandle"
   ]
  },
  {
   "cell_type": "code",
   "execution_count": null,
   "metadata": {},
   "outputs": [],
   "source": [
    "embeddingHandle = LoadFromDisk(\"embeddingsvi6\")"
   ]
  },
  {
   "cell_type": "code",
   "execution_count": 65,
   "metadata": {},
   "outputs": [
    {
     "ename": "AttributeError",
     "evalue": "'_io.BufferedReader' object has no attribute 'items'",
     "output_type": "error",
     "traceback": [
      "\u001b[0;31m---------------------------------------------------------------------------\u001b[0m",
      "\u001b[0;31mAttributeError\u001b[0m                            Traceback (most recent call last)",
      "\u001b[0;32m<ipython-input-65-dbf993d6adbe>\u001b[0m in \u001b[0;36m<module>\u001b[0;34m\u001b[0m\n\u001b[0;32m----> 1\u001b[0;31m \u001b[0mdata\u001b[0m \u001b[0;34m=\u001b[0m \u001b[0mnp\u001b[0m\u001b[0;34m.\u001b[0m\u001b[0marray\u001b[0m\u001b[0;34m(\u001b[0m\u001b[0mlist\u001b[0m\u001b[0;34m(\u001b[0m\u001b[0membeddingHandle\u001b[0m\u001b[0;34m.\u001b[0m\u001b[0mitems\u001b[0m\u001b[0;34m(\u001b[0m\u001b[0;34m)\u001b[0m\u001b[0;34m)\u001b[0m\u001b[0;34m)\u001b[0m\u001b[0;34m\u001b[0m\u001b[0;34m\u001b[0m\u001b[0m\n\u001b[0m",
      "\u001b[0;31mAttributeError\u001b[0m: '_io.BufferedReader' object has no attribute 'items'"
     ]
    }
   ],
   "source": [
    "data = np.array(list(embeddingHandle.items()))"
   ]
  }
 ],
 "metadata": {
  "kernelspec": {
   "display_name": "Python 3",
   "language": "python",
   "name": "python3"
  },
  "language_info": {
   "codemirror_mode": {
    "name": "ipython",
    "version": 3
   },
   "file_extension": ".py",
   "mimetype": "text/x-python",
   "name": "python",
   "nbconvert_exporter": "python",
   "pygments_lexer": "ipython3",
   "version": "3.7.6"
  }
 },
 "nbformat": 4,
 "nbformat_minor": 4
}
