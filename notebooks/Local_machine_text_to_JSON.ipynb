{
 "cells": [
  {
   "cell_type": "code",
   "execution_count": null,
   "metadata": {},
   "outputs": [],
   "source": [
    "!pip install keras"
   ]
  },
  {
   "cell_type": "code",
   "execution_count": null,
   "metadata": {},
   "outputs": [],
   "source": [
    "!pip install tensorflow"
   ]
  },
  {
   "cell_type": "code",
   "execution_count": null,
   "metadata": {},
   "outputs": [],
   "source": [
    "!pip install torch==1.5.1+cpu torchvision==0.6.1+cpu -f https://download.pytorch.org/whl/torch_stable.html"
   ]
  },
  {
   "cell_type": "code",
   "execution_count": null,
   "metadata": {},
   "outputs": [],
   "source": [
    "!pip install transformers"
   ]
  },
  {
   "cell_type": "code",
   "execution_count": null,
   "metadata": {},
   "outputs": [],
   "source": [
    "nltk.download('punkt')"
   ]
  },
  {
   "cell_type": "code",
   "execution_count": 1,
   "metadata": {},
   "outputs": [],
   "source": [
    "import nltk\n",
    "import numpy as np\n",
    "from keras.models import model_from_json\n",
    "import pandas as pd\n",
    "import glob\n",
    "import os\n",
    "import json"
   ]
  },
  {
   "cell_type": "code",
   "execution_count": null,
   "metadata": {},
   "outputs": [],
   "source": [
    "nltk.download('punkt')"
   ]
  },
  {
   "cell_type": "code",
   "execution_count": 2,
   "metadata": {},
   "outputs": [],
   "source": [
    "from ClinicalBERTEmbeddings import ClinicalBERTEmbeddings"
   ]
  },
  {
   "cell_type": "code",
   "execution_count": 3,
   "metadata": {},
   "outputs": [],
   "source": [
    "mytext = \"random text file for testing creation of embeddings:\""
   ]
  },
  {
   "cell_type": "code",
   "execution_count": 4,
   "metadata": {},
   "outputs": [],
   "source": [
    "data = ClinicalBERTEmbeddings(mytext)"
   ]
  },
  {
   "cell_type": "code",
   "execution_count": 5,
   "metadata": {},
   "outputs": [],
   "source": [
    "embeddings_padded = []\n",
    "\n",
    "for j in data:\n",
    "    pad_len = 3840 - len(j)\n",
    "    if pad_len:\n",
    "        embeddings_padded.append(np.append(j, np.zeros(pad_len*768, dtype=np.float16).reshape(pad_len, 768), axis=0))\n",
    "    else:\n",
    "        embeddings_padded.append(j)"
   ]
  },
  {
   "cell_type": "code",
   "execution_count": 6,
   "metadata": {},
   "outputs": [],
   "source": [
    "embeddings_padded = np.float16(embeddings_padded)\n",
    "embeddings_padded = np.array(embeddings_padded, dtype=np.float16)"
   ]
  },
  {
   "cell_type": "markdown",
   "metadata": {},
   "source": [
    "# Load & Initialize the Models"
   ]
  },
  {
   "cell_type": "markdown",
   "metadata": {},
   "source": [
    "# Adverse Model"
   ]
  },
  {
   "cell_type": "code",
   "execution_count": 7,
   "metadata": {},
   "outputs": [],
   "source": [
    "PATH = 'C:/Users/brent/Downloads/'"
   ]
  },
  {
   "cell_type": "code",
   "execution_count": 8,
   "metadata": {},
   "outputs": [],
   "source": [
    "json_file = open(PATH + 'models/models/adverse/adverse_num.json', 'r')\n",
    "loaded_model_json = json_file.read()\n",
    "json_file.close()\n",
    "adverse_model = model_from_json(loaded_model_json)\n",
    "adverse_model.load_weights(PATH + \"models/models/adverse/adverse_model.hdr\")"
   ]
  },
  {
   "cell_type": "code",
   "execution_count": 9,
   "metadata": {},
   "outputs": [],
   "source": [
    "adverse_labels = pd.read_csv(PATH + 'models/models/adverse/adverse_effect_labels.csv').columns[1:]"
   ]
  },
  {
   "cell_type": "markdown",
   "metadata": {},
   "source": [
    "# Chapter Model"
   ]
  },
  {
   "cell_type": "code",
   "execution_count": 10,
   "metadata": {},
   "outputs": [],
   "source": [
    "json_file = open(PATH + 'models/models/chapter/chapter_num.json', 'r')\n",
    "loaded_model_json = json_file.read()\n",
    "json_file.close()\n",
    "chapter_model = model_from_json(loaded_model_json)\n",
    "chapter_model.load_weights(PATH + \"models/models/chapter/chapter_model.hdr\")"
   ]
  },
  {
   "cell_type": "code",
   "execution_count": 11,
   "metadata": {},
   "outputs": [],
   "source": [
    "chapter_labels = pd.read_csv(PATH + 'models/models/chapter/chapter_label.csv').columns[1:]"
   ]
  },
  {
   "cell_type": "markdown",
   "metadata": {},
   "source": [
    "# Sub Chapter Models"
   ]
  },
  {
   "cell_type": "code",
   "execution_count": 12,
   "metadata": {},
   "outputs": [],
   "source": [
    "model_dict = {}"
   ]
  },
  {
   "cell_type": "code",
   "execution_count": 13,
   "metadata": {},
   "outputs": [],
   "source": [
    "label_dict = {}"
   ]
  },
  {
   "cell_type": "code",
   "execution_count": 14,
   "metadata": {},
   "outputs": [],
   "source": [
    "for file in glob.glob(PATH + \"models/models/disease/*.json\"):  \n",
    "    baseName = os.path.basename(file)[6:-5]   \n",
    "    json_file = open(file, 'r')\n",
    "    loaded_model_json = json_file.read()\n",
    "    json_file.close()\n",
    "    model_dict[baseName] = model_from_json(loaded_model_json)\n",
    "    model_dict[baseName].load_weights(file[:-5]+\"_4_embeddings1.hdr\")\n",
    "    labels = pd.read_csv(PATH + 'models/models/disease/chapter_labels/'+baseName).columns[1:]\n",
    "    label_dict[baseName] = labels"
   ]
  },
  {
   "cell_type": "markdown",
   "metadata": {},
   "source": [
    "# Predictions"
   ]
  },
  {
   "cell_type": "code",
   "execution_count": 15,
   "metadata": {},
   "outputs": [],
   "source": [
    "chapter_pred = chapter_model.predict(embeddings_padded)[0]\n",
    "chapter_dict = {key: value for (key, value) in zip(chapter_labels, chapter_pred)}"
   ]
  },
  {
   "cell_type": "code",
   "execution_count": 16,
   "metadata": {},
   "outputs": [],
   "source": [
    "adverse_pred = adverse_model.predict(embeddings_padded)[0]\n",
    "adverse_dict = {key: value for (key, value) in zip(adverse_labels, adverse_pred)}"
   ]
  },
  {
   "cell_type": "code",
   "execution_count": 17,
   "metadata": {},
   "outputs": [],
   "source": [
    "disease_dict = {}\n",
    "disease_dict['680_709'] = {}\n",
    "for model in model_dict:\n",
    "    model_pred = model_dict[model].predict(embeddings_padded)[0]\n",
    "    disease_dict[model[:-4]] = {key: value for (key,value) in zip(label_dict[model], model_pred)}"
   ]
  },
  {
   "cell_type": "code",
   "execution_count": 21,
   "metadata": {
    "scrolled": false
   },
   "outputs": [],
   "source": [
    "output_dict = {\"name\": \"Root\", \"value\": 1, \"children\": \n",
    " [{\"name\": \"Adverse\", \"value\": 1, \"children\": \n",
    "      [{\"name\": adv_key, \"value\": adv_value} for (adv_key, adv_value) in adverse_dict.items()]},\n",
    " {\"name\": \"Chapter\", \"value\": 1, \"children\": \n",
    "      [{\"name\": ch_key, \"value\": ch_value, \"children\": \n",
    "          [{\"name\": dis_key, \"value\": dis_value} for (dis_key, dis_value) in disease_dict[ch_key].items()]} for (ch_key, ch_value) in chapter_dict.items()]}]\n",
    "}"
   ]
  }
 ],
 "metadata": {
  "kernelspec": {
   "display_name": "Python 3",
   "language": "python",
   "name": "python3"
  },
  "language_info": {
   "codemirror_mode": {
    "name": "ipython",
    "version": 3
   },
   "file_extension": ".py",
   "mimetype": "text/x-python",
   "name": "python",
   "nbconvert_exporter": "python",
   "pygments_lexer": "ipython3",
   "version": "3.7.6"
  }
 },
 "nbformat": 4,
 "nbformat_minor": 4
}
