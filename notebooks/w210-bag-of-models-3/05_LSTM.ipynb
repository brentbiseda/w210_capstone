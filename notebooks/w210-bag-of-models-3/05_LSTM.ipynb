{
 "cells": [
  {
   "cell_type": "code",
   "execution_count": 1,
   "metadata": {},
   "outputs": [
    {
     "name": "stdout",
     "output_type": "stream",
     "text": [
      "Requirement already satisfied: pydot in /home/ec2-user/anaconda3/envs/amazonei_tensorflow2_p36/lib/python3.6/site-packages (1.4.1)\n",
      "Requirement already satisfied: pyparsing>=2.1.4 in /home/ec2-user/anaconda3/envs/amazonei_tensorflow2_p36/lib/python3.6/site-packages (from pydot) (2.4.7)\n"
     ]
    }
   ],
   "source": [
    "!pip install pydot"
   ]
  },
  {
   "cell_type": "code",
   "execution_count": 2,
   "metadata": {},
   "outputs": [
    {
     "name": "stderr",
     "output_type": "stream",
     "text": [
      "Using TensorFlow backend.\n"
     ]
    }
   ],
   "source": [
    "import pandas as pd\n",
    "import random\n",
    "#import torch\n",
    "#from transformers import AutoTokenizer, AutoModel\n",
    "#import re\n",
    "#import string\n",
    "import numpy as np\n",
    "import pydot\n",
    "#from nltk.corpus import stopwords \n",
    "#from nltk.stem import WordNetLemmatizer\n",
    "#from nltk.stem import LancasterStemmer\n",
    "#from simpletransformers.classification import MultiLabelClassificationModel\n",
    "#import logging\n",
    "#import custom_sentence_tokenizer\n",
    "import matplotlib.pyplot as plt\n",
    "#from scipy import stats\n",
    "#from ast import literal_eval\n",
    "import pickle\n",
    "from keras.preprocessing.sequence import pad_sequences\n",
    "import keras.backend as K\n",
    "import keras\n",
    "import gc"
   ]
  },
  {
   "cell_type": "code",
   "execution_count": 3,
   "metadata": {},
   "outputs": [],
   "source": [
    "#from numpy import array\n",
    "from keras.preprocessing.text import one_hot\n",
    "from keras.preprocessing.sequence import pad_sequences\n",
    "from keras.models import Sequential\n",
    "from keras.layers.core import Activation, Dropout, Dense\n",
    "from keras.layers import Flatten, LSTM, Reshape\n",
    "from keras.layers import GlobalMaxPooling1D,Conv2D, Conv1D, AveragePooling2D, MaxPooling1D, AveragePooling1D\n",
    "from keras.models import Model\n",
    "from keras.utils.vis_utils import plot_model\n",
    "from keras.layers.embeddings import Embedding\n",
    "from sklearn.model_selection import train_test_split\n",
    "from keras.preprocessing.text import Tokenizer\n",
    "from keras.layers import Input\n",
    "from keras.layers.merge import concatenate\n",
    "#from sklearn.decomposition import PCA\n",
    "import _pickle as cPickle\n",
    "import io\n",
    "import time\n",
    "import sys\n",
    "import boto3\n",
    "from boto3.s3.transfer import TransferConfig"
   ]
  },
  {
   "cell_type": "markdown",
   "metadata": {},
   "source": [
    "## 1. Import Embeddings (X) and Labels (Y)"
   ]
  },
  {
   "cell_type": "markdown",
   "metadata": {},
   "source": [
    "### 1.1 Embeddings"
   ]
  },
  {
   "cell_type": "code",
   "execution_count": 4,
   "metadata": {},
   "outputs": [
    {
     "name": "stdout",
     "output_type": "stream",
     "text": [
      "48.56441617012024\n"
     ]
    }
   ],
   "source": [
    "now = time.time()\n",
    "infile = None\n",
    "infile = open(\"embeddings_7\",'rb')\n",
    "embeddings = cPickle.load(infile)\n",
    "infile.close()\n",
    "del(infile)\n",
    "print(time.time()-now)"
   ]
  },
  {
   "cell_type": "code",
   "execution_count": 5,
   "metadata": {},
   "outputs": [
    {
     "data": {
      "text/plain": [
       "0"
      ]
     },
     "execution_count": 5,
     "metadata": {},
     "output_type": "execute_result"
    }
   ],
   "source": [
    "gc.collect()"
   ]
  },
  {
   "cell_type": "code",
   "execution_count": 6,
   "metadata": {},
   "outputs": [
    {
     "name": "stdout",
     "output_type": "stream",
     "text": [
      "embeddings 589928\n"
     ]
    }
   ],
   "source": [
    "from __future__ import print_function  # for Python2\n",
    "import sys\n",
    "\n",
    "local_vars = list(locals().items())\n",
    "for var, obj in local_vars:\n",
    "    i = sys.getsizeof(obj)\n",
    "    if i >100000:\n",
    "        print(var, i)"
   ]
  },
  {
   "cell_type": "code",
   "execution_count": 7,
   "metadata": {},
   "outputs": [
    {
     "data": {
      "text/plain": [
       "\"\\nnow = time.time()\\nembeddings = {}\\nsession = boto3.session.Session(region_name='us-east-1')\\ns3client = session.client('s3')\\nfor i in ['embeddings1','embeddings2','embeddings3']:\\n          #,'embeddings2','embeddings3','embeddings4','embeddings5']:\\n    response = s3client.get_object(Bucket='w210-mimic', Key=i)\\n    body_string = response['Body'].read()\\n    embeddings.update(cPickle.loads(body_string))\\nprint(time.time()-now)\\n\""
      ]
     },
     "execution_count": 7,
     "metadata": {},
     "output_type": "execute_result"
    }
   ],
   "source": [
    "\"\"\"\n",
    "now = time.time()\n",
    "embeddings = {}\n",
    "session = boto3.session.Session(region_name='us-east-1')\n",
    "s3client = session.client('s3')\n",
    "for i in ['embeddings1','embeddings2','embeddings3']:\n",
    "          #,'embeddings2','embeddings3','embeddings4','embeddings5']:\n",
    "    response = s3client.get_object(Bucket='w210-mimic', Key=i)\n",
    "    body_string = response['Body'].read()\n",
    "    embeddings.update(cPickle.loads(body_string))\n",
    "print(time.time()-now)\n",
    "\"\"\""
   ]
  },
  {
   "cell_type": "code",
   "execution_count": 8,
   "metadata": {},
   "outputs": [],
   "source": [
    "embeddings_np = np.array(list(embeddings.items()))"
   ]
  },
  {
   "cell_type": "code",
   "execution_count": 9,
   "metadata": {},
   "outputs": [
    {
     "data": {
      "text/plain": [
       "(13441,)"
      ]
     },
     "execution_count": 9,
     "metadata": {},
     "output_type": "execute_result"
    }
   ],
   "source": [
    "embeddings_np[:,1].shape"
   ]
  },
  {
   "cell_type": "code",
   "execution_count": 10,
   "metadata": {},
   "outputs": [],
   "source": [
    "HADM_ID_LIST = embeddings_np[:,0].copy()\n",
    "embeddings = embeddings_np[:,1].copy()"
   ]
  },
  {
   "cell_type": "code",
   "execution_count": 11,
   "metadata": {},
   "outputs": [
    {
     "data": {
      "text/plain": [
       "107624"
      ]
     },
     "execution_count": 11,
     "metadata": {},
     "output_type": "execute_result"
    }
   ],
   "source": [
    "sys.getsizeof(embeddings)"
   ]
  },
  {
   "cell_type": "code",
   "execution_count": 12,
   "metadata": {},
   "outputs": [
    {
     "data": {
      "text/plain": [
       "(13441, (14, 256, 768))"
      ]
     },
     "execution_count": 12,
     "metadata": {},
     "output_type": "execute_result"
    }
   ],
   "source": [
    "len(embeddings), embeddings[0].shape"
   ]
  },
  {
   "cell_type": "markdown",
   "metadata": {},
   "source": [
    "#### 1.1.1 Zero pad and truncate"
   ]
  },
  {
   "cell_type": "code",
   "execution_count": 13,
   "metadata": {},
   "outputs": [],
   "source": [
    "def padding(embeddings):\n",
    "    max_sentence = 20\n",
    "    padding = max_sentence - len(embeddings)\n",
    "    if padding > 0:\n",
    "        padding_shape = (padding, 256, 768)\n",
    "        pad = np.zeros(padding*256*768).reshape(padding_shape)\n",
    "        return np.append(embeddings, pad, axis = 0).astype('float16')\n",
    "    else:\n",
    "        return embeddings"
   ]
  },
  {
   "cell_type": "code",
   "execution_count": 14,
   "metadata": {},
   "outputs": [],
   "source": [
    "embeddings_padded = None\n",
    "embeddings_padded = [padding(embeddings_ITEM) for embeddings_ITEM in embeddings]"
   ]
  },
  {
   "cell_type": "code",
   "execution_count": 15,
   "metadata": {},
   "outputs": [],
   "source": [
    "del(embeddings)"
   ]
  },
  {
   "cell_type": "code",
   "execution_count": 16,
   "metadata": {},
   "outputs": [],
   "source": [
    "#Reshape embeddings\n",
    "embeddings_concat = np.array([np.concatenate(i) for i in embeddings_padded])\n",
    "#embeddings_concat = np.array([np.concatenate(i) for i in embeddings])"
   ]
  },
  {
   "cell_type": "code",
   "execution_count": 17,
   "metadata": {},
   "outputs": [],
   "source": [
    "del(embeddings_padded)"
   ]
  },
  {
   "cell_type": "code",
   "execution_count": 18,
   "metadata": {},
   "outputs": [
    {
     "data": {
      "text/plain": [
       "(13441, 5120, 768)"
      ]
     },
     "execution_count": 18,
     "metadata": {},
     "output_type": "execute_result"
    }
   ],
   "source": [
    "len(embeddings_concat), len(embeddings_concat[1]), len(embeddings_concat[0][0])"
   ]
  },
  {
   "cell_type": "code",
   "execution_count": 19,
   "metadata": {},
   "outputs": [
    {
     "name": "stdout",
     "output_type": "stream",
     "text": [
      "embeddings_np 215168\n",
      "HADM_ID_LIST 107624\n",
      "embeddings_concat 105704325248\n"
     ]
    }
   ],
   "source": [
    "from __future__ import print_function  # for Python2\n",
    "import sys\n",
    "\n",
    "local_vars = list(locals().items())\n",
    "for var, obj in local_vars:\n",
    "    i = sys.getsizeof(obj)\n",
    "    if i >10000:\n",
    "        print(var, i)"
   ]
  },
  {
   "cell_type": "code",
   "execution_count": 69,
   "metadata": {},
   "outputs": [],
   "source": [
    "del(embeddings)\n",
    "del(embeddings_np)\n",
    "del(HADM_ID_LIST)\n",
    "del(arr)\n",
    "del(CHAPTER_PIVOT_DF)\n",
    "del(HADM_ID_DF)\n",
    "del(CHAPTER_PIVOT_NP)\n",
    "del(embeddings_concat)"
   ]
  },
  {
   "cell_type": "code",
   "execution_count": 20,
   "metadata": {},
   "outputs": [
    {
     "ename": "NameError",
     "evalue": "name 'arr' is not defined",
     "output_type": "error",
     "traceback": [
      "\u001b[0;31m---------------------------------------------------------------------------\u001b[0m",
      "\u001b[0;31mNameError\u001b[0m                                 Traceback (most recent call last)",
      "\u001b[0;32m<ipython-input-20-4324f3787acc>\u001b[0m in \u001b[0;36m<module>\u001b[0;34m\u001b[0m\n\u001b[1;32m      1\u001b[0m \u001b[0;32mdel\u001b[0m\u001b[0;34m(\u001b[0m\u001b[0membeddings_np\u001b[0m\u001b[0;34m)\u001b[0m\u001b[0;34m\u001b[0m\u001b[0;34m\u001b[0m\u001b[0m\n\u001b[0;32m----> 2\u001b[0;31m \u001b[0;32mdel\u001b[0m\u001b[0;34m(\u001b[0m\u001b[0marr\u001b[0m\u001b[0;34m)\u001b[0m\u001b[0;34m\u001b[0m\u001b[0;34m\u001b[0m\u001b[0m\n\u001b[0m\u001b[1;32m      3\u001b[0m \u001b[0;32mdel\u001b[0m\u001b[0;34m(\u001b[0m\u001b[0mi\u001b[0m\u001b[0;34m)\u001b[0m\u001b[0;34m\u001b[0m\u001b[0;34m\u001b[0m\u001b[0m\n",
      "\u001b[0;31mNameError\u001b[0m: name 'arr' is not defined"
     ]
    }
   ],
   "source": [
    "del(embeddings_np)\n",
    "del(arr)\n",
    "del(i)"
   ]
  },
  {
   "cell_type": "markdown",
   "metadata": {},
   "source": [
    "### 1.2 Labels - Top 100 Dx code and 18 category"
   ]
  },
  {
   "cell_type": "code",
   "execution_count": null,
   "metadata": {},
   "outputs": [],
   "source": [
    "CHAPTER_PIVOT_DF = pd.read_csv('s3://w210-mimic/data/balanced_chapter_label.csv', sep=',', header = 0)\\\n",
    "                    .astype({'HADM_ID': 'str'}).set_index('HADM_ID')"
   ]
  },
  {
   "cell_type": "code",
   "execution_count": null,
   "metadata": {},
   "outputs": [],
   "source": [
    "#CHAPTER_PIVOT_DF.head()"
   ]
  },
  {
   "cell_type": "code",
   "execution_count": null,
   "metadata": {},
   "outputs": [],
   "source": [
    "HADM_ID_DF = None\n",
    "HADM_ID_DF =  pd.DataFrame(data=HADM_ID_LIST, columns=['HADM_ID'])"
   ]
  },
  {
   "cell_type": "code",
   "execution_count": null,
   "metadata": {},
   "outputs": [],
   "source": [
    "CHAPTER_PIVOT_DF = HADM_ID_DF.set_index('HADM_ID')\\\n",
    "            .join(CHAPTER_PIVOT_DF, how='left')"
   ]
  },
  {
   "cell_type": "code",
   "execution_count": null,
   "metadata": {},
   "outputs": [],
   "source": [
    "HADM_ID_LIST[:5]"
   ]
  },
  {
   "cell_type": "code",
   "execution_count": null,
   "metadata": {},
   "outputs": [],
   "source": [
    "CHAPTER_PIVOT_NP = np.array(CHAPTER_PIVOT_DF)"
   ]
  },
  {
   "cell_type": "code",
   "execution_count": null,
   "metadata": {},
   "outputs": [],
   "source": [
    "CHAPTER_PIVOT_NP.shape"
   ]
  },
  {
   "cell_type": "code",
   "execution_count": null,
   "metadata": {},
   "outputs": [],
   "source": [
    "del(CHAPTER_PIVOT_DF)\n",
    "#del(tmp)\n",
    "del(HADM_ID_LIST)\n",
    "del(HADM_ID_DF)"
   ]
  },
  {
   "cell_type": "markdown",
   "metadata": {},
   "source": [
    "## 2. Split test and training"
   ]
  },
  {
   "cell_type": "code",
   "execution_count": null,
   "metadata": {},
   "outputs": [],
   "source": [
    "CHAPTER_PIVOT_NP.shape"
   ]
  },
  {
   "cell_type": "code",
   "execution_count": null,
   "metadata": {},
   "outputs": [],
   "source": [
    "X_train2, X_test2, y_train2, y_test2 = train_test_split(embeddings_concat, CHAPTER_PIVOT_NP, test_size=0.2)"
   ]
  },
  {
   "cell_type": "code",
   "execution_count": null,
   "metadata": {},
   "outputs": [],
   "source": [
    "y_train2.shape, y_test2.shape"
   ]
  },
  {
   "cell_type": "code",
   "execution_count": null,
   "metadata": {},
   "outputs": [],
   "source": [
    "X_train2.shape, X_test2.shape"
   ]
  },
  {
   "cell_type": "code",
   "execution_count": null,
   "metadata": {},
   "outputs": [],
   "source": [
    "#X_train2 = X_train2.reshape(10752, 20, 256, 768)\n",
    "#X_test2 = X_test2.reshape(2689, 20, 256, 768)"
   ]
  },
  {
   "cell_type": "code",
   "execution_count": null,
   "metadata": {},
   "outputs": [],
   "source": [
    "#del(embeddings_concat)\n",
    "#del(embeddings)\n",
    "del(CHAPTER_PIVOT_NP)"
   ]
  },
  {
   "cell_type": "code",
   "execution_count": null,
   "metadata": {},
   "outputs": [],
   "source": [
    "gc.collect()"
   ]
  },
  {
   "cell_type": "markdown",
   "metadata": {},
   "source": [
    "## 3. Define LSTM pipeline"
   ]
  },
  {
   "cell_type": "markdown",
   "metadata": {},
   "source": [
    "### 3.1 LSTM 1"
   ]
  },
  {
   "cell_type": "code",
   "execution_count": null,
   "metadata": {},
   "outputs": [],
   "source": [
    "def get_f1(y_true, y_pred): #taken from old keras source code\n",
    "    true_positives = K.sum(K.round(K.clip(y_true * y_pred, 0, 1)))\n",
    "    possible_positives = K.sum(K.round(K.clip(y_true, 0, 1)))\n",
    "    predicted_positives = K.sum(K.round(K.clip(y_pred, 0, 1)))\n",
    "    precision = true_positives / (predicted_positives + K.epsilon())\n",
    "    recall = true_positives / (possible_positives + K.epsilon())\n",
    "    f1_val = 2*(precision*recall)/(precision+recall+K.epsilon())\n",
    "    return f1_val"
   ]
  },
  {
   "cell_type": "code",
   "execution_count": 38,
   "metadata": {},
   "outputs": [],
   "source": [
    "import tensorflow as tf\n",
    "def f1_loss(y_true, y_pred):\n",
    "    \n",
    "    tp = K.sum(K.cast(y_true*y_pred, 'float'), axis=0)\n",
    "    tn = K.sum(K.cast((1-y_true)*(1-y_pred), 'float'), axis=0)\n",
    "    fp = K.sum(K.cast((1-y_true)*y_pred, 'float'), axis=0)\n",
    "    fn = K.sum(K.cast(y_true*(1-y_pred), 'float'), axis=0)\n",
    "\n",
    "    p = tp / (tp + fp + K.epsilon())\n",
    "    r = tp / (tp + fn + K.epsilon())\n",
    "\n",
    "    f1 = 2*p*r / (p+r+K.epsilon())\n",
    "    f1 = tf.where(tf.math.is_nan(f1), tf.zeros_like(f1), f1)\n",
    "    return 1 - K.mean(f1)"
   ]
  },
  {
   "cell_type": "code",
   "execution_count": null,
   "metadata": {},
   "outputs": [],
   "source": [
    "deep_inputs = Input(shape=(20*256,768))\n",
    "#LSTM_Layer_1 = LSTM(256)(deep_inputs)\n",
    "LSTM_Layer_1 = Flatten()\n",
    "dense_layer_1 = Dense(16, activation='sigmoid')(LSTM_Layer_1)\n",
    "model = Model(inputs=deep_inputs, outputs=dense_layer_1)"
   ]
  },
  {
   "cell_type": "code",
   "execution_count": 77,
   "metadata": {},
   "outputs": [],
   "source": [
    "opt = keras.optimizers.adam(lr=0.001)\n",
    "#model.compile(loss='binary_crossentropy', optimizer=opt, metrics=[get_f1])\n",
    "model.compile(loss=f1_loss, optimizer=opt, metrics=[get_f1])"
   ]
  },
  {
   "cell_type": "code",
   "execution_count": null,
   "metadata": {},
   "outputs": [],
   "source": [
    "history1 = model.fit(X_train2, y_train2, epochs=3, verbose=1, validation_split=0.1)"
   ]
  },
  {
   "cell_type": "code",
   "execution_count": null,
   "metadata": {
    "scrolled": true
   },
   "outputs": [],
   "source": [
    "score = model.evaluate(X_test2, y_test2, verbose=1)\n",
    "\n",
    "print(\"Test Score:\", score[0])\n",
    "print(\"Test F1:\", score[1])"
   ]
  },
  {
   "cell_type": "code",
   "execution_count": null,
   "metadata": {},
   "outputs": [],
   "source": [
    "model_json = model.to_json()\n",
    "\n",
    "with open(\"model_num.json\", \"w\") as json_file:\n",
    "    json_file.write(model_json)\n",
    "\n",
    "# serialize weights to HDF5\n",
    "model.save_weights(\"model_num.h5\")"
   ]
  },
  {
   "cell_type": "markdown",
   "metadata": {},
   "source": [
    "### 3.2 LSTM 2"
   ]
  },
  {
   "cell_type": "code",
   "execution_count": null,
   "metadata": {},
   "outputs": [],
   "source": [
    "deep_inputs = Input(shape=(3840,768))\n",
    "LSTM_Layer_1 = LSTM(128)(deep_inputs)\n",
    "dense_layer_1 = Dense(16, activation='sigmoid')(LSTM_Layer_1)\n",
    "model1 = Model(inputs=deep_inputs, outputs=dense_layer_1)\n",
    "opt = keras.optimizers.Adam(lr=0.001)\n",
    "model1.compile(loss='binary_crossentropy', optimizer=opt, metrics=[get_f1])"
   ]
  },
  {
   "cell_type": "code",
   "execution_count": null,
   "metadata": {},
   "outputs": [
    {
     "name": "stdout",
     "output_type": "stream",
     "text": [
      "WARNING:tensorflow:From /home/ec2-user/anaconda3/envs/amazonei_tensorflow_p36/lib/python3.6/site-packages/keras/backend/tensorflow_backend.py:422: The name tf.global_variables is deprecated. Please use tf.compat.v1.global_variables instead.\n",
      "\n",
      "Train on 9676 samples, validate on 1076 samples\n",
      "Epoch 1/5\n",
      "9676/9676 [==============================] - 1101s 114ms/step - loss: 0.5323 - get_f1: 0.6178 - val_loss: 0.5470 - val_get_f1: 0.6121\n",
      "Epoch 3/5\n",
      "9676/9676 [==============================] - 1101s 114ms/step - loss: 0.5255 - get_f1: 0.6311 - val_loss: 0.5408 - val_get_f1: 0.6008\n",
      "Epoch 4/5\n",
      "9676/9676 [==============================] - 1105s 114ms/step - loss: 0.5173 - get_f1: 0.6422 - val_loss: 0.5380 - val_get_f1: 0.6240\n",
      "Epoch 5/5\n",
      "9676/9676 [==============================] - 1099s 114ms/step - loss: 0.5087 - get_f1: 0.6534 - val_loss: 0.5387 - val_get_f1: 0.5939\n"
     ]
    }
   ],
   "source": [
    "history1 = model1.fit(X_train2, y_train2, epochs=5, batch_size=32, verbose=1, validation_split=0.1)"
   ]
  },
  {
   "cell_type": "code",
   "execution_count": null,
   "metadata": {},
   "outputs": [
    {
     "name": "stdout",
     "output_type": "stream",
     "text": [
      "2689/2689 [==============================] - 137s 51ms/step\n",
      "Test F1: 0.6105346083641052\n"
     ]
    }
   ],
   "source": [
    "score = model1.evaluate(X_test2, y_test2, verbose=1)\n",
    "\n",
    "print(\"Test F1:\", score[1])"
   ]
  },
  {
   "cell_type": "code",
   "execution_count": null,
   "metadata": {},
   "outputs": [],
   "source": [
    "model_json = model1.to_json()\n",
    "\n",
    "with open(\"model_num1.json\", \"w\") as json_file:\n",
    "    json_file.write(model_json)\n",
    "\n",
    "# serialize weights to HDF5\n",
    "model1.save_weights(\"model_num1.h5\")"
   ]
  },
  {
   "cell_type": "markdown",
   "metadata": {},
   "source": [
    "## LSTM 3"
   ]
  },
  {
   "cell_type": "code",
   "execution_count": 64,
   "metadata": {},
   "outputs": [],
   "source": [
    "deep_inputs = Input(shape=(5120,768))\n",
    "LSTM_Layer_1 = LSTM(256, return_sequences = True)(deep_inputs)\n",
    "LSTM_Layer_2 = LSTM(128)(LSTM_Layer_1)\n",
    "dense_layer_1 = Dense(16, activation='sigmoid')(LSTM_Layer_2)\n",
    "model2 = Model(inputs=deep_inputs, outputs=dense_layer_1)\n",
    "opt = keras.optimizers.Adam(lr=0.001)\n",
    "model2.compile(loss='binary_crossentropy', optimizer=opt, metrics=[get_f1])"
   ]
  },
  {
   "cell_type": "code",
   "execution_count": null,
   "metadata": {},
   "outputs": [],
   "source": [
    "history2 = model2.fit(X_train2, y_train2, epochs=3, batch_size=32, verbose=1, validation_split=0.1)"
   ]
  },
  {
   "cell_type": "code",
   "execution_count": 41,
   "metadata": {},
   "outputs": [
    {
     "name": "stdout",
     "output_type": "stream",
     "text": [
      "2689/2689 [==============================] - 180s 67ms/step\n",
      "Test F1: 0.6257776021957397\n"
     ]
    }
   ],
   "source": [
    "score = model2.evaluate(X_test2, y_test2, verbose=1)\n",
    "\n",
    "print(\"Test F1:\", score[1])"
   ]
  },
  {
   "cell_type": "code",
   "execution_count": null,
   "metadata": {},
   "outputs": [],
   "source": [
    "model_json = model2.to_json()\n",
    "\n",
    "with open(\"model_num2_large.json\", \"w\") as json_file:\n",
    "    json_file.write(model_json)\n",
    "\n",
    "# serialize weights to HDF5\n",
    "model2.save_weights(\"model_num2_large.h5\")"
   ]
  },
  {
   "cell_type": "code",
   "execution_count": 40,
   "metadata": {},
   "outputs": [],
   "source": [
    "X_train2 = X_train2.reshape(10752,20,256,768)"
   ]
  },
  {
   "cell_type": "code",
   "execution_count": 41,
   "metadata": {},
   "outputs": [
    {
     "data": {
      "text/plain": [
       "(10752, 20, 256, 768)"
      ]
     },
     "execution_count": 41,
     "metadata": {},
     "output_type": "execute_result"
    }
   ],
   "source": [
    "X_train2.shape"
   ]
  },
  {
   "cell_type": "code",
   "execution_count": 8,
   "metadata": {},
   "outputs": [],
   "source": [
    "from keras.layers import Conv2D, AveragePooling2D"
   ]
  },
  {
   "cell_type": "code",
   "execution_count": 115,
   "metadata": {},
   "outputs": [],
   "source": [
    "pool_size = 4\n",
    "filter_size = 8\n",
    "num_filters = 16\n",
    "deep_inputs = Input(shape=(20*256,768))\n",
    "Conv1 = Conv1D(num_filters, filter_size)(deep_inputs)\n",
    "Pool1 = AveragePooling1D(pool_size=pool_size)(Conv1)\n",
    "flat = Flatten()(Pool1)\n",
    "drop1 = Dropout(0.3)(flat)\n",
    "dense_layer_2 = Dense(128, activation='relu')(drop1)\n",
    "drop2 = Dropout(0.3)(dense_layer_2)\n",
    "dense_layer_3 = Dense(64, activation='relu')(drop2)\n",
    "dense_layer_4 = Dense(16, activation='sigmoid')(dense_layer_3)\n",
    "model2 = Model(inputs=deep_inputs, outputs=dense_layer_4)\n",
    "opt = keras.optimizers.Adam(lr=0.0001)\n",
    "model2.compile(loss=f1_loss, optimizer=opt, metrics=[get_f1])"
   ]
  },
  {
   "cell_type": "code",
   "execution_count": 116,
   "metadata": {},
   "outputs": [
    {
     "name": "stdout",
     "output_type": "stream",
     "text": [
      "Train on 9676 samples, validate on 1076 samples\n",
      "Epoch 1/5\n",
      "9676/9676 [==============================] - 684s 71ms/step - loss: 0.3613 - get_f1: 0.6497 - val_loss: 0.3470 - val_get_f1: 0.6612\n",
      "Epoch 2/5\n",
      "9676/9676 [==============================] - 679s 70ms/step - loss: 0.3321 - get_f1: 0.6759 - val_loss: 0.3408 - val_get_f1: 0.6702\n",
      "Epoch 3/5\n",
      "9676/9676 [==============================] - 679s 70ms/step - loss: 0.3263 - get_f1: 0.6812 - val_loss: 0.3411 - val_get_f1: 0.6664\n",
      "Epoch 4/5\n",
      "9676/9676 [==============================] - 683s 71ms/step - loss: 0.3227 - get_f1: 0.6846 - val_loss: 0.3307 - val_get_f1: 0.6795\n",
      "Epoch 5/5\n",
      "9676/9676 [==============================] - 689s 71ms/step - loss: 0.3158 - get_f1: 0.6926 - val_loss: 0.3246 - val_get_f1: 0.6865\n"
     ]
    }
   ],
   "source": [
    "history2 = model2.fit(X_train2, y_train2, epochs=5, batch_size=32, verbose=1, validation_split=0.1)"
   ]
  },
  {
   "cell_type": "code",
   "execution_count": null,
   "metadata": {},
   "outputs": [],
   "source": [
    "model2.summary()"
   ]
  },
  {
   "cell_type": "code",
   "execution_count": 117,
   "metadata": {},
   "outputs": [
    {
     "name": "stdout",
     "output_type": "stream",
     "text": [
      "2689/2689 [==============================] - 85s 32ms/step\n",
      "Test Score: 0.30935339189098865\n",
      "Test F1: 0.700751006603241\n"
     ]
    }
   ],
   "source": [
    "score = model2.evaluate(X_test2, y_test2, verbose=1)\n",
    "\n",
    "print(\"Test Score:\", score[0])\n",
    "print(\"Test F1:\", score[1])"
   ]
  },
  {
   "cell_type": "code",
   "execution_count": 118,
   "metadata": {},
   "outputs": [],
   "source": [
    "model_json = model2.to_json()\n",
    "\n",
    "with open(\"model_num_cnn.json\", \"w\") as json_file:\n",
    "    json_file.write(model_json)\n",
    "\n",
    "# serialize weights to HDF5\n",
    "model2.save_weights(\"model_num_cnn.h5\")"
   ]
  },
  {
   "cell_type": "code",
   "execution_count": 48,
   "metadata": {},
   "outputs": [
    {
     "data": {
      "text/plain": [
       "(5120, 768)"
      ]
     },
     "execution_count": 48,
     "metadata": {},
     "output_type": "execute_result"
    }
   ],
   "source": [
    "#def generate_aug_text(X_train2):\n",
    "#    X_train2[0].shape"
   ]
  },
  {
   "cell_type": "code",
   "execution_count": 39,
   "metadata": {},
   "outputs": [],
   "source": [
    "pool_size = 4\n",
    "filter_size = 8\n",
    "num_filters = 16\n",
    "deep_inputs = Input(shape=(20*256,768))\n",
    "Conv1 = Conv1D(num_filters, filter_size)(deep_inputs)\n",
    "Pool1 = AveragePooling1D(pool_size=pool_size)(Conv1)\n",
    "flat = Flatten()(Pool1)\n",
    "drop1 = Dropout(0.3)(flat)\n",
    "dense_layer_2 = Dense(128, activation='relu')(drop1)\n",
    "drop2 = Dropout(0.3)(dense_layer_2)\n",
    "dense_layer_3 = Dense(64, activation='relu')(drop2)\n",
    "dense_layer_4 = Dense(16, activation='sigmoid')(dense_layer_3)\n",
    "model2 = Model(inputs=deep_inputs, outputs=dense_layer_4)\n",
    "opt = keras.optimizers.Adam(lr=0.0001)\n",
    "model2.compile(loss='binary_crossentropy', optimizer=opt, metrics=[get_f1])"
   ]
  },
  {
   "cell_type": "code",
   "execution_count": 40,
   "metadata": {},
   "outputs": [
    {
     "name": "stdout",
     "output_type": "stream",
     "text": [
      "Train on 9676 samples, validate on 1076 samples\n",
      "Epoch 1/5\n",
      "9676/9676 [==============================] - 723s 75ms/step - loss: 0.5720 - get_f1: 0.5993 - val_loss: 0.5194 - val_get_f1: 0.6530\n",
      "Epoch 2/5\n",
      "9676/9676 [==============================] - 705s 73ms/step - loss: 0.5031 - get_f1: 0.6720 - val_loss: 0.4895 - val_get_f1: 0.6910\n",
      "Epoch 3/5\n",
      "9676/9676 [==============================] - 689s 71ms/step - loss: 0.4695 - get_f1: 0.7068 - val_loss: 0.4768 - val_get_f1: 0.7096\n",
      "Epoch 4/5\n",
      "9676/9676 [==============================] - 668s 69ms/step - loss: 0.4368 - get_f1: 0.7350 - val_loss: 0.4735 - val_get_f1: 0.6981\n",
      "Epoch 5/5\n",
      "9676/9676 [==============================] - 668s 69ms/step - loss: 0.4058 - get_f1: 0.7606 - val_loss: 0.4759 - val_get_f1: 0.7136\n"
     ]
    }
   ],
   "source": [
    "history2 = model2.fit(X_train2, y_train2, epochs=5, batch_size=32, verbose=1, validation_split=0.1)"
   ]
  },
  {
   "cell_type": "code",
   "execution_count": 41,
   "metadata": {},
   "outputs": [
    {
     "name": "stdout",
     "output_type": "stream",
     "text": [
      "2689/2689 [==============================] - 83s 31ms/step\n",
      "Test Score: 0.47465525195695246\n",
      "Test F1: 0.6981337070465088\n"
     ]
    }
   ],
   "source": [
    "score = model2.evaluate(X_test2, y_test2, verbose=1)\n",
    "\n",
    "print(\"Test Score:\", score[0])\n",
    "print(\"Test F1:\", score[1])"
   ]
  },
  {
   "cell_type": "code",
   "execution_count": 42,
   "metadata": {},
   "outputs": [],
   "source": [
    "model_json = model2.to_json()\n",
    "\n",
    "with open(\"model_num_cnn1.json\", \"w\") as json_file:\n",
    "    json_file.write(model_json)\n",
    "\n",
    "# serialize weights to HDF5\n",
    "model2.save_weights(\"model_num_cnn1.h5\")"
   ]
  },
  {
   "cell_type": "code",
   "execution_count": 87,
   "metadata": {},
   "outputs": [
    {
     "data": {
      "text/plain": [
       "(2689,)"
      ]
     },
     "execution_count": 87,
     "metadata": {},
     "output_type": "execute_result"
    }
   ],
   "source": [
    "X_test2.shape"
   ]
  },
  {
   "cell_type": "code",
   "execution_count": 82,
   "metadata": {},
   "outputs": [
    {
     "data": {
      "text/plain": [
       "(5120, 768)"
      ]
     },
     "execution_count": 82,
     "metadata": {},
     "output_type": "execute_result"
    }
   ],
   "source": [
    "np.array([[0 for i in range(768)] for j in range(20*256)]).shape"
   ]
  },
  {
   "cell_type": "code",
   "execution_count": 67,
   "metadata": {},
   "outputs": [],
   "source": [
    "aug_num = 3\n",
    "BS = 10\n",
    "#steps_per_epoch\n",
    "SPE = (len(y_train2)*aug_num)/((1+aug_num)*BS)\n",
    "\n",
    "def data_generator(X_train2, y_train2, BS = 6, aug_num = 4):\n",
    "    N = len(y_train2)\n",
    "    X_yield = []\n",
    "    y_yield = []\n",
    "    pad = [[0 for i in range(768)] for j in range(20*256)]\n",
    "    #pad = np.zeros(20*256*768).reshape(20*256, 768)\n",
    "    rand_LIST = np.array([i for i in range(20*256)])\n",
    "    \n",
    "    while True:\n",
    "\n",
    "        for i in range(N):\n",
    "            x = X_train2[i]\n",
    "            y = y_train2[i]\n",
    "            non_zero_x = sum(x[:,0]!=0)\n",
    "\n",
    "            x_list = [x]\n",
    "            for aug in range(aug_num):\n",
    "                \n",
    "                rand_NEW = rand_LIST[:non_zero_x]\n",
    "                random.shuffle(rand_NEW)\n",
    "                rand_NEW = np.append(rand_NEW,[n for n in range(non_zero_x, 20*256)], axis=0).astype('int')\n",
    "                #print(rand_NEW)\n",
    "                x_list.append([x[n] for n in rand_NEW.tolist()])\n",
    "\n",
    "            y_list = [y for n in range(len(x_list))]\n",
    "            \n",
    "            if (i+1)%(BS+1) == 0:\n",
    "                yield (np.array(X_yield), np.array(Y_yield))\n",
    "            elif i%(BS+1) == 0:\n",
    "                X_yield = x_list\n",
    "                Y_yield = y_list\n",
    "            else:\n",
    "                X_yield = np.append(X_yield, x_list, axis=0).astype('float16')\n",
    "                Y_yield = np.append(Y_yield, y_list, axis=0).astype('int') \n",
    "            "
   ]
  },
  {
   "cell_type": "code",
   "execution_count": null,
   "metadata": {},
   "outputs": [],
   "source": [
    "x, y = data_generator(X_train2[:6], y_train2[:6], BS = 6, aug_num = 4)"
   ]
  },
  {
   "cell_type": "code",
   "execution_count": 30,
   "metadata": {},
   "outputs": [
    {
     "data": {
      "text/plain": [
       "3584"
      ]
     },
     "execution_count": 30,
     "metadata": {},
     "output_type": "execute_result"
    }
   ],
   "source": [
    "sum(embeddings_concat[0][:,0]!=0)"
   ]
  },
  {
   "cell_type": "code",
   "execution_count": 68,
   "metadata": {},
   "outputs": [],
   "source": [
    "model2 = None\n",
    "del(model2)"
   ]
  },
  {
   "cell_type": "code",
   "execution_count": 69,
   "metadata": {},
   "outputs": [],
   "source": [
    "pool_size = 4\n",
    "filter_size = 8\n",
    "num_filters = 16\n",
    "deep_inputs = Input(shape=(20*256,768))\n",
    "Conv1 = Conv1D(num_filters, filter_size)(deep_inputs)\n",
    "Pool1 = AveragePooling1D(pool_size=pool_size)(Conv1)\n",
    "flat = Flatten()(Pool1)\n",
    "drop1 = Dropout(0.3)(flat)\n",
    "dense_layer_2 = Dense(128, activation='relu')(drop1)\n",
    "drop2 = Dropout(0.3)(dense_layer_2)\n",
    "dense_layer_3 = Dense(64, activation='relu')(drop2)\n",
    "dense_layer_4 = Dense(16, activation='sigmoid')(dense_layer_3)\n",
    "model2 = Model(inputs=deep_inputs, outputs=dense_layer_4)\n",
    "opt = keras.optimizers.Adam(lr=0.0001)\n",
    "model2.compile(loss='binary_crossentropy', optimizer=opt, metrics=[get_f1])"
   ]
  },
  {
   "cell_type": "code",
   "execution_count": null,
   "metadata": {},
   "outputs": [
    {
     "name": "stdout",
     "output_type": "stream",
     "text": [
      "Epoch 1/5\n",
      "807/806 [==============================] - 2116s 3s/step - loss: 0.5555 - get_f1: 0.5951\n",
      "Epoch 2/5\n",
      "419/806 [==============>...............] - ETA: 16:49 - loss: 0.5115 - get_f1: 0.6503"
     ]
    }
   ],
   "source": [
    "history2 = model2.fit(data_generator(X_train2, y_train2, BS, aug_num), steps_per_epoch = SPE, epochs=5, verbose=1)"
   ]
  },
  {
   "cell_type": "code",
   "execution_count": null,
   "metadata": {},
   "outputs": [],
   "source": [
    "score = model2.evaluate(X_test2, y_test2, verbose=1)\n",
    "\n",
    "print(\"Test Score:\", score[0])\n",
    "print(\"Test F1:\", score[1])"
   ]
  },
  {
   "cell_type": "code",
   "execution_count": null,
   "metadata": {},
   "outputs": [],
   "source": [
    "model_json = model2.to_json()\n",
    "\n",
    "with open(\"model_num_cnn2.json\", \"w\") as json_file:\n",
    "    json_file.write(model_json)\n",
    "\n",
    "# serialize weights to HDF5\n",
    "model2.save_weights(\"model_num_cnn2.h5\")"
   ]
  },
  {
   "cell_type": "code",
   "execution_count": 73,
   "metadata": {},
   "outputs": [
    {
     "data": {
      "text/plain": [
       "[0.4670162661317646, 0.7203916907310486]"
      ]
     },
     "execution_count": 73,
     "metadata": {},
     "output_type": "execute_result"
    }
   ],
   "source": [
    "score"
   ]
  },
  {
   "cell_type": "code",
   "execution_count": 75,
   "metadata": {},
   "outputs": [
    {
     "data": {
      "text/plain": [
       "{'loss': [0.5554845749297845,\n",
       "  0.5059249111563152,\n",
       "  0.4873282749856715,\n",
       "  0.4745975701413042,\n",
       "  0.46655771638528715],\n",
       " 'get_f1': [0.59505767, 0.65894014, 0.6815842, 0.69281137, 0.7003555]}"
      ]
     },
     "execution_count": 75,
     "metadata": {},
     "output_type": "execute_result"
    }
   ],
   "source": [
    "history2.history"
   ]
  },
  {
   "cell_type": "code",
   "execution_count": 99,
   "metadata": {},
   "outputs": [],
   "source": [
    "pool_size = 2\n",
    "filter_size = 128\n",
    "num_filters = 16\n",
    "deep_inputs = Input(shape=(20*256,768))\n",
    "Conv1 = Conv1D(num_filters, filter_size, strides=20)(deep_inputs)\n",
    "Pool1 = AveragePooling1D(pool_size=pool_size)(Conv1)\n",
    "pool_size = 2\n",
    "filter_size = 32\n",
    "num_filters = 8\n",
    "#Conv2 = Conv1D(num_filters, filter_size, strides=1)(Pool1)\n",
    "#Pool2 = AveragePooling1D(pool_size=pool_size)(Conv2)\n",
    "flat = Flatten()(Pool1)\n",
    "drop1 = Dropout(0.3)(flat)\n",
    "dense_layer_2 = Dense(64, activation='relu')(drop1)\n",
    "drop2 = Dropout(0.3)(dense_layer_2)\n",
    "dense_layer_3 = Dense(32, activation='relu')(drop2)\n",
    "dense_layer_4 = Dense(16, activation='sigmoid')(dense_layer_3)\n",
    "model3 = Model(inputs=deep_inputs, outputs=dense_layer_4)\n",
    "opt = keras.optimizers.Adam(lr=0.001)\n",
    "model3.compile(loss=f1_loss, optimizer=opt, metrics=[get_f1])"
   ]
  },
  {
   "cell_type": "code",
   "execution_count": 100,
   "metadata": {},
   "outputs": [
    {
     "name": "stdout",
     "output_type": "stream",
     "text": [
      "Model: \"model_20\"\n",
      "_________________________________________________________________\n",
      "Layer (type)                 Output Shape              Param #   \n",
      "=================================================================\n",
      "input_41 (InputLayer)        (None, 5120, 768)         0         \n",
      "_________________________________________________________________\n",
      "conv1d_34 (Conv1D)           (None, 250, 16)           1572880   \n",
      "_________________________________________________________________\n",
      "average_pooling1d_34 (Averag (None, 125, 16)           0         \n",
      "_________________________________________________________________\n",
      "flatten_29 (Flatten)         (None, 2000)              0         \n",
      "_________________________________________________________________\n",
      "dropout_35 (Dropout)         (None, 2000)              0         \n",
      "_________________________________________________________________\n",
      "dense_40 (Dense)             (None, 64)                128064    \n",
      "_________________________________________________________________\n",
      "dropout_36 (Dropout)         (None, 64)                0         \n",
      "_________________________________________________________________\n",
      "dense_41 (Dense)             (None, 32)                2080      \n",
      "_________________________________________________________________\n",
      "dense_42 (Dense)             (None, 16)                528       \n",
      "=================================================================\n",
      "Total params: 1,703,552\n",
      "Trainable params: 1,703,552\n",
      "Non-trainable params: 0\n",
      "_________________________________________________________________\n"
     ]
    }
   ],
   "source": [
    "model3.summary()"
   ]
  },
  {
   "cell_type": "code",
   "execution_count": null,
   "metadata": {},
   "outputs": [],
   "source": [
    "history3 = model3.fit(X_train2, y_train2, epochs=5, batch_size=32, verbose=1, validation_split=0.1)"
   ]
  },
  {
   "cell_type": "code",
   "execution_count": null,
   "metadata": {},
   "outputs": [],
   "source": [
    "score = model3.evaluate(X_test2.reshape(2689*20,256,768), y_test2, verbose=1)\n",
    "\n",
    "print(\"Test Score:\", score[0])\n",
    "print(\"Test F1:\", score[1])"
   ]
  },
  {
   "cell_type": "code",
   "execution_count": 100,
   "metadata": {},
   "outputs": [],
   "source": [
    "# define the model\n",
    "def define_model():\n",
    "    # channel\n",
    "    def channel(inputs):\n",
    "        conv1 = Conv1D(filters=16, kernel_size=8, activation='relu')(inputs)\n",
    "        drop1 = Dropout(0.5)(conv1)\n",
    "        pool1 = MaxPooling1D(pool_size=4)(drop1)\n",
    "        return Flatten()(pool1)\n",
    "    #Input Channel\n",
    "    input1 = Input(shape=(256,768))\n",
    "    input2 = Input(shape=(256,768))\n",
    "    input3 = Input(shape=(256,768))\n",
    "    input4 = Input(shape=(256,768))\n",
    "    input5 = Input(shape=(256,768))\n",
    "    input6 = Input(shape=(256,768))\n",
    "    input7 = Input(shape=(256,768))\n",
    "    input8 = Input(shape=(256,768))\n",
    "    input9 = Input(shape=(256,768))\n",
    "    input10 = Input(shape=(256,768))\n",
    "    input11 = Input(shape=(256,768))\n",
    "    input12 = Input(shape=(256,768))\n",
    "    input13 = Input(shape=(256,768))\n",
    "    input14 = Input(shape=(256,768))\n",
    "    input15 = Input(shape=(256,768))\n",
    "    input16 = Input(shape=(256,768))\n",
    "    input17 = Input(shape=(256,768))\n",
    "    input18 = Input(shape=(256,768))\n",
    "    input19 = Input(shape=(256,768))\n",
    "    input20 = Input(shape=(256,768))\n",
    "    \n",
    "    #flat layer\n",
    "    flat1 = channel(input1)\n",
    "    flat2 = channel(input2)\n",
    "    flat3 = channel(input3)\n",
    "    flat4 = channel(input4)\n",
    "    flat5 = channel(input5)\n",
    "    flat6 = channel(input6)\n",
    "    flat7 = channel(input7)\n",
    "    flat8 = channel(input8)\n",
    "    flat9 = channel(input9)\n",
    "    flat10 = channel(input10)\n",
    "    flat11 = channel(input11)\n",
    "    flat12 = channel(input12)\n",
    "    flat13 = channel(input13)\n",
    "    flat14 = channel(input14)\n",
    "    flat15 = channel(input15)\n",
    "    flat16 = channel(input16)\n",
    "    flat17 = channel(input17)\n",
    "    flat18 = channel(input18)\n",
    "    flat19 = channel(input19)\n",
    "    flat20 = channel(input20)\n",
    "\n",
    "    merged = concatenate([flat1, flat2, flat3, flat4, flat5,\n",
    "                         flat6, flat7, flat8, flat9, flat10,\n",
    "                         flat11, flat12, flat13, flat14, flat15,\n",
    "                         flat16, flat17, flat18, flat19, flat20])\n",
    "    # interpretation\n",
    "    dense1 = Dense(128, activation='relu')(merged)\n",
    "    outputs = Dense(16, activation='sigmoid')(dense1)\n",
    "    \n",
    "    model = Model(inputs=[input1, input2, input3, input4, input5,\n",
    "                         input6, input7, input8, input9, input10,\n",
    "                         input11, input12, input13, input14, input15,\n",
    "                         input16, input17, input18, input19, input20], outputs=outputs)\n",
    "    # compile\n",
    "    opt = keras.optimizers.Adam(lr=0.001)\n",
    "    model.compile(loss='binary_crossentropy', optimizer=opt', metrics=[get_f1])\n",
    "    # summarize\n",
    "    print(model.summary())\n",
    "    #plot_model(model, show_shapes=True, to_file='multichannel.png')\n",
    "    return model"
   ]
  },
  {
   "cell_type": "code",
   "execution_count": 101,
   "metadata": {},
   "outputs": [
    {
     "name": "stdout",
     "output_type": "stream",
     "text": [
      "Model: \"model_10\"\n",
      "__________________________________________________________________________________________________\n",
      "Layer (type)                    Output Shape         Param #     Connected to                     \n",
      "==================================================================================================\n",
      "input_196 (InputLayer)          (None, 256, 768)     0                                            \n",
      "__________________________________________________________________________________________________\n",
      "input_197 (InputLayer)          (None, 256, 768)     0                                            \n",
      "__________________________________________________________________________________________________\n",
      "input_198 (InputLayer)          (None, 256, 768)     0                                            \n",
      "__________________________________________________________________________________________________\n",
      "input_199 (InputLayer)          (None, 256, 768)     0                                            \n",
      "__________________________________________________________________________________________________\n",
      "input_200 (InputLayer)          (None, 256, 768)     0                                            \n",
      "__________________________________________________________________________________________________\n",
      "input_201 (InputLayer)          (None, 256, 768)     0                                            \n",
      "__________________________________________________________________________________________________\n",
      "input_202 (InputLayer)          (None, 256, 768)     0                                            \n",
      "__________________________________________________________________________________________________\n",
      "input_203 (InputLayer)          (None, 256, 768)     0                                            \n",
      "__________________________________________________________________________________________________\n",
      "input_204 (InputLayer)          (None, 256, 768)     0                                            \n",
      "__________________________________________________________________________________________________\n",
      "input_205 (InputLayer)          (None, 256, 768)     0                                            \n",
      "__________________________________________________________________________________________________\n",
      "input_206 (InputLayer)          (None, 256, 768)     0                                            \n",
      "__________________________________________________________________________________________________\n",
      "input_207 (InputLayer)          (None, 256, 768)     0                                            \n",
      "__________________________________________________________________________________________________\n",
      "input_208 (InputLayer)          (None, 256, 768)     0                                            \n",
      "__________________________________________________________________________________________________\n",
      "input_209 (InputLayer)          (None, 256, 768)     0                                            \n",
      "__________________________________________________________________________________________________\n",
      "input_210 (InputLayer)          (None, 256, 768)     0                                            \n",
      "__________________________________________________________________________________________________\n",
      "input_211 (InputLayer)          (None, 256, 768)     0                                            \n",
      "__________________________________________________________________________________________________\n",
      "input_212 (InputLayer)          (None, 256, 768)     0                                            \n",
      "__________________________________________________________________________________________________\n",
      "input_213 (InputLayer)          (None, 256, 768)     0                                            \n",
      "__________________________________________________________________________________________________\n",
      "input_214 (InputLayer)          (None, 256, 768)     0                                            \n",
      "__________________________________________________________________________________________________\n",
      "input_215 (InputLayer)          (None, 256, 768)     0                                            \n",
      "__________________________________________________________________________________________________\n",
      "conv1d_141 (Conv1D)             (None, 249, 16)      98320       input_196[0][0]                  \n",
      "__________________________________________________________________________________________________\n",
      "conv1d_142 (Conv1D)             (None, 249, 16)      98320       input_197[0][0]                  \n",
      "__________________________________________________________________________________________________\n",
      "conv1d_143 (Conv1D)             (None, 249, 16)      98320       input_198[0][0]                  \n",
      "__________________________________________________________________________________________________\n",
      "conv1d_144 (Conv1D)             (None, 249, 16)      98320       input_199[0][0]                  \n",
      "__________________________________________________________________________________________________\n",
      "conv1d_145 (Conv1D)             (None, 249, 16)      98320       input_200[0][0]                  \n",
      "__________________________________________________________________________________________________\n",
      "conv1d_146 (Conv1D)             (None, 249, 16)      98320       input_201[0][0]                  \n",
      "__________________________________________________________________________________________________\n",
      "conv1d_147 (Conv1D)             (None, 249, 16)      98320       input_202[0][0]                  \n",
      "__________________________________________________________________________________________________\n",
      "conv1d_148 (Conv1D)             (None, 249, 16)      98320       input_203[0][0]                  \n",
      "__________________________________________________________________________________________________\n",
      "conv1d_149 (Conv1D)             (None, 249, 16)      98320       input_204[0][0]                  \n",
      "__________________________________________________________________________________________________\n",
      "conv1d_150 (Conv1D)             (None, 249, 16)      98320       input_205[0][0]                  \n",
      "__________________________________________________________________________________________________\n",
      "conv1d_151 (Conv1D)             (None, 249, 16)      98320       input_206[0][0]                  \n",
      "__________________________________________________________________________________________________\n",
      "conv1d_152 (Conv1D)             (None, 249, 16)      98320       input_207[0][0]                  \n",
      "__________________________________________________________________________________________________\n",
      "conv1d_153 (Conv1D)             (None, 249, 16)      98320       input_208[0][0]                  \n",
      "__________________________________________________________________________________________________\n",
      "conv1d_154 (Conv1D)             (None, 249, 16)      98320       input_209[0][0]                  \n",
      "__________________________________________________________________________________________________\n",
      "conv1d_155 (Conv1D)             (None, 249, 16)      98320       input_210[0][0]                  \n",
      "__________________________________________________________________________________________________\n",
      "conv1d_156 (Conv1D)             (None, 249, 16)      98320       input_211[0][0]                  \n",
      "__________________________________________________________________________________________________\n",
      "conv1d_157 (Conv1D)             (None, 249, 16)      98320       input_212[0][0]                  \n",
      "__________________________________________________________________________________________________\n",
      "conv1d_158 (Conv1D)             (None, 249, 16)      98320       input_213[0][0]                  \n",
      "__________________________________________________________________________________________________\n",
      "conv1d_159 (Conv1D)             (None, 249, 16)      98320       input_214[0][0]                  \n",
      "__________________________________________________________________________________________________\n",
      "conv1d_160 (Conv1D)             (None, 249, 16)      98320       input_215[0][0]                  \n",
      "__________________________________________________________________________________________________\n",
      "dropout_173 (Dropout)           (None, 249, 16)      0           conv1d_141[0][0]                 \n",
      "__________________________________________________________________________________________________\n",
      "dropout_174 (Dropout)           (None, 249, 16)      0           conv1d_142[0][0]                 \n",
      "__________________________________________________________________________________________________\n",
      "dropout_175 (Dropout)           (None, 249, 16)      0           conv1d_143[0][0]                 \n",
      "__________________________________________________________________________________________________\n",
      "dropout_176 (Dropout)           (None, 249, 16)      0           conv1d_144[0][0]                 \n",
      "__________________________________________________________________________________________________\n",
      "dropout_177 (Dropout)           (None, 249, 16)      0           conv1d_145[0][0]                 \n",
      "__________________________________________________________________________________________________\n",
      "dropout_178 (Dropout)           (None, 249, 16)      0           conv1d_146[0][0]                 \n",
      "__________________________________________________________________________________________________\n",
      "dropout_179 (Dropout)           (None, 249, 16)      0           conv1d_147[0][0]                 \n",
      "__________________________________________________________________________________________________\n",
      "dropout_180 (Dropout)           (None, 249, 16)      0           conv1d_148[0][0]                 \n",
      "__________________________________________________________________________________________________\n",
      "dropout_181 (Dropout)           (None, 249, 16)      0           conv1d_149[0][0]                 \n",
      "__________________________________________________________________________________________________\n",
      "dropout_182 (Dropout)           (None, 249, 16)      0           conv1d_150[0][0]                 \n",
      "__________________________________________________________________________________________________\n",
      "dropout_183 (Dropout)           (None, 249, 16)      0           conv1d_151[0][0]                 \n",
      "__________________________________________________________________________________________________\n",
      "dropout_184 (Dropout)           (None, 249, 16)      0           conv1d_152[0][0]                 \n",
      "__________________________________________________________________________________________________\n",
      "dropout_185 (Dropout)           (None, 249, 16)      0           conv1d_153[0][0]                 \n",
      "__________________________________________________________________________________________________\n",
      "dropout_186 (Dropout)           (None, 249, 16)      0           conv1d_154[0][0]                 \n",
      "__________________________________________________________________________________________________\n",
      "dropout_187 (Dropout)           (None, 249, 16)      0           conv1d_155[0][0]                 \n",
      "__________________________________________________________________________________________________\n",
      "dropout_188 (Dropout)           (None, 249, 16)      0           conv1d_156[0][0]                 \n",
      "__________________________________________________________________________________________________\n",
      "dropout_189 (Dropout)           (None, 249, 16)      0           conv1d_157[0][0]                 \n",
      "__________________________________________________________________________________________________\n",
      "dropout_190 (Dropout)           (None, 249, 16)      0           conv1d_158[0][0]                 \n",
      "__________________________________________________________________________________________________\n",
      "dropout_191 (Dropout)           (None, 249, 16)      0           conv1d_159[0][0]                 \n",
      "__________________________________________________________________________________________________\n",
      "dropout_192 (Dropout)           (None, 249, 16)      0           conv1d_160[0][0]                 \n",
      "__________________________________________________________________________________________________\n",
      "max_pooling1d_141 (MaxPooling1D (None, 62, 16)       0           dropout_173[0][0]                \n",
      "__________________________________________________________________________________________________\n",
      "max_pooling1d_142 (MaxPooling1D (None, 62, 16)       0           dropout_174[0][0]                \n",
      "__________________________________________________________________________________________________\n",
      "max_pooling1d_143 (MaxPooling1D (None, 62, 16)       0           dropout_175[0][0]                \n",
      "__________________________________________________________________________________________________\n",
      "max_pooling1d_144 (MaxPooling1D (None, 62, 16)       0           dropout_176[0][0]                \n",
      "__________________________________________________________________________________________________\n",
      "max_pooling1d_145 (MaxPooling1D (None, 62, 16)       0           dropout_177[0][0]                \n",
      "__________________________________________________________________________________________________\n",
      "max_pooling1d_146 (MaxPooling1D (None, 62, 16)       0           dropout_178[0][0]                \n",
      "__________________________________________________________________________________________________\n",
      "max_pooling1d_147 (MaxPooling1D (None, 62, 16)       0           dropout_179[0][0]                \n",
      "__________________________________________________________________________________________________\n",
      "max_pooling1d_148 (MaxPooling1D (None, 62, 16)       0           dropout_180[0][0]                \n",
      "__________________________________________________________________________________________________\n",
      "max_pooling1d_149 (MaxPooling1D (None, 62, 16)       0           dropout_181[0][0]                \n",
      "__________________________________________________________________________________________________\n",
      "max_pooling1d_150 (MaxPooling1D (None, 62, 16)       0           dropout_182[0][0]                \n",
      "__________________________________________________________________________________________________\n",
      "max_pooling1d_151 (MaxPooling1D (None, 62, 16)       0           dropout_183[0][0]                \n",
      "__________________________________________________________________________________________________\n",
      "max_pooling1d_152 (MaxPooling1D (None, 62, 16)       0           dropout_184[0][0]                \n",
      "__________________________________________________________________________________________________\n",
      "max_pooling1d_153 (MaxPooling1D (None, 62, 16)       0           dropout_185[0][0]                \n",
      "__________________________________________________________________________________________________\n",
      "max_pooling1d_154 (MaxPooling1D (None, 62, 16)       0           dropout_186[0][0]                \n",
      "__________________________________________________________________________________________________\n",
      "max_pooling1d_155 (MaxPooling1D (None, 62, 16)       0           dropout_187[0][0]                \n",
      "__________________________________________________________________________________________________\n",
      "max_pooling1d_156 (MaxPooling1D (None, 62, 16)       0           dropout_188[0][0]                \n",
      "__________________________________________________________________________________________________\n",
      "max_pooling1d_157 (MaxPooling1D (None, 62, 16)       0           dropout_189[0][0]                \n",
      "__________________________________________________________________________________________________\n",
      "max_pooling1d_158 (MaxPooling1D (None, 62, 16)       0           dropout_190[0][0]                \n",
      "__________________________________________________________________________________________________\n",
      "max_pooling1d_159 (MaxPooling1D (None, 62, 16)       0           dropout_191[0][0]                \n",
      "__________________________________________________________________________________________________\n",
      "max_pooling1d_160 (MaxPooling1D (None, 62, 16)       0           dropout_192[0][0]                \n",
      "__________________________________________________________________________________________________\n",
      "flatten_172 (Flatten)           (None, 992)          0           max_pooling1d_141[0][0]          \n",
      "__________________________________________________________________________________________________\n",
      "flatten_173 (Flatten)           (None, 992)          0           max_pooling1d_142[0][0]          \n",
      "__________________________________________________________________________________________________\n",
      "flatten_174 (Flatten)           (None, 992)          0           max_pooling1d_143[0][0]          \n",
      "__________________________________________________________________________________________________\n",
      "flatten_175 (Flatten)           (None, 992)          0           max_pooling1d_144[0][0]          \n",
      "__________________________________________________________________________________________________\n",
      "flatten_176 (Flatten)           (None, 992)          0           max_pooling1d_145[0][0]          \n",
      "__________________________________________________________________________________________________\n",
      "flatten_177 (Flatten)           (None, 992)          0           max_pooling1d_146[0][0]          \n",
      "__________________________________________________________________________________________________\n",
      "flatten_178 (Flatten)           (None, 992)          0           max_pooling1d_147[0][0]          \n",
      "__________________________________________________________________________________________________\n",
      "flatten_179 (Flatten)           (None, 992)          0           max_pooling1d_148[0][0]          \n",
      "__________________________________________________________________________________________________\n",
      "flatten_180 (Flatten)           (None, 992)          0           max_pooling1d_149[0][0]          \n",
      "__________________________________________________________________________________________________\n",
      "flatten_181 (Flatten)           (None, 992)          0           max_pooling1d_150[0][0]          \n",
      "__________________________________________________________________________________________________\n",
      "flatten_182 (Flatten)           (None, 992)          0           max_pooling1d_151[0][0]          \n",
      "__________________________________________________________________________________________________\n",
      "flatten_183 (Flatten)           (None, 992)          0           max_pooling1d_152[0][0]          \n",
      "__________________________________________________________________________________________________\n",
      "flatten_184 (Flatten)           (None, 992)          0           max_pooling1d_153[0][0]          \n",
      "__________________________________________________________________________________________________\n",
      "flatten_185 (Flatten)           (None, 992)          0           max_pooling1d_154[0][0]          \n",
      "__________________________________________________________________________________________________\n",
      "flatten_186 (Flatten)           (None, 992)          0           max_pooling1d_155[0][0]          \n",
      "__________________________________________________________________________________________________\n",
      "flatten_187 (Flatten)           (None, 992)          0           max_pooling1d_156[0][0]          \n",
      "__________________________________________________________________________________________________\n",
      "flatten_188 (Flatten)           (None, 992)          0           max_pooling1d_157[0][0]          \n",
      "__________________________________________________________________________________________________\n",
      "flatten_189 (Flatten)           (None, 992)          0           max_pooling1d_158[0][0]          \n",
      "__________________________________________________________________________________________________\n",
      "flatten_190 (Flatten)           (None, 992)          0           max_pooling1d_159[0][0]          \n",
      "__________________________________________________________________________________________________\n",
      "flatten_191 (Flatten)           (None, 992)          0           max_pooling1d_160[0][0]          \n",
      "__________________________________________________________________________________________________\n",
      "concatenate_13 (Concatenate)    (None, 19840)        0           flatten_172[0][0]                \n",
      "                                                                 flatten_173[0][0]                \n",
      "                                                                 flatten_174[0][0]                \n",
      "                                                                 flatten_175[0][0]                \n",
      "                                                                 flatten_176[0][0]                \n",
      "                                                                 flatten_177[0][0]                \n",
      "                                                                 flatten_178[0][0]                \n",
      "                                                                 flatten_179[0][0]                \n",
      "                                                                 flatten_180[0][0]                \n",
      "                                                                 flatten_181[0][0]                \n",
      "                                                                 flatten_182[0][0]                \n",
      "                                                                 flatten_183[0][0]                \n",
      "                                                                 flatten_184[0][0]                \n",
      "                                                                 flatten_185[0][0]                \n",
      "                                                                 flatten_186[0][0]                \n",
      "                                                                 flatten_187[0][0]                \n",
      "                                                                 flatten_188[0][0]                \n",
      "                                                                 flatten_189[0][0]                \n",
      "                                                                 flatten_190[0][0]                \n",
      "                                                                 flatten_191[0][0]                \n",
      "__________________________________________________________________________________________________\n",
      "dense_23 (Dense)                (None, 128)          2539648     concatenate_13[0][0]             \n",
      "__________________________________________________________________________________________________\n",
      "dense_24 (Dense)                (None, 16)           2064        dense_23[0][0]                   \n",
      "==================================================================================================\n",
      "Total params: 4,508,112\n",
      "Trainable params: 4,508,112\n",
      "Non-trainable params: 0\n",
      "__________________________________________________________________________________________________\n",
      "None\n"
     ]
    }
   ],
   "source": [
    "model3 = define_model()"
   ]
  },
  {
   "cell_type": "code",
   "execution_count": 106,
   "metadata": {},
   "outputs": [
    {
     "name": "stdout",
     "output_type": "stream",
     "text": [
      "['X_train2[:,0].shape', 'X_train2[:,1].shape', 'X_train2[:,2].shape', 'X_train2[:,3].shape', 'X_train2[:,4].shape', 'X_train2[:,5].shape', 'X_train2[:,6].shape', 'X_train2[:,7].shape', 'X_train2[:,8].shape', 'X_train2[:,9].shape', 'X_train2[:,10].shape', 'X_train2[:,11].shape', 'X_train2[:,12].shape', 'X_train2[:,13].shape', 'X_train2[:,14].shape', 'X_train2[:,15].shape', 'X_train2[:,16].shape', 'X_train2[:,17].shape', 'X_train2[:,18].shape', 'X_train2[:,19].shape']\n"
     ]
    }
   ],
   "source": [
    "print(['X_train2[:,'+str(i)+'].shape' for i in range(20)])"
   ]
  },
  {
   "cell_type": "code",
   "execution_count": 108,
   "metadata": {},
   "outputs": [
    {
     "name": "stdout",
     "output_type": "stream",
     "text": [
      "Train on 9676 samples, validate on 1076 samples\n",
      "Epoch 1/3\n",
      "9676/9676 [==============================] - 514s 53ms/step - loss: 0.5495 - get_f1: 0.6114 - val_loss: 0.5290 - val_get_f1: 0.6529\n",
      "Epoch 2/3\n",
      "9676/9676 [==============================] - 513s 53ms/step - loss: 0.5062 - get_f1: 0.6623 - val_loss: 0.5173 - val_get_f1: 0.6737\n",
      "Epoch 3/3\n",
      "9676/9676 [==============================] - 513s 53ms/step - loss: 0.4833 - get_f1: 0.6870 - val_loss: 0.5087 - val_get_f1: 0.6365\n"
     ]
    }
   ],
   "source": [
    "history3 = model3.fit([X_train2[:,0], X_train2[:,1], X_train2[:,2], X_train2[:,3], X_train2[:,4], X_train2[:,5], X_train2[:,6], X_train2[:,7], \n",
    "                       X_train2[:,8], X_train2[:,9], X_train2[:,10], X_train2[:,11], X_train2[:,12], X_train2[:,13], X_train2[:,14], X_train2[:,15], \n",
    "                       X_train2[:,16], X_train2[:,17], X_train2[:,18], X_train2[:,19]], \n",
    "                      y_train2, epochs=3, batch_size=32, verbose=1, validation_split=0.1)"
   ]
  },
  {
   "cell_type": "code",
   "execution_count": 109,
   "metadata": {},
   "outputs": [
    {
     "name": "stdout",
     "output_type": "stream",
     "text": [
      "2689/2689 [==============================] - 100s 37ms/step\n",
      "Test Score: 0.508201044237095\n",
      "Test F1: 0.6530631184577942\n"
     ]
    }
   ],
   "source": [
    "score = model3.evaluate([X_test2[:,0], X_test2[:,1], X_test2[:,2], X_test2[:,3], X_test2[:,4], X_test2[:,5], X_test2[:,6], X_test2[:,7], X_test2[:,8], \n",
    "                         X_test2[:,9], X_test2[:,10], X_test2[:,11], X_test2[:,12], X_test2[:,13], X_test2[:,14], X_test2[:,15], X_test2[:,16], \n",
    "                         X_test2[:,17], X_test2[:,18], X_test2[:,19]], y_test2, verbose=1)\n",
    "\n",
    "print(\"Test Score:\", score[0])\n",
    "print(\"Test F1:\", score[1])"
   ]
  },
  {
   "cell_type": "code",
   "execution_count": 112,
   "metadata": {},
   "outputs": [],
   "source": [
    "model_json = model3.to_json()\n",
    "\n",
    "with open(\"model_multichannel1.json\", \"w\") as json_file:\n",
    "    json_file.write(model_json)\n",
    "\n",
    "# serialize weights to HDF5\n",
    "model3.save_weights(\"model_multichannel1.h5\")"
   ]
  },
  {
   "cell_type": "code",
   "execution_count": 34,
   "metadata": {},
   "outputs": [],
   "source": [
    "# define the model\n",
    "def define_model2():\n",
    "    # channel\n",
    "    def channel(inputs):\n",
    "        conv1 = Conv1D(filters=16, kernel_size=8, activation='relu')(inputs)\n",
    "        drop1 = Dropout(0.5)(conv1)\n",
    "        pool1 = MaxPooling1D(pool_size=4)(drop1)\n",
    "        return Flatten()(pool1)\n",
    "    #Input Channel\n",
    "    input1 = Input(shape=(256,768))\n",
    "    input2 = Input(shape=(256,768))\n",
    "    input3 = Input(shape=(256,768))\n",
    "    input4 = Input(shape=(256,768))\n",
    "    input5 = Input(shape=(256,768))\n",
    "    input6 = Input(shape=(256,768))\n",
    "    input7 = Input(shape=(256,768))\n",
    "    input8 = Input(shape=(256,768))\n",
    "    input9 = Input(shape=(256,768))\n",
    "    input10 = Input(shape=(256,768))\n",
    "    input11 = Input(shape=(256,768))\n",
    "    input12 = Input(shape=(256,768))\n",
    "    input13 = Input(shape=(256,768))\n",
    "    input14 = Input(shape=(256,768))\n",
    "    input15 = Input(shape=(256,768))\n",
    "    input16 = Input(shape=(256,768))\n",
    "    input17 = Input(shape=(256,768))\n",
    "    input18 = Input(shape=(256,768))\n",
    "    input19 = Input(shape=(256,768))\n",
    "    input20 = Input(shape=(256,768))\n",
    "    \n",
    "    #flat layer\n",
    "    flat1 = channel(input1)\n",
    "    flat2 = channel(input2)\n",
    "    flat3 = channel(input3)\n",
    "    flat4 = channel(input4)\n",
    "    flat5 = channel(input5)\n",
    "    flat6 = channel(input6)\n",
    "    flat7 = channel(input7)\n",
    "    flat8 = channel(input8)\n",
    "    flat9 = channel(input9)\n",
    "    flat10 = channel(input10)\n",
    "    flat11 = channel(input11)\n",
    "    flat12 = channel(input12)\n",
    "    flat13 = channel(input13)\n",
    "    flat14 = channel(input14)\n",
    "    flat15 = channel(input15)\n",
    "    flat16 = channel(input16)\n",
    "    flat17 = channel(input17)\n",
    "    flat18 = channel(input18)\n",
    "    flat19 = channel(input19)\n",
    "    flat20 = channel(input20)\n",
    "\n",
    "    merged = concatenate([flat1, flat2, flat3, flat4, flat5,\n",
    "                         flat6, flat7, flat8, flat9, flat10,\n",
    "                         flat11, flat12, flat13, flat14, flat15,\n",
    "                         flat16, flat17, flat18, flat19, flat20])\n",
    "    # interpretation\n",
    "    dense1 = Dense(512, activation='relu')(merged)\n",
    "    dense1 = Dense(128, activation='relu')(dense1)\n",
    "    outputs = Dense(16, activation='sigmoid')(dense1)\n",
    "    \n",
    "    model = Model(inputs=[input1, input2, input3, input4, input5,\n",
    "                         input6, input7, input8, input9, input10,\n",
    "                         input11, input12, input13, input14, input15,\n",
    "                         input16, input17, input18, input19, input20], outputs=outputs)\n",
    "    # compile\n",
    "    opt = keras.optimizers.Adam(lr=0.001)\n",
    "    model.compile(loss='binary_crossentropy', optimizer=opt, metrics=[get_f1])\n",
    "    # summarize\n",
    "    print(model.summary())\n",
    "    #plot_model(model, show_shapes=True, to_file='multichannel.png')\n",
    "    return model"
   ]
  },
  {
   "cell_type": "code",
   "execution_count": 37,
   "metadata": {},
   "outputs": [
    {
     "name": "stdout",
     "output_type": "stream",
     "text": [
      "Model: \"model_2\"\n",
      "__________________________________________________________________________________________________\n",
      "Layer (type)                    Output Shape         Param #     Connected to                     \n",
      "==================================================================================================\n",
      "input_21 (InputLayer)           (None, 256, 768)     0                                            \n",
      "__________________________________________________________________________________________________\n",
      "input_22 (InputLayer)           (None, 256, 768)     0                                            \n",
      "__________________________________________________________________________________________________\n",
      "input_23 (InputLayer)           (None, 256, 768)     0                                            \n",
      "__________________________________________________________________________________________________\n",
      "input_24 (InputLayer)           (None, 256, 768)     0                                            \n",
      "__________________________________________________________________________________________________\n",
      "input_25 (InputLayer)           (None, 256, 768)     0                                            \n",
      "__________________________________________________________________________________________________\n",
      "input_26 (InputLayer)           (None, 256, 768)     0                                            \n",
      "__________________________________________________________________________________________________\n",
      "input_27 (InputLayer)           (None, 256, 768)     0                                            \n",
      "__________________________________________________________________________________________________\n",
      "input_28 (InputLayer)           (None, 256, 768)     0                                            \n",
      "__________________________________________________________________________________________________\n",
      "input_29 (InputLayer)           (None, 256, 768)     0                                            \n",
      "__________________________________________________________________________________________________\n",
      "input_30 (InputLayer)           (None, 256, 768)     0                                            \n",
      "__________________________________________________________________________________________________\n",
      "input_31 (InputLayer)           (None, 256, 768)     0                                            \n",
      "__________________________________________________________________________________________________\n",
      "input_32 (InputLayer)           (None, 256, 768)     0                                            \n",
      "__________________________________________________________________________________________________\n",
      "input_33 (InputLayer)           (None, 256, 768)     0                                            \n",
      "__________________________________________________________________________________________________\n",
      "input_34 (InputLayer)           (None, 256, 768)     0                                            \n",
      "__________________________________________________________________________________________________\n",
      "input_35 (InputLayer)           (None, 256, 768)     0                                            \n",
      "__________________________________________________________________________________________________\n",
      "input_36 (InputLayer)           (None, 256, 768)     0                                            \n",
      "__________________________________________________________________________________________________\n",
      "input_37 (InputLayer)           (None, 256, 768)     0                                            \n",
      "__________________________________________________________________________________________________\n",
      "input_38 (InputLayer)           (None, 256, 768)     0                                            \n",
      "__________________________________________________________________________________________________\n",
      "input_39 (InputLayer)           (None, 256, 768)     0                                            \n",
      "__________________________________________________________________________________________________\n",
      "input_40 (InputLayer)           (None, 256, 768)     0                                            \n",
      "__________________________________________________________________________________________________\n",
      "conv1d_21 (Conv1D)              (None, 249, 16)      98320       input_21[0][0]                   \n",
      "__________________________________________________________________________________________________\n",
      "conv1d_22 (Conv1D)              (None, 249, 16)      98320       input_22[0][0]                   \n",
      "__________________________________________________________________________________________________\n",
      "conv1d_23 (Conv1D)              (None, 249, 16)      98320       input_23[0][0]                   \n",
      "__________________________________________________________________________________________________\n",
      "conv1d_24 (Conv1D)              (None, 249, 16)      98320       input_24[0][0]                   \n",
      "__________________________________________________________________________________________________\n",
      "conv1d_25 (Conv1D)              (None, 249, 16)      98320       input_25[0][0]                   \n",
      "__________________________________________________________________________________________________\n",
      "conv1d_26 (Conv1D)              (None, 249, 16)      98320       input_26[0][0]                   \n",
      "__________________________________________________________________________________________________\n",
      "conv1d_27 (Conv1D)              (None, 249, 16)      98320       input_27[0][0]                   \n",
      "__________________________________________________________________________________________________\n",
      "conv1d_28 (Conv1D)              (None, 249, 16)      98320       input_28[0][0]                   \n",
      "__________________________________________________________________________________________________\n",
      "conv1d_29 (Conv1D)              (None, 249, 16)      98320       input_29[0][0]                   \n",
      "__________________________________________________________________________________________________\n",
      "conv1d_30 (Conv1D)              (None, 249, 16)      98320       input_30[0][0]                   \n",
      "__________________________________________________________________________________________________\n",
      "conv1d_31 (Conv1D)              (None, 249, 16)      98320       input_31[0][0]                   \n",
      "__________________________________________________________________________________________________\n",
      "conv1d_32 (Conv1D)              (None, 249, 16)      98320       input_32[0][0]                   \n",
      "__________________________________________________________________________________________________\n",
      "conv1d_33 (Conv1D)              (None, 249, 16)      98320       input_33[0][0]                   \n",
      "__________________________________________________________________________________________________\n",
      "conv1d_34 (Conv1D)              (None, 249, 16)      98320       input_34[0][0]                   \n",
      "__________________________________________________________________________________________________\n",
      "conv1d_35 (Conv1D)              (None, 249, 16)      98320       input_35[0][0]                   \n",
      "__________________________________________________________________________________________________\n",
      "conv1d_36 (Conv1D)              (None, 249, 16)      98320       input_36[0][0]                   \n",
      "__________________________________________________________________________________________________\n",
      "conv1d_37 (Conv1D)              (None, 249, 16)      98320       input_37[0][0]                   \n",
      "__________________________________________________________________________________________________\n",
      "conv1d_38 (Conv1D)              (None, 249, 16)      98320       input_38[0][0]                   \n",
      "__________________________________________________________________________________________________\n",
      "conv1d_39 (Conv1D)              (None, 249, 16)      98320       input_39[0][0]                   \n",
      "__________________________________________________________________________________________________\n",
      "conv1d_40 (Conv1D)              (None, 249, 16)      98320       input_40[0][0]                   \n",
      "__________________________________________________________________________________________________\n",
      "dropout_21 (Dropout)            (None, 249, 16)      0           conv1d_21[0][0]                  \n",
      "__________________________________________________________________________________________________\n",
      "dropout_22 (Dropout)            (None, 249, 16)      0           conv1d_22[0][0]                  \n",
      "__________________________________________________________________________________________________\n",
      "dropout_23 (Dropout)            (None, 249, 16)      0           conv1d_23[0][0]                  \n",
      "__________________________________________________________________________________________________\n",
      "dropout_24 (Dropout)            (None, 249, 16)      0           conv1d_24[0][0]                  \n",
      "__________________________________________________________________________________________________\n",
      "dropout_25 (Dropout)            (None, 249, 16)      0           conv1d_25[0][0]                  \n",
      "__________________________________________________________________________________________________\n",
      "dropout_26 (Dropout)            (None, 249, 16)      0           conv1d_26[0][0]                  \n",
      "__________________________________________________________________________________________________\n",
      "dropout_27 (Dropout)            (None, 249, 16)      0           conv1d_27[0][0]                  \n",
      "__________________________________________________________________________________________________\n",
      "dropout_28 (Dropout)            (None, 249, 16)      0           conv1d_28[0][0]                  \n",
      "__________________________________________________________________________________________________\n",
      "dropout_29 (Dropout)            (None, 249, 16)      0           conv1d_29[0][0]                  \n",
      "__________________________________________________________________________________________________\n",
      "dropout_30 (Dropout)            (None, 249, 16)      0           conv1d_30[0][0]                  \n",
      "__________________________________________________________________________________________________\n",
      "dropout_31 (Dropout)            (None, 249, 16)      0           conv1d_31[0][0]                  \n",
      "__________________________________________________________________________________________________\n",
      "dropout_32 (Dropout)            (None, 249, 16)      0           conv1d_32[0][0]                  \n",
      "__________________________________________________________________________________________________\n",
      "dropout_33 (Dropout)            (None, 249, 16)      0           conv1d_33[0][0]                  \n",
      "__________________________________________________________________________________________________\n",
      "dropout_34 (Dropout)            (None, 249, 16)      0           conv1d_34[0][0]                  \n",
      "__________________________________________________________________________________________________\n",
      "dropout_35 (Dropout)            (None, 249, 16)      0           conv1d_35[0][0]                  \n",
      "__________________________________________________________________________________________________\n",
      "dropout_36 (Dropout)            (None, 249, 16)      0           conv1d_36[0][0]                  \n",
      "__________________________________________________________________________________________________\n",
      "dropout_37 (Dropout)            (None, 249, 16)      0           conv1d_37[0][0]                  \n",
      "__________________________________________________________________________________________________\n",
      "dropout_38 (Dropout)            (None, 249, 16)      0           conv1d_38[0][0]                  \n",
      "__________________________________________________________________________________________________\n",
      "dropout_39 (Dropout)            (None, 249, 16)      0           conv1d_39[0][0]                  \n",
      "__________________________________________________________________________________________________\n",
      "dropout_40 (Dropout)            (None, 249, 16)      0           conv1d_40[0][0]                  \n",
      "__________________________________________________________________________________________________\n",
      "max_pooling1d_21 (MaxPooling1D) (None, 62, 16)       0           dropout_21[0][0]                 \n",
      "__________________________________________________________________________________________________\n",
      "max_pooling1d_22 (MaxPooling1D) (None, 62, 16)       0           dropout_22[0][0]                 \n",
      "__________________________________________________________________________________________________\n",
      "max_pooling1d_23 (MaxPooling1D) (None, 62, 16)       0           dropout_23[0][0]                 \n",
      "__________________________________________________________________________________________________\n",
      "max_pooling1d_24 (MaxPooling1D) (None, 62, 16)       0           dropout_24[0][0]                 \n",
      "__________________________________________________________________________________________________\n",
      "max_pooling1d_25 (MaxPooling1D) (None, 62, 16)       0           dropout_25[0][0]                 \n",
      "__________________________________________________________________________________________________\n",
      "max_pooling1d_26 (MaxPooling1D) (None, 62, 16)       0           dropout_26[0][0]                 \n",
      "__________________________________________________________________________________________________\n",
      "max_pooling1d_27 (MaxPooling1D) (None, 62, 16)       0           dropout_27[0][0]                 \n",
      "__________________________________________________________________________________________________\n",
      "max_pooling1d_28 (MaxPooling1D) (None, 62, 16)       0           dropout_28[0][0]                 \n",
      "__________________________________________________________________________________________________\n",
      "max_pooling1d_29 (MaxPooling1D) (None, 62, 16)       0           dropout_29[0][0]                 \n",
      "__________________________________________________________________________________________________\n",
      "max_pooling1d_30 (MaxPooling1D) (None, 62, 16)       0           dropout_30[0][0]                 \n",
      "__________________________________________________________________________________________________\n",
      "max_pooling1d_31 (MaxPooling1D) (None, 62, 16)       0           dropout_31[0][0]                 \n",
      "__________________________________________________________________________________________________\n",
      "max_pooling1d_32 (MaxPooling1D) (None, 62, 16)       0           dropout_32[0][0]                 \n",
      "__________________________________________________________________________________________________\n",
      "max_pooling1d_33 (MaxPooling1D) (None, 62, 16)       0           dropout_33[0][0]                 \n",
      "__________________________________________________________________________________________________\n",
      "max_pooling1d_34 (MaxPooling1D) (None, 62, 16)       0           dropout_34[0][0]                 \n",
      "__________________________________________________________________________________________________\n",
      "max_pooling1d_35 (MaxPooling1D) (None, 62, 16)       0           dropout_35[0][0]                 \n",
      "__________________________________________________________________________________________________\n",
      "max_pooling1d_36 (MaxPooling1D) (None, 62, 16)       0           dropout_36[0][0]                 \n",
      "__________________________________________________________________________________________________\n",
      "max_pooling1d_37 (MaxPooling1D) (None, 62, 16)       0           dropout_37[0][0]                 \n",
      "__________________________________________________________________________________________________\n",
      "max_pooling1d_38 (MaxPooling1D) (None, 62, 16)       0           dropout_38[0][0]                 \n",
      "__________________________________________________________________________________________________\n",
      "max_pooling1d_39 (MaxPooling1D) (None, 62, 16)       0           dropout_39[0][0]                 \n",
      "__________________________________________________________________________________________________\n",
      "max_pooling1d_40 (MaxPooling1D) (None, 62, 16)       0           dropout_40[0][0]                 \n",
      "__________________________________________________________________________________________________\n",
      "flatten_21 (Flatten)            (None, 992)          0           max_pooling1d_21[0][0]           \n",
      "__________________________________________________________________________________________________\n",
      "flatten_22 (Flatten)            (None, 992)          0           max_pooling1d_22[0][0]           \n",
      "__________________________________________________________________________________________________\n",
      "flatten_23 (Flatten)            (None, 992)          0           max_pooling1d_23[0][0]           \n",
      "__________________________________________________________________________________________________\n",
      "flatten_24 (Flatten)            (None, 992)          0           max_pooling1d_24[0][0]           \n",
      "__________________________________________________________________________________________________\n",
      "flatten_25 (Flatten)            (None, 992)          0           max_pooling1d_25[0][0]           \n",
      "__________________________________________________________________________________________________\n",
      "flatten_26 (Flatten)            (None, 992)          0           max_pooling1d_26[0][0]           \n",
      "__________________________________________________________________________________________________\n",
      "flatten_27 (Flatten)            (None, 992)          0           max_pooling1d_27[0][0]           \n",
      "__________________________________________________________________________________________________\n",
      "flatten_28 (Flatten)            (None, 992)          0           max_pooling1d_28[0][0]           \n",
      "__________________________________________________________________________________________________\n",
      "flatten_29 (Flatten)            (None, 992)          0           max_pooling1d_29[0][0]           \n",
      "__________________________________________________________________________________________________\n",
      "flatten_30 (Flatten)            (None, 992)          0           max_pooling1d_30[0][0]           \n",
      "__________________________________________________________________________________________________\n",
      "flatten_31 (Flatten)            (None, 992)          0           max_pooling1d_31[0][0]           \n",
      "__________________________________________________________________________________________________\n",
      "flatten_32 (Flatten)            (None, 992)          0           max_pooling1d_32[0][0]           \n",
      "__________________________________________________________________________________________________\n",
      "flatten_33 (Flatten)            (None, 992)          0           max_pooling1d_33[0][0]           \n",
      "__________________________________________________________________________________________________\n",
      "flatten_34 (Flatten)            (None, 992)          0           max_pooling1d_34[0][0]           \n",
      "__________________________________________________________________________________________________\n",
      "flatten_35 (Flatten)            (None, 992)          0           max_pooling1d_35[0][0]           \n",
      "__________________________________________________________________________________________________\n",
      "flatten_36 (Flatten)            (None, 992)          0           max_pooling1d_36[0][0]           \n",
      "__________________________________________________________________________________________________\n",
      "flatten_37 (Flatten)            (None, 992)          0           max_pooling1d_37[0][0]           \n",
      "__________________________________________________________________________________________________\n",
      "flatten_38 (Flatten)            (None, 992)          0           max_pooling1d_38[0][0]           \n",
      "__________________________________________________________________________________________________\n",
      "flatten_39 (Flatten)            (None, 992)          0           max_pooling1d_39[0][0]           \n",
      "__________________________________________________________________________________________________\n",
      "flatten_40 (Flatten)            (None, 992)          0           max_pooling1d_40[0][0]           \n",
      "__________________________________________________________________________________________________\n",
      "concatenate_2 (Concatenate)     (None, 19840)        0           flatten_21[0][0]                 \n",
      "                                                                 flatten_22[0][0]                 \n",
      "                                                                 flatten_23[0][0]                 \n",
      "                                                                 flatten_24[0][0]                 \n",
      "                                                                 flatten_25[0][0]                 \n",
      "                                                                 flatten_26[0][0]                 \n",
      "                                                                 flatten_27[0][0]                 \n",
      "                                                                 flatten_28[0][0]                 \n",
      "                                                                 flatten_29[0][0]                 \n",
      "                                                                 flatten_30[0][0]                 \n",
      "                                                                 flatten_31[0][0]                 \n",
      "                                                                 flatten_32[0][0]                 \n",
      "                                                                 flatten_33[0][0]                 \n",
      "                                                                 flatten_34[0][0]                 \n",
      "                                                                 flatten_35[0][0]                 \n",
      "                                                                 flatten_36[0][0]                 \n",
      "                                                                 flatten_37[0][0]                 \n",
      "                                                                 flatten_38[0][0]                 \n",
      "                                                                 flatten_39[0][0]                 \n",
      "                                                                 flatten_40[0][0]                 \n",
      "__________________________________________________________________________________________________\n",
      "dense_4 (Dense)                 (None, 512)          10158592    concatenate_2[0][0]              \n",
      "__________________________________________________________________________________________________\n",
      "dense_5 (Dense)                 (None, 128)          65664       dense_4[0][0]                    \n",
      "__________________________________________________________________________________________________\n",
      "dense_6 (Dense)                 (None, 16)           2064        dense_5[0][0]                    \n",
      "==================================================================================================\n",
      "Total params: 12,192,720\n",
      "Trainable params: 12,192,720\n",
      "Non-trainable params: 0\n",
      "__________________________________________________________________________________________________\n",
      "None\n"
     ]
    }
   ],
   "source": [
    "model4 = define_model2()"
   ]
  },
  {
   "cell_type": "code",
   "execution_count": 117,
   "metadata": {},
   "outputs": [
    {
     "name": "stdout",
     "output_type": "stream",
     "text": [
      "Train on 9139 samples, validate on 1613 samples\n",
      "Epoch 1/4\n",
      "9139/9139 [==============================] - 432s 47ms/step - loss: 0.5558 - get_f1: 0.6016 - val_loss: 0.5295 - val_get_f1: 0.6041\n",
      "Epoch 2/4\n",
      "9139/9139 [==============================] - 431s 47ms/step - loss: 0.5127 - get_f1: 0.6488 - val_loss: 0.5188 - val_get_f1: 0.6391\n",
      "Epoch 3/4\n",
      "9139/9139 [==============================] - 432s 47ms/step - loss: 0.5004 - get_f1: 0.6652 - val_loss: 0.5200 - val_get_f1: 0.6746\n",
      "Epoch 4/4\n",
      "9139/9139 [==============================] - 434s 47ms/step - loss: 0.4856 - get_f1: 0.6836 - val_loss: 0.5099 - val_get_f1: 0.6711\n"
     ]
    }
   ],
   "source": [
    "history4 = model4.fit([X_train2[:,0], X_train2[:,1], X_train2[:,2], X_train2[:,3], X_train2[:,4], X_train2[:,5], X_train2[:,6], X_train2[:,7], \n",
    "                       X_train2[:,8], X_train2[:,9], X_train2[:,10], X_train2[:,11], X_train2[:,12], X_train2[:,13], X_train2[:,14], X_train2[:,15], \n",
    "                       X_train2[:,16], X_train2[:,17], X_train2[:,18], X_train2[:,19]], \n",
    "                      y_train2, epochs=4, batch_size=32, verbose=1, validation_split=0.15)"
   ]
  },
  {
   "cell_type": "code",
   "execution_count": 118,
   "metadata": {},
   "outputs": [
    {
     "name": "stdout",
     "output_type": "stream",
     "text": [
      "2689/2689 [==============================] - 100s 37ms/step\n",
      "Test Score: 0.5161558028190009\n",
      "Test F1: 0.676522433757782\n"
     ]
    }
   ],
   "source": [
    "score = model4.evaluate([X_test2[:,0], X_test2[:,1], X_test2[:,2], X_test2[:,3], X_test2[:,4], X_test2[:,5], X_test2[:,6], X_test2[:,7], X_test2[:,8], \n",
    "                         X_test2[:,9], X_test2[:,10], X_test2[:,11], X_test2[:,12], X_test2[:,13], X_test2[:,14], X_test2[:,15], X_test2[:,16], \n",
    "                         X_test2[:,17], X_test2[:,18], X_test2[:,19]], y_test2, verbose=1)\n",
    "\n",
    "print(\"Test Score:\", score[0])\n",
    "print(\"Test F1:\", score[1])"
   ]
  },
  {
   "cell_type": "code",
   "execution_count": null,
   "metadata": {},
   "outputs": [
    {
     "name": "stdout",
     "output_type": "stream",
     "text": [
      "Train on 9139 samples, validate on 1613 samples\n",
      "Epoch 1/4\n",
      "9139/9139 [==============================] - 515s 56ms/step - loss: 0.5488 - get_f1: 0.6030 - val_loss: 0.5394 - val_get_f1: 0.6091\n",
      "Epoch 2/4\n",
      "9139/9139 [==============================] - 512s 56ms/step - loss: 0.5314 - get_f1: 0.6155 - val_loss: 0.5374 - val_get_f1: 0.6019\n",
      "Epoch 3/4\n",
      "1824/9139 [====>.........................] - ETA: 6:04 - loss: 0.5135 - get_f1: 0.6336"
     ]
    }
   ],
   "source": [
    "history4 = model4.fit([X_train2[:,19-i] for i in range(20)], \n",
    "                      y_train2, epochs=4, batch_size=32, verbose=1, validation_split=0.15)"
   ]
  },
  {
   "cell_type": "code",
   "execution_count": 126,
   "metadata": {},
   "outputs": [
    {
     "data": {
      "text/plain": [
       "{'val_loss': [0.5393717672909112,\n",
       "  0.5373929816414241,\n",
       "  0.5392910511280835,\n",
       "  0.5341873778294719],\n",
       " 'val_get_f1': [0.6091227531433105,\n",
       "  0.6019048690795898,\n",
       "  0.6019054651260376,\n",
       "  0.6046615242958069],\n",
       " 'loss': [0.5487791633714222,\n",
       "  0.5313684105260039,\n",
       "  0.521833579406421,\n",
       "  0.5099424986756335],\n",
       " 'get_f1': [0.6029823, 0.6155106, 0.6280121, 0.6425677]}"
      ]
     },
     "execution_count": 126,
     "metadata": {},
     "output_type": "execute_result"
    }
   ],
   "source": [
    "history4.history"
   ]
  },
  {
   "cell_type": "code",
   "execution_count": 127,
   "metadata": {},
   "outputs": [
    {
     "name": "stdout",
     "output_type": "stream",
     "text": [
      "2689/2689 [==============================] - 81s 30ms/step\n",
      "Test Score: 0.5558409102125299\n",
      "Test F1: 0.6344249248504639\n"
     ]
    }
   ],
   "source": [
    "score = model4.evaluate([X_test2[:,0], X_test2[:,1], X_test2[:,2], X_test2[:,3], X_test2[:,4], X_test2[:,5], X_test2[:,6], X_test2[:,7], X_test2[:,8], \n",
    "                         X_test2[:,9], X_test2[:,10], X_test2[:,11], X_test2[:,12], X_test2[:,13], X_test2[:,14], X_test2[:,15], X_test2[:,16], \n",
    "                         X_test2[:,17], X_test2[:,18], X_test2[:,19]], y_test2, verbose=1)\n",
    "\n",
    "print(\"Test Score:\", score[0])\n",
    "print(\"Test F1:\", score[1])"
   ]
  },
  {
   "cell_type": "code",
   "execution_count": null,
   "metadata": {},
   "outputs": [],
   "source": []
  },
  {
   "cell_type": "code",
   "execution_count": 38,
   "metadata": {},
   "outputs": [],
   "source": [
    "# define the model\n",
    "def define_model3():\n",
    "    # channel\n",
    "    def channel(inputs):\n",
    "        conv1 = Conv1D(filters=16, kernel_size=8, activation='relu')(inputs)\n",
    "        drop1 = Dropout(0.5)(conv1)\n",
    "        pool1 = AveragePooling1D(pool_size=4)(drop1)\n",
    "        return Flatten()(pool1)\n",
    "    #Input Channel\n",
    "    input1 = Input(shape=(256,768))\n",
    "    input2 = Input(shape=(256,768))\n",
    "    input3 = Input(shape=(256,768))\n",
    "    input4 = Input(shape=(256,768))\n",
    "    input5 = Input(shape=(256,768))\n",
    "    input6 = Input(shape=(256,768))\n",
    "    input7 = Input(shape=(256,768))\n",
    "    input8 = Input(shape=(256,768))\n",
    "    input9 = Input(shape=(256,768))\n",
    "    input10 = Input(shape=(256,768))\n",
    "    input11 = Input(shape=(256,768))\n",
    "    input12 = Input(shape=(256,768))\n",
    "    input13 = Input(shape=(256,768))\n",
    "    input14 = Input(shape=(256,768))\n",
    "    input15 = Input(shape=(256,768))\n",
    "    input16 = Input(shape=(256,768))\n",
    "    input17 = Input(shape=(256,768))\n",
    "    input18 = Input(shape=(256,768))\n",
    "    input19 = Input(shape=(256,768))\n",
    "    input20 = Input(shape=(256,768))\n",
    "    \n",
    "    #flat layer\n",
    "    flat1 = channel(input1)\n",
    "    flat2 = channel(input2)\n",
    "    flat3 = channel(input3)\n",
    "    flat4 = channel(input4)\n",
    "    flat5 = channel(input5)\n",
    "    flat6 = channel(input6)\n",
    "    flat7 = channel(input7)\n",
    "    flat8 = channel(input8)\n",
    "    flat9 = channel(input9)\n",
    "    flat10 = channel(input10)\n",
    "    flat11 = channel(input11)\n",
    "    flat12 = channel(input12)\n",
    "    flat13 = channel(input13)\n",
    "    flat14 = channel(input14)\n",
    "    flat15 = channel(input15)\n",
    "    flat16 = channel(input16)\n",
    "    flat17 = channel(input17)\n",
    "    flat18 = channel(input18)\n",
    "    flat19 = channel(input19)\n",
    "    flat20 = channel(input20)\n",
    "\n",
    "    merged = concatenate([flat1, flat2, flat3, flat4, flat5,\n",
    "                         flat6, flat7, flat8, flat9, flat10,\n",
    "                         flat11, flat12, flat13, flat14, flat15,\n",
    "                         flat16, flat17, flat18, flat19, flat20])\n",
    "    # interpretation\n",
    "    dense1 = Dense(128, activation='relu')(merged)\n",
    "    outputs = Dense(16, activation='sigmoid')(dense1)\n",
    "    \n",
    "    model = Model(inputs=[input1, input2, input3, input4, input5,\n",
    "                         input6, input7, input8, input9, input10,\n",
    "                         input11, input12, input13, input14, input15,\n",
    "                         input16, input17, input18, input19, input20], outputs=outputs)\n",
    "    # compile\n",
    "    opt = keras.optimizers.Adam(lr=0.001)\n",
    "    model.compile(loss='binary_crossentropy', optimizer=opt, metrics=[get_f1])\n",
    "    # summarize\n",
    "    print(model.summary())\n",
    "    #plot_model(model, show_shapes=True, to_file='multichannel.png')\n",
    "    return model"
   ]
  },
  {
   "cell_type": "code",
   "execution_count": 43,
   "metadata": {},
   "outputs": [
    {
     "name": "stdout",
     "output_type": "stream",
     "text": [
      "Model: \"model_2\"\n",
      "__________________________________________________________________________________________________\n",
      "Layer (type)                    Output Shape         Param #     Connected to                     \n",
      "==================================================================================================\n",
      "input_21 (InputLayer)           (None, 256, 768)     0                                            \n",
      "__________________________________________________________________________________________________\n",
      "input_22 (InputLayer)           (None, 256, 768)     0                                            \n",
      "__________________________________________________________________________________________________\n",
      "input_23 (InputLayer)           (None, 256, 768)     0                                            \n",
      "__________________________________________________________________________________________________\n",
      "input_24 (InputLayer)           (None, 256, 768)     0                                            \n",
      "__________________________________________________________________________________________________\n",
      "input_25 (InputLayer)           (None, 256, 768)     0                                            \n",
      "__________________________________________________________________________________________________\n",
      "input_26 (InputLayer)           (None, 256, 768)     0                                            \n",
      "__________________________________________________________________________________________________\n",
      "input_27 (InputLayer)           (None, 256, 768)     0                                            \n",
      "__________________________________________________________________________________________________\n",
      "input_28 (InputLayer)           (None, 256, 768)     0                                            \n",
      "__________________________________________________________________________________________________\n",
      "input_29 (InputLayer)           (None, 256, 768)     0                                            \n",
      "__________________________________________________________________________________________________\n",
      "input_30 (InputLayer)           (None, 256, 768)     0                                            \n",
      "__________________________________________________________________________________________________\n",
      "input_31 (InputLayer)           (None, 256, 768)     0                                            \n",
      "__________________________________________________________________________________________________\n",
      "input_32 (InputLayer)           (None, 256, 768)     0                                            \n",
      "__________________________________________________________________________________________________\n",
      "input_33 (InputLayer)           (None, 256, 768)     0                                            \n",
      "__________________________________________________________________________________________________\n",
      "input_34 (InputLayer)           (None, 256, 768)     0                                            \n",
      "__________________________________________________________________________________________________\n",
      "input_35 (InputLayer)           (None, 256, 768)     0                                            \n",
      "__________________________________________________________________________________________________\n",
      "input_36 (InputLayer)           (None, 256, 768)     0                                            \n",
      "__________________________________________________________________________________________________\n",
      "input_37 (InputLayer)           (None, 256, 768)     0                                            \n",
      "__________________________________________________________________________________________________\n",
      "input_38 (InputLayer)           (None, 256, 768)     0                                            \n",
      "__________________________________________________________________________________________________\n",
      "input_39 (InputLayer)           (None, 256, 768)     0                                            \n",
      "__________________________________________________________________________________________________\n",
      "input_40 (InputLayer)           (None, 256, 768)     0                                            \n",
      "__________________________________________________________________________________________________\n",
      "conv1d_21 (Conv1D)              (None, 249, 16)      98320       input_21[0][0]                   \n",
      "__________________________________________________________________________________________________\n",
      "conv1d_22 (Conv1D)              (None, 249, 16)      98320       input_22[0][0]                   \n",
      "__________________________________________________________________________________________________\n",
      "conv1d_23 (Conv1D)              (None, 249, 16)      98320       input_23[0][0]                   \n",
      "__________________________________________________________________________________________________\n",
      "conv1d_24 (Conv1D)              (None, 249, 16)      98320       input_24[0][0]                   \n",
      "__________________________________________________________________________________________________\n",
      "conv1d_25 (Conv1D)              (None, 249, 16)      98320       input_25[0][0]                   \n",
      "__________________________________________________________________________________________________\n",
      "conv1d_26 (Conv1D)              (None, 249, 16)      98320       input_26[0][0]                   \n",
      "__________________________________________________________________________________________________\n",
      "conv1d_27 (Conv1D)              (None, 249, 16)      98320       input_27[0][0]                   \n",
      "__________________________________________________________________________________________________\n",
      "conv1d_28 (Conv1D)              (None, 249, 16)      98320       input_28[0][0]                   \n",
      "__________________________________________________________________________________________________\n",
      "conv1d_29 (Conv1D)              (None, 249, 16)      98320       input_29[0][0]                   \n",
      "__________________________________________________________________________________________________\n",
      "conv1d_30 (Conv1D)              (None, 249, 16)      98320       input_30[0][0]                   \n",
      "__________________________________________________________________________________________________\n",
      "conv1d_31 (Conv1D)              (None, 249, 16)      98320       input_31[0][0]                   \n",
      "__________________________________________________________________________________________________\n",
      "conv1d_32 (Conv1D)              (None, 249, 16)      98320       input_32[0][0]                   \n",
      "__________________________________________________________________________________________________\n",
      "conv1d_33 (Conv1D)              (None, 249, 16)      98320       input_33[0][0]                   \n",
      "__________________________________________________________________________________________________\n",
      "conv1d_34 (Conv1D)              (None, 249, 16)      98320       input_34[0][0]                   \n",
      "__________________________________________________________________________________________________\n",
      "conv1d_35 (Conv1D)              (None, 249, 16)      98320       input_35[0][0]                   \n",
      "__________________________________________________________________________________________________\n",
      "conv1d_36 (Conv1D)              (None, 249, 16)      98320       input_36[0][0]                   \n",
      "__________________________________________________________________________________________________\n",
      "conv1d_37 (Conv1D)              (None, 249, 16)      98320       input_37[0][0]                   \n",
      "__________________________________________________________________________________________________\n",
      "conv1d_38 (Conv1D)              (None, 249, 16)      98320       input_38[0][0]                   \n",
      "__________________________________________________________________________________________________\n",
      "conv1d_39 (Conv1D)              (None, 249, 16)      98320       input_39[0][0]                   \n",
      "__________________________________________________________________________________________________\n",
      "conv1d_40 (Conv1D)              (None, 249, 16)      98320       input_40[0][0]                   \n",
      "__________________________________________________________________________________________________\n",
      "dropout_21 (Dropout)            (None, 249, 16)      0           conv1d_21[0][0]                  \n",
      "__________________________________________________________________________________________________\n",
      "dropout_22 (Dropout)            (None, 249, 16)      0           conv1d_22[0][0]                  \n",
      "__________________________________________________________________________________________________\n",
      "dropout_23 (Dropout)            (None, 249, 16)      0           conv1d_23[0][0]                  \n",
      "__________________________________________________________________________________________________\n",
      "dropout_24 (Dropout)            (None, 249, 16)      0           conv1d_24[0][0]                  \n",
      "__________________________________________________________________________________________________\n",
      "dropout_25 (Dropout)            (None, 249, 16)      0           conv1d_25[0][0]                  \n",
      "__________________________________________________________________________________________________\n",
      "dropout_26 (Dropout)            (None, 249, 16)      0           conv1d_26[0][0]                  \n",
      "__________________________________________________________________________________________________\n",
      "dropout_27 (Dropout)            (None, 249, 16)      0           conv1d_27[0][0]                  \n",
      "__________________________________________________________________________________________________\n",
      "dropout_28 (Dropout)            (None, 249, 16)      0           conv1d_28[0][0]                  \n",
      "__________________________________________________________________________________________________\n",
      "dropout_29 (Dropout)            (None, 249, 16)      0           conv1d_29[0][0]                  \n",
      "__________________________________________________________________________________________________\n",
      "dropout_30 (Dropout)            (None, 249, 16)      0           conv1d_30[0][0]                  \n",
      "__________________________________________________________________________________________________\n",
      "dropout_31 (Dropout)            (None, 249, 16)      0           conv1d_31[0][0]                  \n",
      "__________________________________________________________________________________________________\n",
      "dropout_32 (Dropout)            (None, 249, 16)      0           conv1d_32[0][0]                  \n",
      "__________________________________________________________________________________________________\n",
      "dropout_33 (Dropout)            (None, 249, 16)      0           conv1d_33[0][0]                  \n",
      "__________________________________________________________________________________________________\n",
      "dropout_34 (Dropout)            (None, 249, 16)      0           conv1d_34[0][0]                  \n",
      "__________________________________________________________________________________________________\n",
      "dropout_35 (Dropout)            (None, 249, 16)      0           conv1d_35[0][0]                  \n",
      "__________________________________________________________________________________________________\n",
      "dropout_36 (Dropout)            (None, 249, 16)      0           conv1d_36[0][0]                  \n",
      "__________________________________________________________________________________________________\n",
      "dropout_37 (Dropout)            (None, 249, 16)      0           conv1d_37[0][0]                  \n",
      "__________________________________________________________________________________________________\n",
      "dropout_38 (Dropout)            (None, 249, 16)      0           conv1d_38[0][0]                  \n",
      "__________________________________________________________________________________________________\n",
      "dropout_39 (Dropout)            (None, 249, 16)      0           conv1d_39[0][0]                  \n",
      "__________________________________________________________________________________________________\n",
      "dropout_40 (Dropout)            (None, 249, 16)      0           conv1d_40[0][0]                  \n",
      "__________________________________________________________________________________________________\n",
      "average_pooling1d_21 (AveragePo (None, 62, 16)       0           dropout_21[0][0]                 \n",
      "__________________________________________________________________________________________________\n",
      "average_pooling1d_22 (AveragePo (None, 62, 16)       0           dropout_22[0][0]                 \n",
      "__________________________________________________________________________________________________\n",
      "average_pooling1d_23 (AveragePo (None, 62, 16)       0           dropout_23[0][0]                 \n",
      "__________________________________________________________________________________________________\n",
      "average_pooling1d_24 (AveragePo (None, 62, 16)       0           dropout_24[0][0]                 \n",
      "__________________________________________________________________________________________________\n",
      "average_pooling1d_25 (AveragePo (None, 62, 16)       0           dropout_25[0][0]                 \n",
      "__________________________________________________________________________________________________\n",
      "average_pooling1d_26 (AveragePo (None, 62, 16)       0           dropout_26[0][0]                 \n",
      "__________________________________________________________________________________________________\n",
      "average_pooling1d_27 (AveragePo (None, 62, 16)       0           dropout_27[0][0]                 \n",
      "__________________________________________________________________________________________________\n",
      "average_pooling1d_28 (AveragePo (None, 62, 16)       0           dropout_28[0][0]                 \n",
      "__________________________________________________________________________________________________\n",
      "average_pooling1d_29 (AveragePo (None, 62, 16)       0           dropout_29[0][0]                 \n",
      "__________________________________________________________________________________________________\n",
      "average_pooling1d_30 (AveragePo (None, 62, 16)       0           dropout_30[0][0]                 \n",
      "__________________________________________________________________________________________________\n",
      "average_pooling1d_31 (AveragePo (None, 62, 16)       0           dropout_31[0][0]                 \n",
      "__________________________________________________________________________________________________\n",
      "average_pooling1d_32 (AveragePo (None, 62, 16)       0           dropout_32[0][0]                 \n",
      "__________________________________________________________________________________________________\n",
      "average_pooling1d_33 (AveragePo (None, 62, 16)       0           dropout_33[0][0]                 \n",
      "__________________________________________________________________________________________________\n",
      "average_pooling1d_34 (AveragePo (None, 62, 16)       0           dropout_34[0][0]                 \n",
      "__________________________________________________________________________________________________\n",
      "average_pooling1d_35 (AveragePo (None, 62, 16)       0           dropout_35[0][0]                 \n",
      "__________________________________________________________________________________________________\n",
      "average_pooling1d_36 (AveragePo (None, 62, 16)       0           dropout_36[0][0]                 \n",
      "__________________________________________________________________________________________________\n",
      "average_pooling1d_37 (AveragePo (None, 62, 16)       0           dropout_37[0][0]                 \n",
      "__________________________________________________________________________________________________\n",
      "average_pooling1d_38 (AveragePo (None, 62, 16)       0           dropout_38[0][0]                 \n",
      "__________________________________________________________________________________________________\n",
      "average_pooling1d_39 (AveragePo (None, 62, 16)       0           dropout_39[0][0]                 \n",
      "__________________________________________________________________________________________________\n",
      "average_pooling1d_40 (AveragePo (None, 62, 16)       0           dropout_40[0][0]                 \n",
      "__________________________________________________________________________________________________\n",
      "flatten_21 (Flatten)            (None, 992)          0           average_pooling1d_21[0][0]       \n",
      "__________________________________________________________________________________________________\n",
      "flatten_22 (Flatten)            (None, 992)          0           average_pooling1d_22[0][0]       \n",
      "__________________________________________________________________________________________________\n",
      "flatten_23 (Flatten)            (None, 992)          0           average_pooling1d_23[0][0]       \n",
      "__________________________________________________________________________________________________\n",
      "flatten_24 (Flatten)            (None, 992)          0           average_pooling1d_24[0][0]       \n",
      "__________________________________________________________________________________________________\n",
      "flatten_25 (Flatten)            (None, 992)          0           average_pooling1d_25[0][0]       \n",
      "__________________________________________________________________________________________________\n",
      "flatten_26 (Flatten)            (None, 992)          0           average_pooling1d_26[0][0]       \n",
      "__________________________________________________________________________________________________\n",
      "flatten_27 (Flatten)            (None, 992)          0           average_pooling1d_27[0][0]       \n",
      "__________________________________________________________________________________________________\n",
      "flatten_28 (Flatten)            (None, 992)          0           average_pooling1d_28[0][0]       \n",
      "__________________________________________________________________________________________________\n",
      "flatten_29 (Flatten)            (None, 992)          0           average_pooling1d_29[0][0]       \n",
      "__________________________________________________________________________________________________\n",
      "flatten_30 (Flatten)            (None, 992)          0           average_pooling1d_30[0][0]       \n",
      "__________________________________________________________________________________________________\n",
      "flatten_31 (Flatten)            (None, 992)          0           average_pooling1d_31[0][0]       \n",
      "__________________________________________________________________________________________________\n",
      "flatten_32 (Flatten)            (None, 992)          0           average_pooling1d_32[0][0]       \n",
      "__________________________________________________________________________________________________\n",
      "flatten_33 (Flatten)            (None, 992)          0           average_pooling1d_33[0][0]       \n",
      "__________________________________________________________________________________________________\n",
      "flatten_34 (Flatten)            (None, 992)          0           average_pooling1d_34[0][0]       \n",
      "__________________________________________________________________________________________________\n",
      "flatten_35 (Flatten)            (None, 992)          0           average_pooling1d_35[0][0]       \n",
      "__________________________________________________________________________________________________\n",
      "flatten_36 (Flatten)            (None, 992)          0           average_pooling1d_36[0][0]       \n",
      "__________________________________________________________________________________________________\n",
      "flatten_37 (Flatten)            (None, 992)          0           average_pooling1d_37[0][0]       \n",
      "__________________________________________________________________________________________________\n",
      "flatten_38 (Flatten)            (None, 992)          0           average_pooling1d_38[0][0]       \n",
      "__________________________________________________________________________________________________\n",
      "flatten_39 (Flatten)            (None, 992)          0           average_pooling1d_39[0][0]       \n",
      "__________________________________________________________________________________________________\n",
      "flatten_40 (Flatten)            (None, 992)          0           average_pooling1d_40[0][0]       \n",
      "__________________________________________________________________________________________________\n",
      "concatenate_2 (Concatenate)     (None, 19840)        0           flatten_21[0][0]                 \n",
      "                                                                 flatten_22[0][0]                 \n",
      "                                                                 flatten_23[0][0]                 \n",
      "                                                                 flatten_24[0][0]                 \n",
      "                                                                 flatten_25[0][0]                 \n",
      "                                                                 flatten_26[0][0]                 \n",
      "                                                                 flatten_27[0][0]                 \n",
      "                                                                 flatten_28[0][0]                 \n",
      "                                                                 flatten_29[0][0]                 \n",
      "                                                                 flatten_30[0][0]                 \n",
      "                                                                 flatten_31[0][0]                 \n",
      "                                                                 flatten_32[0][0]                 \n",
      "                                                                 flatten_33[0][0]                 \n",
      "                                                                 flatten_34[0][0]                 \n",
      "                                                                 flatten_35[0][0]                 \n",
      "                                                                 flatten_36[0][0]                 \n",
      "                                                                 flatten_37[0][0]                 \n",
      "                                                                 flatten_38[0][0]                 \n",
      "                                                                 flatten_39[0][0]                 \n",
      "                                                                 flatten_40[0][0]                 \n",
      "__________________________________________________________________________________________________\n",
      "dense_3 (Dense)                 (None, 128)          2539648     concatenate_2[0][0]              \n",
      "__________________________________________________________________________________________________\n",
      "dense_4 (Dense)                 (None, 16)           2064        dense_3[0][0]                    \n",
      "==================================================================================================\n",
      "Total params: 4,508,112\n",
      "Trainable params: 4,508,112\n",
      "Non-trainable params: 0\n",
      "__________________________________________________________________________________________________\n",
      "None\n"
     ]
    }
   ],
   "source": [
    "model5 = define_model3()"
   ]
  },
  {
   "cell_type": "code",
   "execution_count": 44,
   "metadata": {},
   "outputs": [
    {
     "name": "stdout",
     "output_type": "stream",
     "text": [
      "Train on 9676 samples, validate on 1076 samples\n",
      "Epoch 1/8\n",
      "9676/9676 [==============================] - 386s 40ms/step - loss: 0.5397 - get_f1: 0.6130 - val_loss: 0.5189 - val_get_f1: 0.6459\n",
      "Epoch 2/8\n",
      "9676/9676 [==============================] - 383s 40ms/step - loss: 0.5001 - get_f1: 0.6652 - val_loss: 0.5076 - val_get_f1: 0.6620\n",
      "Epoch 3/8\n",
      "9676/9676 [==============================] - 384s 40ms/step - loss: 0.4831 - get_f1: 0.6835 - val_loss: 0.4999 - val_get_f1: 0.6619\n",
      "Epoch 4/8\n",
      "9676/9676 [==============================] - 385s 40ms/step - loss: 0.4656 - get_f1: 0.7013 - val_loss: 0.5112 - val_get_f1: 0.6563\n",
      "Epoch 5/8\n",
      "9676/9676 [==============================] - 380s 39ms/step - loss: 0.4497 - get_f1: 0.7147 - val_loss: 0.5112 - val_get_f1: 0.6495\n",
      "Epoch 6/8\n",
      "9676/9676 [==============================] - 386s 40ms/step - loss: 0.4285 - get_f1: 0.7332 - val_loss: 0.5186 - val_get_f1: 0.6596\n",
      "Epoch 7/8\n",
      "9676/9676 [==============================] - 385s 40ms/step - loss: 0.4056 - get_f1: 0.7496 - val_loss: 0.5323 - val_get_f1: 0.6588\n",
      "Epoch 8/8\n",
      "9676/9676 [==============================] - 381s 39ms/step - loss: 0.3831 - get_f1: 0.7699 - val_loss: 0.5519 - val_get_f1: 0.6342\n"
     ]
    }
   ],
   "source": [
    "history5 = model5.fit([X_train2[:,i] for i in range(20)], \n",
    "                      y_train2, epochs=8, batch_size=32, verbose=1, validation_split=0.1)"
   ]
  },
  {
   "cell_type": "code",
   "execution_count": 45,
   "metadata": {},
   "outputs": [
    {
     "name": "stdout",
     "output_type": "stream",
     "text": [
      "2689/2689 [==============================] - 79s 29ms/step\n",
      "Test Score: 0.5448296156546669\n",
      "Test F1: 0.6483700275421143\n"
     ]
    }
   ],
   "source": [
    "score = model5.evaluate([X_test2[:,0], X_test2[:,1], X_test2[:,2], X_test2[:,3], X_test2[:,4], X_test2[:,5], X_test2[:,6], X_test2[:,7], X_test2[:,8], \n",
    "                         X_test2[:,9], X_test2[:,10], X_test2[:,11], X_test2[:,12], X_test2[:,13], X_test2[:,14], X_test2[:,15], X_test2[:,16], \n",
    "                         X_test2[:,17], X_test2[:,18], X_test2[:,19]], y_test2, verbose=1)\n",
    "\n",
    "print(\"Test Score:\", score[0])\n",
    "print(\"Test F1:\", score[1])"
   ]
  },
  {
   "cell_type": "code",
   "execution_count": 47,
   "metadata": {},
   "outputs": [],
   "source": [
    "model_json = model5.to_json()\n",
    "\n",
    "with open(\"model_multichannel2.json\", \"w\") as json_file:\n",
    "    json_file.write(model_json)\n",
    "\n",
    "# serialize weights to HDF5\n",
    "model5.save_weights(\"model_multichannel2.h5\")"
   ]
  },
  {
   "cell_type": "code",
   "execution_count": null,
   "metadata": {},
   "outputs": [],
   "source": [
    "model6 = None\n",
    "help(Conv1D)"
   ]
  },
  {
   "cell_type": "code",
   "execution_count": 105,
   "metadata": {},
   "outputs": [],
   "source": [
    "# define the model\n",
    "def define_model4():\n",
    "    # channel\n",
    "    def channel(inputs):\n",
    "        conv1 = Conv1D(filters=16, kernel_size=32, activation='relu')(inputs)\n",
    "        drop1 = Dropout(0.5)(conv1)\n",
    "        pool1 = AveragePooling1D(pool_size=4)(drop1)\n",
    "        return Flatten()(pool1)\n",
    "    #Input Channel\n",
    "    input1 = Input(shape=(20*256,768))\n",
    "    input2 = Input(shape=(20*256,768))\n",
    "    input3 = Input(shape=(20*256,768))\n",
    "    input4 = Input(shape=(20*256,768))\n",
    "    \n",
    "    #flat layer\n",
    "    flat1 = channel(input1)\n",
    "    flat2 = channel(input2)\n",
    "    flat3 = channel(input3)\n",
    "    flat4 = channel(input4)\n",
    "\n",
    "    merged = concatenate([flat1, flat2, flat3, flat4])\n",
    "    # interpretation\n",
    "    dense1 = Dense(128, activation='relu')(merged)\n",
    "    drop2 = Dropout(0.3)(dense1)\n",
    "    outputs = Dense(16, activation='sigmoid')(dense1)\n",
    "    \n",
    "    model = Model(inputs=[input1, input2, input3, input4], outputs=outputs)\n",
    "    # compile\n",
    "    opt = keras.optimizers.Adam(lr=0.001)\n",
    "    model.compile(loss=f1_loss, optimizer=opt, metrics=[get_f1])\n",
    "    # summarize\n",
    "    print(model.summary())\n",
    "    #plot_model(model, show_shapes=True, to_file='multichannel.png')\n",
    "    return model"
   ]
  },
  {
   "cell_type": "code",
   "execution_count": 106,
   "metadata": {},
   "outputs": [
    {
     "name": "stdout",
     "output_type": "stream",
     "text": [
      "Model: \"model_23\"\n",
      "__________________________________________________________________________________________________\n",
      "Layer (type)                    Output Shape         Param #     Connected to                     \n",
      "==================================================================================================\n",
      "input_50 (InputLayer)           (None, 5120, 768)    0                                            \n",
      "__________________________________________________________________________________________________\n",
      "input_51 (InputLayer)           (None, 5120, 768)    0                                            \n",
      "__________________________________________________________________________________________________\n",
      "input_52 (InputLayer)           (None, 5120, 768)    0                                            \n",
      "__________________________________________________________________________________________________\n",
      "input_53 (InputLayer)           (None, 5120, 768)    0                                            \n",
      "__________________________________________________________________________________________________\n",
      "conv1d_43 (Conv1D)              (None, 633, 16)      786448      input_50[0][0]                   \n",
      "__________________________________________________________________________________________________\n",
      "conv1d_44 (Conv1D)              (None, 633, 16)      786448      input_51[0][0]                   \n",
      "__________________________________________________________________________________________________\n",
      "conv1d_45 (Conv1D)              (None, 633, 16)      786448      input_52[0][0]                   \n",
      "__________________________________________________________________________________________________\n",
      "conv1d_46 (Conv1D)              (None, 633, 16)      786448      input_53[0][0]                   \n",
      "__________________________________________________________________________________________________\n",
      "dropout_47 (Dropout)            (None, 633, 16)      0           conv1d_43[0][0]                  \n",
      "__________________________________________________________________________________________________\n",
      "dropout_48 (Dropout)            (None, 633, 16)      0           conv1d_44[0][0]                  \n",
      "__________________________________________________________________________________________________\n",
      "dropout_49 (Dropout)            (None, 633, 16)      0           conv1d_45[0][0]                  \n",
      "__________________________________________________________________________________________________\n",
      "dropout_50 (Dropout)            (None, 633, 16)      0           conv1d_46[0][0]                  \n",
      "__________________________________________________________________________________________________\n",
      "average_pooling1d_43 (AveragePo (None, 158, 16)      0           dropout_47[0][0]                 \n",
      "__________________________________________________________________________________________________\n",
      "average_pooling1d_44 (AveragePo (None, 158, 16)      0           dropout_48[0][0]                 \n",
      "__________________________________________________________________________________________________\n",
      "average_pooling1d_45 (AveragePo (None, 158, 16)      0           dropout_49[0][0]                 \n",
      "__________________________________________________________________________________________________\n",
      "average_pooling1d_46 (AveragePo (None, 158, 16)      0           dropout_50[0][0]                 \n",
      "__________________________________________________________________________________________________\n",
      "flatten_38 (Flatten)            (None, 2528)         0           average_pooling1d_43[0][0]       \n",
      "__________________________________________________________________________________________________\n",
      "flatten_39 (Flatten)            (None, 2528)         0           average_pooling1d_44[0][0]       \n",
      "__________________________________________________________________________________________________\n",
      "flatten_40 (Flatten)            (None, 2528)         0           average_pooling1d_45[0][0]       \n",
      "__________________________________________________________________________________________________\n",
      "flatten_41 (Flatten)            (None, 2528)         0           average_pooling1d_46[0][0]       \n",
      "__________________________________________________________________________________________________\n",
      "concatenate_8 (Concatenate)     (None, 10112)        0           flatten_38[0][0]                 \n",
      "                                                                 flatten_39[0][0]                 \n",
      "                                                                 flatten_40[0][0]                 \n",
      "                                                                 flatten_41[0][0]                 \n",
      "__________________________________________________________________________________________________\n",
      "dense_47 (Dense)                (None, 128)          1294464     concatenate_8[0][0]              \n",
      "__________________________________________________________________________________________________\n",
      "dense_48 (Dense)                (None, 16)           2064        dense_47[0][0]                   \n",
      "==================================================================================================\n",
      "Total params: 4,442,320\n",
      "Trainable params: 4,442,320\n",
      "Non-trainable params: 0\n",
      "__________________________________________________________________________________________________\n",
      "None\n"
     ]
    }
   ],
   "source": [
    "model6 = define_model4()"
   ]
  },
  {
   "cell_type": "code",
   "execution_count": 107,
   "metadata": {},
   "outputs": [
    {
     "name": "stdout",
     "output_type": "stream",
     "text": [
      "Train on 9676 samples, validate on 1076 samples\n",
      "Epoch 1/2\n",
      "9676/9676 [==============================] - 1803s 186ms/step - loss: 0.4289 - get_f1: 0.5994 - val_loss: 0.4329 - val_get_f1: 0.5949\n",
      "Epoch 2/2\n",
      "9676/9676 [==============================] - 1783s 184ms/step - loss: 0.4659 - get_f1: 0.5822 - val_loss: 0.4867 - val_get_f1: 0.5578\n"
     ]
    }
   ],
   "source": [
    "history6 = model6.fit([X_train2 for i in range(4)], \n",
    "                      y_train2, epochs=2, batch_size=32, verbose=1, validation_split=0.1)"
   ]
  },
  {
   "cell_type": "code",
   "execution_count": 108,
   "metadata": {},
   "outputs": [
    {
     "name": "stdout",
     "output_type": "stream",
     "text": [
      "2689/2689 [==============================] - 349s 130ms/step\n",
      "Test Score: 0.4708817114658008\n",
      "Test F1: 0.5768540501594543\n"
     ]
    }
   ],
   "source": [
    "score = model6.evaluate([X_test2 for i in range(4)], y_test2, verbose=1)\n",
    "\n",
    "print(\"Test Score:\", score[0])\n",
    "print(\"Test F1:\", score[1])"
   ]
  },
  {
   "cell_type": "code",
   "execution_count": null,
   "metadata": {},
   "outputs": [],
   "source": []
  }
 ],
 "metadata": {
  "kernelspec": {
   "display_name": "conda_amazonei_tensorflow2_p36",
   "language": "python",
   "name": "conda_amazonei_tensorflow2_p36"
  },
  "language_info": {
   "codemirror_mode": {
    "name": "ipython",
    "version": 3
   },
   "file_extension": ".py",
   "mimetype": "text/x-python",
   "name": "python",
   "nbconvert_exporter": "python",
   "pygments_lexer": "ipython3",
   "version": "3.6.10"
  }
 },
 "nbformat": 4,
 "nbformat_minor": 4
}
