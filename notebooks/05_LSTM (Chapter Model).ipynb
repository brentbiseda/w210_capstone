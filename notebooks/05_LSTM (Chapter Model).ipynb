{
 "cells": [
  {
   "cell_type": "code",
   "execution_count": 40,
   "metadata": {},
   "outputs": [],
   "source": [
    "import pandas as pd\n",
    "#import torch\n",
    "#from transformers import AutoTokenizer, AutoModel\n",
    "#import re\n",
    "#import string\n",
    "import numpy as np\n",
    "#from nltk.corpus import stopwords \n",
    "#from nltk.stem import WordNetLemmatizer\n",
    "#from nltk.stem import LancasterStemmer\n",
    "#from simpletransformers.classification import MultiLabelClassificationModel\n",
    "#import logging\n",
    "#import custom_sentence_tokenizer\n",
    "import matplotlib.pyplot as plt\n",
    "#from scipy import stats\n",
    "#from ast import literal_eval\n",
    "import pickle\n",
    "from keras.preprocessing.sequence import pad_sequences\n",
    "import keras.backend as K\n",
    "import keras\n",
    "import tensorflow as tf"
   ]
  },
  {
   "cell_type": "code",
   "execution_count": 41,
   "metadata": {},
   "outputs": [],
   "source": [
    "#from numpy import array\n",
    "from keras.preprocessing.text import one_hot\n",
    "from keras.preprocessing.sequence import pad_sequences\n",
    "from keras.models import Sequential\n",
    "from keras.layers.core import Activation, Dropout, Dense\n",
    "from keras.layers import Flatten, LSTM, Reshape\n",
    "from keras.layers import GlobalMaxPooling1D\n",
    "from keras.models import Model\n",
    "from keras.layers.embeddings import Embedding\n",
    "from sklearn.model_selection import train_test_split\n",
    "from keras.preprocessing.text import Tokenizer\n",
    "from keras.layers import Input\n",
    "from keras.layers.merge import Concatenate\n",
    "#from sklearn.decomposition import PCA\n",
    "import _pickle as cPickle\n",
    "import io\n",
    "import time\n",
    "import boto3\n",
    "from boto3.s3.transfer import TransferConfig"
   ]
  },
  {
   "cell_type": "code",
   "execution_count": 42,
   "metadata": {},
   "outputs": [],
   "source": [
    "def get_f1(y_true, y_pred): #taken from old keras source code\n",
    "    true_positives = K.sum(K.round(K.clip(y_true * y_pred, 0, 1)))\n",
    "    possible_positives = K.sum(K.round(K.clip(y_true, 0, 1)))\n",
    "    predicted_positives = K.sum(K.round(K.clip(y_pred, 0, 1)))\n",
    "    precision = true_positives / (predicted_positives + K.epsilon())\n",
    "    recall = true_positives / (possible_positives + K.epsilon())\n",
    "    f1_val = 2*(precision*recall)/(precision+recall+K.epsilon())\n",
    "    return f1_val"
   ]
  },
  {
   "cell_type": "code",
   "execution_count": 43,
   "metadata": {},
   "outputs": [],
   "source": [
    "def LoadFromS3(i):\n",
    "    # https://w210-mimic.s3.amazonaws.com/embeddings1\n",
    "    now = time.time()\n",
    "    print(\"Starting Load for File\",i)\n",
    "    embeddings = {}\n",
    "    session = boto3.session.Session(region_name='us-east-1')\n",
    "    s3client = session.client('s3')\n",
    "    response = s3client.get_object(Bucket='w210-mimic', Key=i)\n",
    "    body_string = response['Body'].read()\n",
    "    embeddings.update(cPickle.loads(body_string))\n",
    "    with open(i, 'wb') as handle:\n",
    "        pickle.dump(embeddings, handle, protocol=pickle.HIGHEST_PROTOCOL)\n",
    "    print(\"File Loaded in:\", time.time()-now)\n",
    "    \n",
    "    return embeddings"
   ]
  },
  {
   "cell_type": "code",
   "execution_count": 44,
   "metadata": {},
   "outputs": [],
   "source": [
    "def SaveToS3(file, name):\n",
    "    # https://w210-mimic.s3.amazonaws.com/embeddings1\n",
    "    now = time.time()\n",
    "    print(\"Starting Write for File\", name)\n",
    "    file = file.to_json()\n",
    "    file.save(f'{name}.h5')\n",
    "    session = boto3.session.Session(region_name='us-east-1')\n",
    "    s3 = boto3.resource('s3')\n",
    "    object = s3.Object('w210-mimic', name)\n",
    "    object.put(Body=file)\n",
    "\n",
    "    print(\"File Saved in:\", time.time()-now)\n",
    "    \n",
    "    return"
   ]
  },
  {
   "cell_type": "code",
   "execution_count": 45,
   "metadata": {},
   "outputs": [],
   "source": [
    "deep_inputs = Input(shape=(3840,768))\n",
    "LSTM_Layer_1 = LSTM(128)(deep_inputs)\n",
    "dense_layer_1 = Dense(16, activation='sigmoid')(LSTM_Layer_1)\n",
    "opt = keras.optimizers.Adam(lr=0.0001)\n",
    "model = Model(inputs=deep_inputs, outputs=dense_layer_1)\n",
    "model.compile(loss='binary_crossentropy', optimizer=opt, metrics=[get_f1])"
   ]
  },
  {
   "cell_type": "code",
   "execution_count": 24,
   "metadata": {},
   "outputs": [],
   "source": [
    "# session = boto3.session.Session(region_name='us-east-1')\n",
    "# s3client = session.client('s3')\n",
    "# response = s3client.get_object(Bucket='w210-mimic', Key=\"brent_chapter_2_embeddings6\")\n",
    "# body_string = response['Body'].read()"
   ]
  },
  {
   "cell_type": "code",
   "execution_count": 26,
   "metadata": {},
   "outputs": [
    {
     "name": "stdout",
     "output_type": "stream",
     "text": [
      "WARNING:tensorflow:From /home/ec2-user/anaconda3/envs/tensorflow_p36/lib/python3.6/site-packages/tensorflow_core/python/ops/resource_variable_ops.py:1630: calling BaseResourceVariable.__init__ (from tensorflow.python.ops.resource_variable_ops) with constraint is deprecated and will be removed in a future version.\n",
      "Instructions for updating:\n",
      "If using Keras pass *_constraint arguments to layers.\n"
     ]
    }
   ],
   "source": [
    "# model = tf.keras.models.model_from_json(body_string)"
   ]
  },
  {
   "cell_type": "code",
   "execution_count": 46,
   "metadata": {},
   "outputs": [
    {
     "name": "stdout",
     "output_type": "stream",
     "text": [
      "WARNING:tensorflow:From /home/ec2-user/anaconda3/envs/tensorflow_p36/lib/python3.6/site-packages/keras/backend/tensorflow_backend.py:174: The name tf.get_default_session is deprecated. Please use tf.compat.v1.get_default_session instead.\n",
      "\n",
      "WARNING:tensorflow:From /home/ec2-user/anaconda3/envs/tensorflow_p36/lib/python3.6/site-packages/keras/backend/tensorflow_backend.py:184: The name tf.ConfigProto is deprecated. Please use tf.compat.v1.ConfigProto instead.\n",
      "\n",
      "WARNING:tensorflow:From /home/ec2-user/anaconda3/envs/tensorflow_p36/lib/python3.6/site-packages/keras/backend/tensorflow_backend.py:186: The name tf.Session is deprecated. Please use tf.compat.v1.Session instead.\n",
      "\n",
      "WARNING:tensorflow:From /home/ec2-user/anaconda3/envs/tensorflow_p36/lib/python3.6/site-packages/keras/backend/tensorflow_backend.py:190: The name tf.global_variables is deprecated. Please use tf.compat.v1.global_variables instead.\n",
      "\n",
      "WARNING:tensorflow:From /home/ec2-user/anaconda3/envs/tensorflow_p36/lib/python3.6/site-packages/keras/backend/tensorflow_backend.py:199: The name tf.is_variable_initialized is deprecated. Please use tf.compat.v1.is_variable_initialized instead.\n",
      "\n",
      "WARNING:tensorflow:From /home/ec2-user/anaconda3/envs/tensorflow_p36/lib/python3.6/site-packages/keras/backend/tensorflow_backend.py:206: The name tf.variables_initializer is deprecated. Please use tf.compat.v1.variables_initializer instead.\n",
      "\n"
     ]
    }
   ],
   "source": [
    "# Saving the Files Locally:\n",
    "\n",
    "model_json = model.to_json()\n",
    "\n",
    "with open(\"model_num.json\", \"w\") as json_file:\n",
    "    json_file.write(model_json)\n",
    "\n",
    "# serialize weights to HDF5\n",
    "model.save_weights(\"model_num.h5\")\n"
   ]
  },
  {
   "cell_type": "code",
   "execution_count": 48,
   "metadata": {},
   "outputs": [],
   "source": [
    "EPOCHS = 5"
   ]
  },
  {
   "cell_type": "code",
   "execution_count": null,
   "metadata": {},
   "outputs": [
    {
     "name": "stdout",
     "output_type": "stream",
     "text": [
      "Starting Load for File embeddings6\n",
      "File Loaded in: 731.976432800293\n",
      "Padding Embeddings:\n",
      "Training Epoch: 0 Embeddings: embeddings6\n",
      "WARNING:tensorflow:From /home/ec2-user/anaconda3/envs/tensorflow_p36/lib/python3.6/site-packages/keras/backend/tensorflow_backend.py:986: The name tf.assign_add is deprecated. Please use tf.compat.v1.assign_add instead.\n",
      "\n",
      "WARNING:tensorflow:From /home/ec2-user/anaconda3/envs/tensorflow_p36/lib/python3.6/site-packages/keras/backend/tensorflow_backend.py:973: The name tf.assign is deprecated. Please use tf.compat.v1.assign instead.\n",
      "\n",
      "Train on 2453 samples, validate on 273 samples\n",
      "Epoch 1/1\n",
      "2453/2453 [==============================] - 278s 113ms/step - loss: 0.6857 - get_f1: 0.5315 - val_loss: 0.6698 - val_get_f1: 0.5625\n",
      "Starting Load for File embeddings5\n",
      "File Loaded in: 3009.5957169532776\n",
      "Padding Embeddings:\n",
      "Training Epoch: 0 Embeddings: embeddings5\n",
      "Train on 9000 samples, validate on 1000 samples\n",
      "Epoch 1/1\n",
      "9000/9000 [==============================] - 1010s 112ms/step - loss: 0.6503 - get_f1: 0.6043 - val_loss: 0.6404 - val_get_f1: 0.6076\n",
      "Starting Load for File embeddings4\n",
      "File Loaded in: 2601.6787514686584\n",
      "Padding Embeddings:\n",
      "Training Epoch: 0 Embeddings: embeddings4\n",
      "Train on 9000 samples, validate on 1000 samples\n",
      "Epoch 1/1\n",
      "9000/9000 [==============================] - 1017s 113ms/step - loss: 0.6513 - get_f1: 0.5628 - val_loss: 0.6517 - val_get_f1: 0.5483\n",
      "Starting Load for File embeddings3\n",
      "File Loaded in: 2645.3368813991547\n",
      "Padding Embeddings:\n",
      "Training Epoch: 0 Embeddings: embeddings3\n",
      "Train on 9000 samples, validate on 1000 samples\n",
      "Epoch 1/1\n",
      "9000/9000 [==============================] - 1021s 113ms/step - loss: 0.6524 - get_f1: 0.5385 - val_loss: 0.6339 - val_get_f1: 0.5685\n",
      "Starting Load for File embeddings2\n",
      "File Loaded in: 2328.9552206993103\n",
      "Padding Embeddings:\n",
      "Training Epoch: 0 Embeddings: embeddings2\n",
      "Train on 9000 samples, validate on 1000 samples\n",
      "Epoch 1/1\n",
      "9000/9000 [==============================] - 1026s 114ms/step - loss: 0.5731 - get_f1: 0.5245 - val_loss: 0.5312 - val_get_f1: 0.5121\n",
      "Starting Load for File embeddings1\n",
      "File Loaded in: 2859.6714837551117\n",
      "Padding Embeddings:\n",
      "Training Epoch: 0 Embeddings: embeddings1\n",
      "Train on 9000 samples, validate on 1000 samples\n",
      "Epoch 1/1\n",
      "9000/9000 [==============================] - 1023s 114ms/step - loss: 0.5580 - get_f1: 0.5831 - val_loss: 0.5442 - val_get_f1: 0.5791\n",
      "Starting Load for File embeddings6\n",
      "File Loaded in: 808.097892999649\n",
      "Padding Embeddings:\n",
      "Training Epoch: 1 Embeddings: embeddings6\n",
      "Train on 2453 samples, validate on 273 samples\n",
      "Epoch 1/1\n",
      "2453/2453 [==============================] - 283s 116ms/step - loss: 0.5653 - get_f1: 0.5817 - val_loss: 0.5538 - val_get_f1: 0.5986\n",
      "Starting Load for File embeddings5\n",
      "File Loaded in: 2765.625790834427\n",
      "Padding Embeddings:\n",
      "Training Epoch: 1 Embeddings: embeddings5\n",
      "Train on 9000 samples, validate on 1000 samples\n",
      "Epoch 1/1\n",
      "9000/9000 [==============================] - 1022s 114ms/step - loss: 0.5581 - get_f1: 0.6023 - val_loss: 0.5638 - val_get_f1: 0.5978\n",
      "Starting Load for File embeddings4\n",
      "File Loaded in: 2705.988159418106\n",
      "Padding Embeddings:\n",
      "Training Epoch: 1 Embeddings: embeddings4\n",
      "Train on 9000 samples, validate on 1000 samples\n",
      "Epoch 1/1\n",
      "9000/9000 [==============================] - 1035s 115ms/step - loss: 0.5619 - get_f1: 0.5652 - val_loss: 0.5698 - val_get_f1: 0.5584\n",
      "Starting Load for File embeddings3\n",
      "File Loaded in: 2378.664042234421\n",
      "Padding Embeddings:\n",
      "Training Epoch: 1 Embeddings: embeddings3\n",
      "Train on 9000 samples, validate on 1000 samples\n",
      "Epoch 1/1\n",
      "9000/9000 [==============================] - 1023s 114ms/step - loss: 0.5497 - get_f1: 0.5447 - val_loss: 0.5711 - val_get_f1: 0.5371\n",
      "Starting Load for File embeddings2\n",
      "File Loaded in: 2404.3555929660797\n",
      "Padding Embeddings:\n",
      "Training Epoch: 1 Embeddings: embeddings2\n",
      "Train on 9000 samples, validate on 1000 samples\n",
      "Epoch 1/1\n",
      "9000/9000 [==============================] - 1024s 114ms/step - loss: 0.5290 - get_f1: 0.5174 - val_loss: 0.5189 - val_get_f1: 0.5275\n",
      "Starting Load for File embeddings1\n",
      "File Loaded in: 2859.3154077529907\n",
      "Padding Embeddings:\n",
      "Training Epoch: 1 Embeddings: embeddings1\n",
      "Train on 9000 samples, validate on 1000 samples\n",
      "Epoch 1/1\n",
      "9000/9000 [==============================] - 1028s 114ms/step - loss: 0.5555 - get_f1: 0.5872 - val_loss: 0.5413 - val_get_f1: 0.5852\n",
      "Starting Load for File embeddings6\n",
      "File Loaded in: 722.8558385372162\n",
      "Padding Embeddings:\n",
      "Training Epoch: 2 Embeddings: embeddings6\n",
      "Train on 2453 samples, validate on 273 samples\n",
      "Epoch 1/1\n",
      "2453/2453 [==============================] - 286s 117ms/step - loss: 0.5622 - get_f1: 0.5978 - val_loss: 0.5509 - val_get_f1: 0.6097\n",
      "Starting Load for File embeddings5\n",
      "File Loaded in: 2707.2956125736237\n",
      "Padding Embeddings:\n",
      "Training Epoch: 2 Embeddings: embeddings5\n",
      "Train on 9000 samples, validate on 1000 samples\n",
      "Epoch 1/1\n",
      "9000/9000 [==============================] - 1030s 114ms/step - loss: 0.5555 - get_f1: 0.6055 - val_loss: 0.5618 - val_get_f1: 0.6019\n",
      "Starting Load for File embeddings4\n",
      "File Loaded in: 2490.6302514076233\n",
      "Padding Embeddings:\n",
      "Training Epoch: 2 Embeddings: embeddings4\n",
      "Train on 9000 samples, validate on 1000 samples\n",
      "Epoch 1/1\n",
      "9000/9000 [==============================] - 1041s 116ms/step - loss: 0.5600 - get_f1: 0.5683 - val_loss: 0.5676 - val_get_f1: 0.5712\n",
      "Starting Load for File embeddings3\n",
      "File Loaded in: 2628.399621963501\n",
      "Padding Embeddings:\n",
      "Training Epoch: 2 Embeddings: embeddings3\n",
      "Train on 9000 samples, validate on 1000 samples\n",
      "Epoch 1/1\n",
      "9000/9000 [==============================] - 1014s 113ms/step - loss: 0.5480 - get_f1: 0.5543 - val_loss: 0.5686 - val_get_f1: 0.5830\n",
      "Starting Load for File embeddings2\n",
      "File Loaded in: 2600.502964258194\n",
      "Padding Embeddings:\n",
      "Training Epoch: 2 Embeddings: embeddings2\n",
      "Train on 9000 samples, validate on 1000 samples\n",
      "Epoch 1/1\n",
      "9000/9000 [==============================] - 1029s 114ms/step - loss: 0.5268 - get_f1: 0.5421 - val_loss: 0.5171 - val_get_f1: 0.5314\n",
      "Starting Load for File embeddings1\n",
      "File Loaded in: 2538.5323741436005\n",
      "Padding Embeddings:\n",
      "Training Epoch: 2 Embeddings: embeddings1\n",
      "Train on 9000 samples, validate on 1000 samples\n",
      "Epoch 1/1\n",
      "9000/9000 [==============================] - 1023s 114ms/step - loss: 0.5549 - get_f1: 0.5896 - val_loss: 0.5406 - val_get_f1: 0.5904\n",
      "Starting Load for File embeddings6\n",
      "File Loaded in: 818.806937456131\n",
      "Padding Embeddings:\n",
      "Training Epoch: 3 Embeddings: embeddings6\n",
      "Train on 2453 samples, validate on 273 samples\n",
      "Epoch 1/1\n",
      "2453/2453 [==============================] - 282s 115ms/step - loss: 0.5618 - get_f1: 0.6011 - val_loss: 0.5500 - val_get_f1: 0.6125\n",
      "Starting Load for File embeddings5\n",
      "File Loaded in: 2718.874099254608\n",
      "Padding Embeddings:\n",
      "Training Epoch: 3 Embeddings: embeddings5\n",
      "Train on 9000 samples, validate on 1000 samples\n",
      "Epoch 1/1\n",
      "9000/9000 [==============================] - 1030s 114ms/step - loss: 0.5542 - get_f1: 0.6081 - val_loss: 0.5608 - val_get_f1: 0.6053\n",
      "Starting Load for File embeddings4\n",
      "File Loaded in: 2759.0960927009583\n",
      "Padding Embeddings:\n",
      "Training Epoch: 3 Embeddings: embeddings4\n",
      "Train on 9000 samples, validate on 1000 samples\n",
      "Epoch 1/1\n",
      "9000/9000 [==============================] - 1041s 116ms/step - loss: 0.5586 - get_f1: 0.5702 - val_loss: 0.5669 - val_get_f1: 0.5664\n",
      "Starting Load for File embeddings3\n",
      "File Loaded in: 2638.6712605953217\n",
      "Padding Embeddings:\n",
      "Training Epoch: 3 Embeddings: embeddings3\n",
      "Train on 9000 samples, validate on 1000 samples\n",
      "Epoch 1/1\n",
      "9000/9000 [==============================] - 1030s 114ms/step - loss: 0.5468 - get_f1: 0.5547 - val_loss: 0.5670 - val_get_f1: 0.5845\n",
      "Starting Load for File embeddings2\n",
      "File Loaded in: 2398.035386800766\n",
      "Padding Embeddings:\n",
      "Training Epoch: 3 Embeddings: embeddings2\n",
      "Train on 9000 samples, validate on 1000 samples\n",
      "Epoch 1/1\n",
      "9000/9000 [==============================] - 1041s 116ms/step - loss: 0.5258 - get_f1: 0.5444 - val_loss: 0.5160 - val_get_f1: 0.5328\n",
      "Starting Load for File embeddings1\n",
      "File Loaded in: 2582.42915558815\n",
      "Padding Embeddings:\n",
      "Training Epoch: 3 Embeddings: embeddings1\n",
      "Train on 9000 samples, validate on 1000 samples\n",
      "Epoch 1/1\n",
      "9000/9000 [==============================] - 1033s 115ms/step - loss: 0.5532 - get_f1: 0.5926 - val_loss: 0.5402 - val_get_f1: 0.5903\n",
      "Starting Load for File embeddings6\n",
      "File Loaded in: 724.0421025753021\n",
      "Padding Embeddings:\n",
      "Training Epoch: 4 Embeddings: embeddings6\n",
      "Train on 2453 samples, validate on 273 samples\n",
      "Epoch 1/1\n",
      "2453/2453 [==============================] - 281s 114ms/step - loss: 0.5610 - get_f1: 0.6046 - val_loss: 0.5493 - val_get_f1: 0.6128\n",
      "Starting Load for File embeddings5\n",
      "File Loaded in: 2823.2734911441803\n",
      "Padding Embeddings:\n",
      "Training Epoch: 4 Embeddings: embeddings5\n",
      "Train on 9000 samples, validate on 1000 samples\n",
      "Epoch 1/1\n",
      "9000/9000 [==============================] - 1033s 115ms/step - loss: 0.5531 - get_f1: 0.6105 - val_loss: 0.5599 - val_get_f1: 0.6075\n",
      "Starting Load for File embeddings4\n"
     ]
    }
   ],
   "source": [
    "for epoch in range(EPOCHS):\n",
    "    for i in ['embeddings6', 'embeddings5', 'embeddings4', 'embeddings3', 'embeddings2', 'embeddings1']:\n",
    "        data = LoadFromS3(i)\n",
    "        \n",
    "        data = np.array(list(data.items()))\n",
    "        HADM_ID_LIST = data[:,0]\n",
    "        data = data[:,1]\n",
    "\n",
    "        data = [np.float16(np.concatenate(i[:30])) for i in data]\n",
    "\n",
    "        embeddings_padded = []\n",
    "        \n",
    "        print(\"Padding Embeddings:\")\n",
    "        for j in data:\n",
    "            pad_len = 3840 - len(j)\n",
    "            if pad_len:\n",
    "                embeddings_padded.append(np.append(j, np.zeros(pad_len*768, dtype=np.float16).reshape(pad_len, 768), axis=0))\n",
    "            else:\n",
    "                embeddings_padded.append(j)\n",
    "        \n",
    "        del(data)\n",
    "        embeddings_padded = np.float16(embeddings_padded)\n",
    "        embeddings_padded = np.array(embeddings_padded, dtype=np.float16)\n",
    "\n",
    "        CHAPTER_PIVOT_DF = pd.read_csv('s3://w210-mimic/data/chapter_label.csv', sep=',', header = 0)\\\n",
    "                        .astype({'HADM_ID': 'str'}).set_index('HADM_ID')\n",
    "\n",
    "        EMBEDDINGS_CHAPTER_PIVOT_DF = pd.DataFrame(data=list(zip(HADM_ID_LIST, embeddings_padded)), columns=['HADM_ID', 'embeddings']).set_index('HADM_ID')\\\n",
    "                    .join(CHAPTER_PIVOT_DF, how='left')\n",
    "        EMBEDDINGS_CHAPTER_PIVOT_DF = EMBEDDINGS_CHAPTER_PIVOT_DF.fillna(0)\n",
    "        EMBEDDINGS_CHAPTER_PIVOT_DF = EMBEDDINGS_CHAPTER_PIVOT_DF.iloc[:,1:]\n",
    "        EMBEDDINGS_CHAPTER_PIVOT_NP = np.array(EMBEDDINGS_CHAPTER_PIVOT_DF)\n",
    "        del(EMBEDDINGS_CHAPTER_PIVOT_DF)\n",
    "\n",
    "        print(\"Training Epoch:\", epoch, \"Embeddings:\",i)\n",
    "        history = model.fit(embeddings_padded, EMBEDDINGS_CHAPTER_PIVOT_NP, epochs=1, batch_size=256, verbose=1, validation_split=0.1)\n",
    "        model.save(f\"model_{epoch}_{i}.hdr\")\n"
   ]
  },
  {
   "cell_type": "markdown",
   "metadata": {},
   "source": [
    "# Upload Final Model & Weights to S3"
   ]
  },
  {
   "cell_type": "code",
   "execution_count": 52,
   "metadata": {},
   "outputs": [
    {
     "data": {
      "text/plain": [
       "4"
      ]
     },
     "execution_count": 52,
     "metadata": {},
     "output_type": "execute_result"
    }
   ],
   "source": [
    "2+2"
   ]
  },
  {
   "cell_type": "markdown",
   "metadata": {},
   "source": [
    "# Cells Below are for Debugging & Legacy"
   ]
  },
  {
   "cell_type": "code",
   "execution_count": 51,
   "metadata": {},
   "outputs": [
    {
     "data": {
      "text/plain": [
       "4"
      ]
     },
     "execution_count": 51,
     "metadata": {},
     "output_type": "execute_result"
    }
   ],
   "source": [
    "2+2"
   ]
  },
  {
   "cell_type": "code",
   "execution_count": null,
   "metadata": {},
   "outputs": [],
   "source": []
  }
 ],
 "metadata": {
  "kernelspec": {
   "display_name": "conda_tensorflow_p36",
   "language": "python",
   "name": "conda_tensorflow_p36"
  },
  "language_info": {
   "codemirror_mode": {
    "name": "ipython",
    "version": 3
   },
   "file_extension": ".py",
   "mimetype": "text/x-python",
   "name": "python",
   "nbconvert_exporter": "python",
   "pygments_lexer": "ipython3",
   "version": "3.6.10"
  }
 },
 "nbformat": 4,
 "nbformat_minor": 4
}
